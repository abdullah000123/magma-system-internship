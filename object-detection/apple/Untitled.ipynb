{
 "cells": [
  {
   "cell_type": "code",
   "execution_count": 2,
   "id": "68b2df1d-cb38-4226-b0c6-16f581708171",
   "metadata": {},
   "outputs": [
    {
     "name": "stdout",
     "output_type": "stream",
     "text": [
      "True\n",
      "PYTORCH_CUDA_ALLOC_CONF: max_split_size_mb:128\n",
      "New https://pypi.org/project/ultralytics/8.3.26 available 😃 Update with 'pip install -U ultralytics'\n",
      "\u001b[34m\u001b[1mengine/trainer: \u001b[0mtask=detect, mode=train, model=yolov8n.pt, data=data2.yaml, epochs=120, time=None, patience=100, batch=16, imgsz=640, save=True, save_period=-1, cache=False, device=cuda:0, workers=8, project=None, name=train25, exist_ok=False, pretrained=True, optimizer=auto, verbose=True, seed=0, deterministic=True, single_cls=False, rect=False, cos_lr=False, close_mosaic=10, resume=False, amp=False, fraction=1.0, profile=False, freeze=None, multi_scale=False, overlap_mask=True, mask_ratio=4, dropout=0.0, val=True, split=val, save_json=False, save_hybrid=False, conf=None, iou=0.7, max_det=300, half=False, dnn=False, plots=True, source=None, vid_stride=1, stream_buffer=False, visualize=False, augment=False, agnostic_nms=False, classes=None, retina_masks=False, embed=None, show=False, save_frames=False, save_txt=False, save_conf=False, save_crop=False, show_labels=True, show_conf=True, show_boxes=True, line_width=None, format=torchscript, keras=False, optimize=False, int8=False, dynamic=False, simplify=True, opset=None, workspace=4, nms=False, lr0=0.01, lrf=0.01, momentum=0.937, weight_decay=0.0005, warmup_epochs=3.0, warmup_momentum=0.8, warmup_bias_lr=0.1, box=7.5, cls=0.5, dfl=1.5, pose=12.0, kobj=1.0, label_smoothing=0.0, nbs=64, hsv_h=0.015, hsv_s=0.7, hsv_v=0.4, degrees=0.0, translate=0.1, scale=0.5, shear=0.0, perspective=0.0, flipud=0.0, fliplr=0.5, bgr=0.0, mosaic=1.0, mixup=0.0, copy_paste=0.0, copy_paste_mode=flip, auto_augment=randaugment, erasing=0.4, crop_fraction=1.0, cfg=None, tracker=botsort.yaml, save_dir=runs/detect/train25\n",
      "Overriding model.yaml nc=80 with nc=1\n",
      "\n",
      "                   from  n    params  module                                       arguments                     \n",
      "  0                  -1  1       464  ultralytics.nn.modules.conv.Conv             [3, 16, 3, 2]                 \n",
      "  1                  -1  1      4672  ultralytics.nn.modules.conv.Conv             [16, 32, 3, 2]                \n",
      "  2                  -1  1      7360  ultralytics.nn.modules.block.C2f             [32, 32, 1, True]             \n",
      "  3                  -1  1     18560  ultralytics.nn.modules.conv.Conv             [32, 64, 3, 2]                \n",
      "  4                  -1  2     49664  ultralytics.nn.modules.block.C2f             [64, 64, 2, True]             \n",
      "  5                  -1  1     73984  ultralytics.nn.modules.conv.Conv             [64, 128, 3, 2]               \n",
      "  6                  -1  2    197632  ultralytics.nn.modules.block.C2f             [128, 128, 2, True]           \n",
      "  7                  -1  1    295424  ultralytics.nn.modules.conv.Conv             [128, 256, 3, 2]              \n",
      "  8                  -1  1    460288  ultralytics.nn.modules.block.C2f             [256, 256, 1, True]           \n",
      "  9                  -1  1    164608  ultralytics.nn.modules.block.SPPF            [256, 256, 5]                 \n",
      " 10                  -1  1         0  torch.nn.modules.upsampling.Upsample         [None, 2, 'nearest']          \n",
      " 11             [-1, 6]  1         0  ultralytics.nn.modules.conv.Concat           [1]                           \n",
      " 12                  -1  1    148224  ultralytics.nn.modules.block.C2f             [384, 128, 1]                 \n",
      " 13                  -1  1         0  torch.nn.modules.upsampling.Upsample         [None, 2, 'nearest']          \n",
      " 14             [-1, 4]  1         0  ultralytics.nn.modules.conv.Concat           [1]                           \n",
      " 15                  -1  1     37248  ultralytics.nn.modules.block.C2f             [192, 64, 1]                  \n",
      " 16                  -1  1     36992  ultralytics.nn.modules.conv.Conv             [64, 64, 3, 2]                \n",
      " 17            [-1, 12]  1         0  ultralytics.nn.modules.conv.Concat           [1]                           \n",
      " 18                  -1  1    123648  ultralytics.nn.modules.block.C2f             [192, 128, 1]                 \n",
      " 19                  -1  1    147712  ultralytics.nn.modules.conv.Conv             [128, 128, 3, 2]              \n",
      " 20             [-1, 9]  1         0  ultralytics.nn.modules.conv.Concat           [1]                           \n",
      " 21                  -1  1    493056  ultralytics.nn.modules.block.C2f             [384, 256, 1]                 \n",
      " 22        [15, 18, 21]  1    751507  ultralytics.nn.modules.head.Detect           [1, [64, 128, 256]]           \n",
      "Model summary: 225 layers, 3,011,043 parameters, 3,011,027 gradients, 8.2 GFLOPs\n",
      "\n",
      "Transferred 319/355 items from pretrained weights\n",
      "Freezing layer 'model.22.dfl.conv.weight'\n"
     ]
    },
    {
     "name": "stderr",
     "output_type": "stream",
     "text": [
      "\u001b[34m\u001b[1mtrain: \u001b[0mScanning /root/workspace/object-detection/apple/appledata2/train/labels... 469 images, 0 backgrounds, 0 corrupt: 100%|██████████| 469/469 [00:00<00:00, 4072.60it/s]\u001b[0m"
     ]
    },
    {
     "name": "stdout",
     "output_type": "stream",
     "text": [
      "\u001b[34m\u001b[1mtrain: \u001b[0mNew cache created: /root/workspace/object-detection/apple/appledata2/train/labels.cache\n"
     ]
    },
    {
     "name": "stderr",
     "output_type": "stream",
     "text": [
      "\n",
      "\u001b[34m\u001b[1mval: \u001b[0mScanning /root/workspace/object-detection/apple/appledata2/valid/labels... 134 images, 0 backgrounds, 0 corrupt: 100%|██████████| 134/134 [00:00<00:00, 2749.42it/s]\u001b[0m"
     ]
    },
    {
     "name": "stdout",
     "output_type": "stream",
     "text": [
      "\u001b[34m\u001b[1mval: \u001b[0mNew cache created: /root/workspace/object-detection/apple/appledata2/valid/labels.cache\n"
     ]
    },
    {
     "name": "stderr",
     "output_type": "stream",
     "text": [
      "\n"
     ]
    },
    {
     "name": "stdout",
     "output_type": "stream",
     "text": [
      "Plotting labels to runs/detect/train25/labels.jpg... \n",
      "\u001b[34m\u001b[1moptimizer:\u001b[0m 'optimizer=auto' found, ignoring 'lr0=0.01' and 'momentum=0.937' and determining best 'optimizer', 'lr0' and 'momentum' automatically... \n",
      "\u001b[34m\u001b[1moptimizer:\u001b[0m AdamW(lr=0.002, momentum=0.9) with parameter groups 57 weight(decay=0.0), 64 weight(decay=0.0005), 63 bias(decay=0.0)\n",
      "Image sizes 640 train, 640 val\n",
      "Using 8 dataloader workers\n",
      "Logging results to \u001b[1mruns/detect/train25\u001b[0m\n",
      "Starting training for 120 epochs...\n",
      "\n",
      "      Epoch    GPU_mem   box_loss   cls_loss   dfl_loss  Instances       Size\n"
     ]
    },
    {
     "name": "stderr",
     "output_type": "stream",
     "text": [
      "      1/120      5.21G       2.56      2.337      1.191        296        640: 100%|██████████| 30/30 [00:08<00:00,  3.59it/s]\n",
      "                 Class     Images  Instances      Box(P          R      mAP50  mAP50-95): 100%|██████████| 5/5 [00:00<00:00,  7.50it/s]"
     ]
    },
    {
     "name": "stdout",
     "output_type": "stream",
     "text": [
      "                   all        134       5237      0.345      0.155      0.135     0.0301\n"
     ]
    },
    {
     "name": "stderr",
     "output_type": "stream",
     "text": [
      "\n"
     ]
    },
    {
     "name": "stdout",
     "output_type": "stream",
     "text": [
      "\n",
      "      Epoch    GPU_mem   box_loss   cls_loss   dfl_loss  Instances       Size\n"
     ]
    },
    {
     "name": "stderr",
     "output_type": "stream",
     "text": [
      "      2/120      5.11G      2.169      1.408      1.053        204        640: 100%|██████████| 30/30 [00:08<00:00,  3.71it/s]\n",
      "                 Class     Images  Instances      Box(P          R      mAP50  mAP50-95): 100%|██████████| 5/5 [00:00<00:00,  6.91it/s]\n"
     ]
    },
    {
     "name": "stdout",
     "output_type": "stream",
     "text": [
      "                   all        134       5237      0.466      0.475       0.43      0.132\n",
      "\n",
      "      Epoch    GPU_mem   box_loss   cls_loss   dfl_loss  Instances       Size\n"
     ]
    },
    {
     "name": "stderr",
     "output_type": "stream",
     "text": [
      "      3/120      5.14G      2.085      1.312      1.023        303        640: 100%|██████████| 30/30 [00:08<00:00,  3.73it/s]\n",
      "                 Class     Images  Instances      Box(P          R      mAP50  mAP50-95): 100%|██████████| 5/5 [00:00<00:00,  7.64it/s]"
     ]
    },
    {
     "name": "stdout",
     "output_type": "stream",
     "text": [
      "                   all        134       5237      0.611      0.399      0.477      0.187\n"
     ]
    },
    {
     "name": "stderr",
     "output_type": "stream",
     "text": [
      "\n"
     ]
    },
    {
     "name": "stdout",
     "output_type": "stream",
     "text": [
      "\n",
      "      Epoch    GPU_mem   box_loss   cls_loss   dfl_loss  Instances       Size\n"
     ]
    },
    {
     "name": "stderr",
     "output_type": "stream",
     "text": [
      "      4/120      5.08G      2.117      1.288      1.027        350        640: 100%|██████████| 30/30 [00:08<00:00,  3.59it/s]\n",
      "                 Class     Images  Instances      Box(P          R      mAP50  mAP50-95): 100%|██████████| 5/5 [00:00<00:00,  7.56it/s]"
     ]
    },
    {
     "name": "stdout",
     "output_type": "stream",
     "text": [
      "                   all        134       5237      0.542      0.468      0.456      0.141\n"
     ]
    },
    {
     "name": "stderr",
     "output_type": "stream",
     "text": [
      "\n"
     ]
    },
    {
     "name": "stdout",
     "output_type": "stream",
     "text": [
      "\n",
      "      Epoch    GPU_mem   box_loss   cls_loss   dfl_loss  Instances       Size\n"
     ]
    },
    {
     "name": "stderr",
     "output_type": "stream",
     "text": [
      "      5/120      1.45G      2.066      1.233      1.015        317        640: 100%|██████████| 30/30 [00:08<00:00,  3.55it/s]\n",
      "                 Class     Images  Instances      Box(P          R      mAP50  mAP50-95): 100%|██████████| 5/5 [00:00<00:00,  8.02it/s]"
     ]
    },
    {
     "name": "stdout",
     "output_type": "stream",
     "text": [
      "                   all        134       5237        0.6      0.523      0.553      0.209\n"
     ]
    },
    {
     "name": "stderr",
     "output_type": "stream",
     "text": [
      "\n"
     ]
    },
    {
     "name": "stdout",
     "output_type": "stream",
     "text": [
      "\n",
      "      Epoch    GPU_mem   box_loss   cls_loss   dfl_loss  Instances       Size\n"
     ]
    },
    {
     "name": "stderr",
     "output_type": "stream",
     "text": [
      "      6/120      5.31G      1.989      1.193      1.009        620        640: 100%|██████████| 30/30 [00:08<00:00,  3.68it/s]\n",
      "                 Class     Images  Instances      Box(P          R      mAP50  mAP50-95): 100%|██████████| 5/5 [00:00<00:00,  7.52it/s]"
     ]
    },
    {
     "name": "stdout",
     "output_type": "stream",
     "text": [
      "                   all        134       5237      0.605      0.535      0.532      0.165\n"
     ]
    },
    {
     "name": "stderr",
     "output_type": "stream",
     "text": [
      "\n"
     ]
    },
    {
     "name": "stdout",
     "output_type": "stream",
     "text": [
      "\n",
      "      Epoch    GPU_mem   box_loss   cls_loss   dfl_loss  Instances       Size\n"
     ]
    },
    {
     "name": "stderr",
     "output_type": "stream",
     "text": [
      "      7/120      5.33G      1.986      1.174      1.003        205        640: 100%|██████████| 30/30 [00:08<00:00,  3.59it/s]\n",
      "                 Class     Images  Instances      Box(P          R      mAP50  mAP50-95): 100%|██████████| 5/5 [00:00<00:00,  7.85it/s]"
     ]
    },
    {
     "name": "stdout",
     "output_type": "stream",
     "text": [
      "                   all        134       5237      0.468      0.466        0.4      0.158\n"
     ]
    },
    {
     "name": "stderr",
     "output_type": "stream",
     "text": [
      "\n"
     ]
    },
    {
     "name": "stdout",
     "output_type": "stream",
     "text": [
      "\n",
      "      Epoch    GPU_mem   box_loss   cls_loss   dfl_loss  Instances       Size\n"
     ]
    },
    {
     "name": "stderr",
     "output_type": "stream",
     "text": [
      "      8/120      5.41G      1.967      1.155      1.002        375        640: 100%|██████████| 30/30 [00:07<00:00,  3.75it/s]\n",
      "                 Class     Images  Instances      Box(P          R      mAP50  mAP50-95): 100%|██████████| 5/5 [00:00<00:00,  8.11it/s]"
     ]
    },
    {
     "name": "stdout",
     "output_type": "stream",
     "text": [
      "                   all        134       5237      0.662      0.586       0.63      0.259\n"
     ]
    },
    {
     "name": "stderr",
     "output_type": "stream",
     "text": [
      "\n"
     ]
    },
    {
     "name": "stdout",
     "output_type": "stream",
     "text": [
      "\n",
      "      Epoch    GPU_mem   box_loss   cls_loss   dfl_loss  Instances       Size\n"
     ]
    },
    {
     "name": "stderr",
     "output_type": "stream",
     "text": [
      "      9/120      5.37G      1.958      1.123     0.9933        293        640: 100%|██████████| 30/30 [00:08<00:00,  3.50it/s]\n",
      "                 Class     Images  Instances      Box(P          R      mAP50  mAP50-95): 100%|██████████| 5/5 [00:00<00:00,  7.79it/s]"
     ]
    },
    {
     "name": "stdout",
     "output_type": "stream",
     "text": [
      "                   all        134       5237      0.627      0.541       0.58      0.229\n"
     ]
    },
    {
     "name": "stderr",
     "output_type": "stream",
     "text": [
      "\n"
     ]
    },
    {
     "name": "stdout",
     "output_type": "stream",
     "text": [
      "\n",
      "      Epoch    GPU_mem   box_loss   cls_loss   dfl_loss  Instances       Size\n"
     ]
    },
    {
     "name": "stderr",
     "output_type": "stream",
     "text": [
      "     10/120      5.37G       1.95      1.112     0.9957        268        640: 100%|██████████| 30/30 [00:08<00:00,  3.47it/s]\n",
      "                 Class     Images  Instances      Box(P          R      mAP50  mAP50-95): 100%|██████████| 5/5 [00:00<00:00,  7.94it/s]"
     ]
    },
    {
     "name": "stdout",
     "output_type": "stream",
     "text": [
      "                   all        134       5237      0.674      0.604      0.668      0.287\n"
     ]
    },
    {
     "name": "stderr",
     "output_type": "stream",
     "text": [
      "\n"
     ]
    },
    {
     "name": "stdout",
     "output_type": "stream",
     "text": [
      "\n",
      "      Epoch    GPU_mem   box_loss   cls_loss   dfl_loss  Instances       Size\n"
     ]
    },
    {
     "name": "stderr",
     "output_type": "stream",
     "text": [
      "     11/120      5.25G      1.934      1.104     0.9842        596        640: 100%|██████████| 30/30 [00:08<00:00,  3.44it/s]\n",
      "                 Class     Images  Instances      Box(P          R      mAP50  mAP50-95): 100%|██████████| 5/5 [00:00<00:00,  8.07it/s]"
     ]
    },
    {
     "name": "stdout",
     "output_type": "stream",
     "text": [
      "                   all        134       5237      0.705      0.618      0.681      0.277\n"
     ]
    },
    {
     "name": "stderr",
     "output_type": "stream",
     "text": [
      "\n"
     ]
    },
    {
     "name": "stdout",
     "output_type": "stream",
     "text": [
      "\n",
      "      Epoch    GPU_mem   box_loss   cls_loss   dfl_loss  Instances       Size\n"
     ]
    },
    {
     "name": "stderr",
     "output_type": "stream",
     "text": [
      "     12/120      5.07G      1.907      1.079     0.9907        204        640: 100%|██████████| 30/30 [00:08<00:00,  3.36it/s]\n",
      "                 Class     Images  Instances      Box(P          R      mAP50  mAP50-95): 100%|██████████| 5/5 [00:00<00:00,  7.92it/s]"
     ]
    },
    {
     "name": "stdout",
     "output_type": "stream",
     "text": [
      "                   all        134       5237      0.695      0.602      0.651      0.231\n"
     ]
    },
    {
     "name": "stderr",
     "output_type": "stream",
     "text": [
      "\n"
     ]
    },
    {
     "name": "stdout",
     "output_type": "stream",
     "text": [
      "\n",
      "      Epoch    GPU_mem   box_loss   cls_loss   dfl_loss  Instances       Size\n"
     ]
    },
    {
     "name": "stderr",
     "output_type": "stream",
     "text": [
      "     13/120      5.19G      1.889      1.088     0.9801        459        640: 100%|██████████| 30/30 [00:09<00:00,  3.28it/s]\n",
      "                 Class     Images  Instances      Box(P          R      mAP50  mAP50-95): 100%|██████████| 5/5 [00:00<00:00,  8.00it/s]"
     ]
    },
    {
     "name": "stdout",
     "output_type": "stream",
     "text": [
      "                   all        134       5237      0.732      0.627        0.7      0.297\n"
     ]
    },
    {
     "name": "stderr",
     "output_type": "stream",
     "text": [
      "\n"
     ]
    },
    {
     "name": "stdout",
     "output_type": "stream",
     "text": [
      "\n",
      "      Epoch    GPU_mem   box_loss   cls_loss   dfl_loss  Instances       Size\n"
     ]
    },
    {
     "name": "stderr",
     "output_type": "stream",
     "text": [
      "     14/120      1.49G       1.92      1.082     0.9702        308        640: 100%|██████████| 30/30 [00:09<00:00,  3.18it/s]\n",
      "                 Class     Images  Instances      Box(P          R      mAP50  mAP50-95): 100%|██████████| 5/5 [00:00<00:00,  8.63it/s]"
     ]
    },
    {
     "name": "stdout",
     "output_type": "stream",
     "text": [
      "                   all        134       5237      0.711      0.595      0.655      0.229\n"
     ]
    },
    {
     "name": "stderr",
     "output_type": "stream",
     "text": [
      "\n"
     ]
    },
    {
     "name": "stdout",
     "output_type": "stream",
     "text": [
      "\n",
      "      Epoch    GPU_mem   box_loss   cls_loss   dfl_loss  Instances       Size\n"
     ]
    },
    {
     "name": "stderr",
     "output_type": "stream",
     "text": [
      "     15/120      5.15G      1.854      1.043     0.9722        427        640: 100%|██████████| 30/30 [00:09<00:00,  3.14it/s]\n",
      "                 Class     Images  Instances      Box(P          R      mAP50  mAP50-95): 100%|██████████| 5/5 [00:00<00:00,  7.41it/s]"
     ]
    },
    {
     "name": "stdout",
     "output_type": "stream",
     "text": [
      "                   all        134       5237      0.733      0.654      0.722      0.303\n"
     ]
    },
    {
     "name": "stderr",
     "output_type": "stream",
     "text": [
      "\n"
     ]
    },
    {
     "name": "stdout",
     "output_type": "stream",
     "text": [
      "\n",
      "      Epoch    GPU_mem   box_loss   cls_loss   dfl_loss  Instances       Size\n"
     ]
    },
    {
     "name": "stderr",
     "output_type": "stream",
     "text": [
      "     16/120      5.38G      1.868      1.045     0.9758        255        640: 100%|██████████| 30/30 [00:09<00:00,  3.28it/s]\n",
      "                 Class     Images  Instances      Box(P          R      mAP50  mAP50-95): 100%|██████████| 5/5 [00:00<00:00,  7.57it/s]"
     ]
    },
    {
     "name": "stdout",
     "output_type": "stream",
     "text": [
      "                   all        134       5237      0.711      0.601      0.665       0.25\n"
     ]
    },
    {
     "name": "stderr",
     "output_type": "stream",
     "text": [
      "\n"
     ]
    },
    {
     "name": "stdout",
     "output_type": "stream",
     "text": [
      "\n",
      "      Epoch    GPU_mem   box_loss   cls_loss   dfl_loss  Instances       Size\n"
     ]
    },
    {
     "name": "stderr",
     "output_type": "stream",
     "text": [
      "     17/120      5.38G      1.883      1.042     0.9836        458        640: 100%|██████████| 30/30 [00:09<00:00,  3.23it/s]\n",
      "                 Class     Images  Instances      Box(P          R      mAP50  mAP50-95): 100%|██████████| 5/5 [00:00<00:00,  7.45it/s]"
     ]
    },
    {
     "name": "stdout",
     "output_type": "stream",
     "text": [
      "                   all        134       5237      0.536      0.554       0.51       0.19\n"
     ]
    },
    {
     "name": "stderr",
     "output_type": "stream",
     "text": [
      "\n"
     ]
    },
    {
     "name": "stdout",
     "output_type": "stream",
     "text": [
      "\n",
      "      Epoch    GPU_mem   box_loss   cls_loss   dfl_loss  Instances       Size\n"
     ]
    },
    {
     "name": "stderr",
     "output_type": "stream",
     "text": [
      "     18/120      5.27G      1.885      1.061     0.9773        382        640: 100%|██████████| 30/30 [00:09<00:00,  3.23it/s]\n",
      "                 Class     Images  Instances      Box(P          R      mAP50  mAP50-95): 100%|██████████| 5/5 [00:00<00:00,  7.68it/s]"
     ]
    },
    {
     "name": "stdout",
     "output_type": "stream",
     "text": [
      "                   all        134       5237      0.732      0.631      0.709      0.309\n"
     ]
    },
    {
     "name": "stderr",
     "output_type": "stream",
     "text": [
      "\n"
     ]
    },
    {
     "name": "stdout",
     "output_type": "stream",
     "text": [
      "\n",
      "      Epoch    GPU_mem   box_loss   cls_loss   dfl_loss  Instances       Size\n"
     ]
    },
    {
     "name": "stderr",
     "output_type": "stream",
     "text": [
      "     19/120      5.37G       1.85      1.053     0.9772        198        640: 100%|██████████| 30/30 [00:09<00:00,  3.19it/s]\n",
      "                 Class     Images  Instances      Box(P          R      mAP50  mAP50-95): 100%|██████████| 5/5 [00:00<00:00,  7.53it/s]"
     ]
    },
    {
     "name": "stdout",
     "output_type": "stream",
     "text": [
      "                   all        134       5237       0.73       0.65      0.701      0.261\n"
     ]
    },
    {
     "name": "stderr",
     "output_type": "stream",
     "text": [
      "\n"
     ]
    },
    {
     "name": "stdout",
     "output_type": "stream",
     "text": [
      "\n",
      "      Epoch    GPU_mem   box_loss   cls_loss   dfl_loss  Instances       Size\n"
     ]
    },
    {
     "name": "stderr",
     "output_type": "stream",
     "text": [
      "     20/120      5.17G      1.846      1.039     0.9708        324        640: 100%|██████████| 30/30 [00:09<00:00,  3.26it/s]\n",
      "                 Class     Images  Instances      Box(P          R      mAP50  mAP50-95): 100%|██████████| 5/5 [00:00<00:00,  7.70it/s]"
     ]
    },
    {
     "name": "stdout",
     "output_type": "stream",
     "text": [
      "                   all        134       5237      0.729      0.639      0.713       0.29\n"
     ]
    },
    {
     "name": "stderr",
     "output_type": "stream",
     "text": [
      "\n"
     ]
    },
    {
     "name": "stdout",
     "output_type": "stream",
     "text": [
      "\n",
      "      Epoch    GPU_mem   box_loss   cls_loss   dfl_loss  Instances       Size\n"
     ]
    },
    {
     "name": "stderr",
     "output_type": "stream",
     "text": [
      "     21/120      5.16G       1.84      1.043      0.963        374        640: 100%|██████████| 30/30 [00:09<00:00,  3.26it/s]\n",
      "                 Class     Images  Instances      Box(P          R      mAP50  mAP50-95): 100%|██████████| 5/5 [00:00<00:00,  7.58it/s]"
     ]
    },
    {
     "name": "stdout",
     "output_type": "stream",
     "text": [
      "                   all        134       5237       0.72      0.601      0.679      0.285\n"
     ]
    },
    {
     "name": "stderr",
     "output_type": "stream",
     "text": [
      "\n"
     ]
    },
    {
     "name": "stdout",
     "output_type": "stream",
     "text": [
      "\n",
      "      Epoch    GPU_mem   box_loss   cls_loss   dfl_loss  Instances       Size\n"
     ]
    },
    {
     "name": "stderr",
     "output_type": "stream",
     "text": [
      "     22/120      5.29G      1.845      1.019      0.971        449        640: 100%|██████████| 30/30 [00:09<00:00,  3.26it/s]\n",
      "                 Class     Images  Instances      Box(P          R      mAP50  mAP50-95): 100%|██████████| 5/5 [00:00<00:00,  7.46it/s]"
     ]
    },
    {
     "name": "stdout",
     "output_type": "stream",
     "text": [
      "                   all        134       5237      0.737      0.626      0.696      0.307\n"
     ]
    },
    {
     "name": "stderr",
     "output_type": "stream",
     "text": [
      "\n"
     ]
    },
    {
     "name": "stdout",
     "output_type": "stream",
     "text": [
      "\n",
      "      Epoch    GPU_mem   box_loss   cls_loss   dfl_loss  Instances       Size\n"
     ]
    },
    {
     "name": "stderr",
     "output_type": "stream",
     "text": [
      "     23/120      5.23G       1.83      1.016     0.9653        167        640: 100%|██████████| 30/30 [00:09<00:00,  3.21it/s]\n",
      "                 Class     Images  Instances      Box(P          R      mAP50  mAP50-95): 100%|██████████| 5/5 [00:00<00:00,  7.78it/s]"
     ]
    },
    {
     "name": "stdout",
     "output_type": "stream",
     "text": [
      "                   all        134       5237      0.715      0.605      0.675      0.302\n"
     ]
    },
    {
     "name": "stderr",
     "output_type": "stream",
     "text": [
      "\n"
     ]
    },
    {
     "name": "stdout",
     "output_type": "stream",
     "text": [
      "\n",
      "      Epoch    GPU_mem   box_loss   cls_loss   dfl_loss  Instances       Size\n"
     ]
    },
    {
     "name": "stderr",
     "output_type": "stream",
     "text": [
      "     24/120      5.24G      1.828      1.002     0.9813        355        640: 100%|██████████| 30/30 [00:09<00:00,  3.27it/s]\n",
      "                 Class     Images  Instances      Box(P          R      mAP50  mAP50-95): 100%|██████████| 5/5 [00:00<00:00,  7.61it/s]"
     ]
    },
    {
     "name": "stdout",
     "output_type": "stream",
     "text": [
      "                   all        134       5237      0.683      0.531      0.591      0.196\n"
     ]
    },
    {
     "name": "stderr",
     "output_type": "stream",
     "text": [
      "\n"
     ]
    },
    {
     "name": "stdout",
     "output_type": "stream",
     "text": [
      "\n",
      "      Epoch    GPU_mem   box_loss   cls_loss   dfl_loss  Instances       Size\n"
     ]
    },
    {
     "name": "stderr",
     "output_type": "stream",
     "text": [
      "     25/120      4.99G       1.82      1.013     0.9637        367        640: 100%|██████████| 30/30 [00:09<00:00,  3.23it/s]\n",
      "                 Class     Images  Instances      Box(P          R      mAP50  mAP50-95): 100%|██████████| 5/5 [00:00<00:00,  7.67it/s]"
     ]
    },
    {
     "name": "stdout",
     "output_type": "stream",
     "text": [
      "                   all        134       5237      0.712      0.599      0.667      0.263\n"
     ]
    },
    {
     "name": "stderr",
     "output_type": "stream",
     "text": [
      "\n"
     ]
    },
    {
     "name": "stdout",
     "output_type": "stream",
     "text": [
      "\n",
      "      Epoch    GPU_mem   box_loss   cls_loss   dfl_loss  Instances       Size\n"
     ]
    },
    {
     "name": "stderr",
     "output_type": "stream",
     "text": [
      "     26/120      5.35G      1.822     0.9973     0.9651        341        640: 100%|██████████| 30/30 [00:09<00:00,  3.17it/s]\n",
      "                 Class     Images  Instances      Box(P          R      mAP50  mAP50-95): 100%|██████████| 5/5 [00:00<00:00,  7.70it/s]"
     ]
    },
    {
     "name": "stdout",
     "output_type": "stream",
     "text": [
      "                   all        134       5237      0.737      0.652      0.732      0.318\n"
     ]
    },
    {
     "name": "stderr",
     "output_type": "stream",
     "text": [
      "\n"
     ]
    },
    {
     "name": "stdout",
     "output_type": "stream",
     "text": [
      "\n",
      "      Epoch    GPU_mem   box_loss   cls_loss   dfl_loss  Instances       Size\n"
     ]
    },
    {
     "name": "stderr",
     "output_type": "stream",
     "text": [
      "     27/120      5.23G      1.825     0.9852     0.9655        516        640: 100%|██████████| 30/30 [00:09<00:00,  3.23it/s]\n",
      "                 Class     Images  Instances      Box(P          R      mAP50  mAP50-95): 100%|██████████| 5/5 [00:00<00:00,  7.44it/s]"
     ]
    },
    {
     "name": "stdout",
     "output_type": "stream",
     "text": [
      "                   all        134       5237      0.733      0.655       0.71       0.27\n"
     ]
    },
    {
     "name": "stderr",
     "output_type": "stream",
     "text": [
      "\n"
     ]
    },
    {
     "name": "stdout",
     "output_type": "stream",
     "text": [
      "\n",
      "      Epoch    GPU_mem   box_loss   cls_loss   dfl_loss  Instances       Size\n"
     ]
    },
    {
     "name": "stderr",
     "output_type": "stream",
     "text": [
      "     28/120       5.3G      1.823     0.9871      0.966        365        640: 100%|██████████| 30/30 [00:09<00:00,  3.23it/s]\n",
      "                 Class     Images  Instances      Box(P          R      mAP50  mAP50-95): 100%|██████████| 5/5 [00:00<00:00,  7.47it/s]"
     ]
    },
    {
     "name": "stdout",
     "output_type": "stream",
     "text": [
      "                   all        134       5237      0.764      0.621      0.721      0.332\n"
     ]
    },
    {
     "name": "stderr",
     "output_type": "stream",
     "text": [
      "\n"
     ]
    },
    {
     "name": "stdout",
     "output_type": "stream",
     "text": [
      "\n",
      "      Epoch    GPU_mem   box_loss   cls_loss   dfl_loss  Instances       Size\n"
     ]
    },
    {
     "name": "stderr",
     "output_type": "stream",
     "text": [
      "     29/120      5.23G       1.82      0.988     0.9674        265        640: 100%|██████████| 30/30 [00:09<00:00,  3.26it/s]\n",
      "                 Class     Images  Instances      Box(P          R      mAP50  mAP50-95): 100%|██████████| 5/5 [00:00<00:00,  7.44it/s]"
     ]
    },
    {
     "name": "stdout",
     "output_type": "stream",
     "text": [
      "                   all        134       5237      0.747      0.652      0.723      0.304\n"
     ]
    },
    {
     "name": "stderr",
     "output_type": "stream",
     "text": [
      "\n"
     ]
    },
    {
     "name": "stdout",
     "output_type": "stream",
     "text": [
      "\n",
      "      Epoch    GPU_mem   box_loss   cls_loss   dfl_loss  Instances       Size\n"
     ]
    },
    {
     "name": "stderr",
     "output_type": "stream",
     "text": [
      "     30/120      5.32G      1.789     0.9739     0.9625        185        640: 100%|██████████| 30/30 [00:09<00:00,  3.21it/s]\n",
      "                 Class     Images  Instances      Box(P          R      mAP50  mAP50-95): 100%|██████████| 5/5 [00:00<00:00,  7.38it/s]"
     ]
    },
    {
     "name": "stdout",
     "output_type": "stream",
     "text": [
      "                   all        134       5237      0.748      0.644      0.707      0.275\n"
     ]
    },
    {
     "name": "stderr",
     "output_type": "stream",
     "text": [
      "\n"
     ]
    },
    {
     "name": "stdout",
     "output_type": "stream",
     "text": [
      "\n",
      "      Epoch    GPU_mem   box_loss   cls_loss   dfl_loss  Instances       Size\n"
     ]
    },
    {
     "name": "stderr",
     "output_type": "stream",
     "text": [
      "     31/120      5.35G      1.794     0.9634     0.9551        308        640: 100%|██████████| 30/30 [00:09<00:00,  3.21it/s]\n",
      "                 Class     Images  Instances      Box(P          R      mAP50  mAP50-95): 100%|██████████| 5/5 [00:00<00:00,  7.71it/s]"
     ]
    },
    {
     "name": "stdout",
     "output_type": "stream",
     "text": [
      "                   all        134       5237      0.747      0.664      0.734      0.294\n"
     ]
    },
    {
     "name": "stderr",
     "output_type": "stream",
     "text": [
      "\n"
     ]
    },
    {
     "name": "stdout",
     "output_type": "stream",
     "text": [
      "\n",
      "      Epoch    GPU_mem   box_loss   cls_loss   dfl_loss  Instances       Size\n"
     ]
    },
    {
     "name": "stderr",
     "output_type": "stream",
     "text": [
      "     32/120      5.25G      1.784     0.9579     0.9578        185        640: 100%|██████████| 30/30 [00:09<00:00,  3.12it/s]\n",
      "                 Class     Images  Instances      Box(P          R      mAP50  mAP50-95): 100%|██████████| 5/5 [00:00<00:00,  7.86it/s]"
     ]
    },
    {
     "name": "stdout",
     "output_type": "stream",
     "text": [
      "                   all        134       5237      0.718      0.618      0.675       0.24\n"
     ]
    },
    {
     "name": "stderr",
     "output_type": "stream",
     "text": [
      "\n"
     ]
    },
    {
     "name": "stdout",
     "output_type": "stream",
     "text": [
      "\n",
      "      Epoch    GPU_mem   box_loss   cls_loss   dfl_loss  Instances       Size\n"
     ]
    },
    {
     "name": "stderr",
     "output_type": "stream",
     "text": [
      "     33/120      5.22G      1.765     0.9633     0.9597        181        640: 100%|██████████| 30/30 [00:09<00:00,  3.25it/s]\n",
      "                 Class     Images  Instances      Box(P          R      mAP50  mAP50-95): 100%|██████████| 5/5 [00:00<00:00,  7.40it/s]"
     ]
    },
    {
     "name": "stdout",
     "output_type": "stream",
     "text": [
      "                   all        134       5237      0.702      0.589      0.636      0.193\n"
     ]
    },
    {
     "name": "stderr",
     "output_type": "stream",
     "text": [
      "\n"
     ]
    },
    {
     "name": "stdout",
     "output_type": "stream",
     "text": [
      "\n",
      "      Epoch    GPU_mem   box_loss   cls_loss   dfl_loss  Instances       Size\n"
     ]
    },
    {
     "name": "stderr",
     "output_type": "stream",
     "text": [
      "     34/120      5.29G       1.86     0.9876     0.9723        412        640: 100%|██████████| 30/30 [00:09<00:00,  3.13it/s]\n",
      "                 Class     Images  Instances      Box(P          R      mAP50  mAP50-95): 100%|██████████| 5/5 [00:00<00:00,  7.49it/s]"
     ]
    },
    {
     "name": "stdout",
     "output_type": "stream",
     "text": [
      "                   all        134       5237      0.749      0.671      0.751      0.339\n"
     ]
    },
    {
     "name": "stderr",
     "output_type": "stream",
     "text": [
      "\n"
     ]
    },
    {
     "name": "stdout",
     "output_type": "stream",
     "text": [
      "\n",
      "      Epoch    GPU_mem   box_loss   cls_loss   dfl_loss  Instances       Size\n"
     ]
    },
    {
     "name": "stderr",
     "output_type": "stream",
     "text": [
      "     35/120      4.89G      1.818     0.9795     0.9638        253        640: 100%|██████████| 30/30 [00:09<00:00,  3.18it/s]\n",
      "                 Class     Images  Instances      Box(P          R      mAP50  mAP50-95): 100%|██████████| 5/5 [00:00<00:00,  7.72it/s]"
     ]
    },
    {
     "name": "stdout",
     "output_type": "stream",
     "text": [
      "                   all        134       5237      0.768      0.637      0.719      0.317\n"
     ]
    },
    {
     "name": "stderr",
     "output_type": "stream",
     "text": [
      "\n"
     ]
    },
    {
     "name": "stdout",
     "output_type": "stream",
     "text": [
      "\n",
      "      Epoch    GPU_mem   box_loss   cls_loss   dfl_loss  Instances       Size\n"
     ]
    },
    {
     "name": "stderr",
     "output_type": "stream",
     "text": [
      "     36/120      5.27G      1.804     0.9752      0.964        354        640: 100%|██████████| 30/30 [00:09<00:00,  3.15it/s]\n",
      "                 Class     Images  Instances      Box(P          R      mAP50  mAP50-95): 100%|██████████| 5/5 [00:00<00:00,  7.29it/s]"
     ]
    },
    {
     "name": "stdout",
     "output_type": "stream",
     "text": [
      "                   all        134       5237      0.719      0.649      0.709       0.29\n"
     ]
    },
    {
     "name": "stderr",
     "output_type": "stream",
     "text": [
      "\n"
     ]
    },
    {
     "name": "stdout",
     "output_type": "stream",
     "text": [
      "\n",
      "      Epoch    GPU_mem   box_loss   cls_loss   dfl_loss  Instances       Size\n"
     ]
    },
    {
     "name": "stderr",
     "output_type": "stream",
     "text": [
      "     37/120      4.98G      1.762     0.9562     0.9589        306        640: 100%|██████████| 30/30 [00:09<00:00,  3.25it/s]\n",
      "                 Class     Images  Instances      Box(P          R      mAP50  mAP50-95): 100%|██████████| 5/5 [00:00<00:00,  7.67it/s]\n"
     ]
    },
    {
     "name": "stdout",
     "output_type": "stream",
     "text": [
      "                   all        134       5237      0.742       0.68      0.738      0.292\n",
      "\n",
      "      Epoch    GPU_mem   box_loss   cls_loss   dfl_loss  Instances       Size\n"
     ]
    },
    {
     "name": "stderr",
     "output_type": "stream",
     "text": [
      "     38/120      5.19G      1.767     0.9289     0.9545        397        640: 100%|██████████| 30/30 [00:09<00:00,  3.19it/s]\n",
      "                 Class     Images  Instances      Box(P          R      mAP50  mAP50-95): 100%|██████████| 5/5 [00:00<00:00,  7.53it/s]"
     ]
    },
    {
     "name": "stdout",
     "output_type": "stream",
     "text": [
      "                   all        134       5237      0.736      0.678      0.738      0.319\n"
     ]
    },
    {
     "name": "stderr",
     "output_type": "stream",
     "text": [
      "\n"
     ]
    },
    {
     "name": "stdout",
     "output_type": "stream",
     "text": [
      "\n",
      "      Epoch    GPU_mem   box_loss   cls_loss   dfl_loss  Instances       Size\n"
     ]
    },
    {
     "name": "stderr",
     "output_type": "stream",
     "text": [
      "     39/120      4.91G      1.738     0.9308     0.9521        289        640: 100%|██████████| 30/30 [00:09<00:00,  3.21it/s]\n",
      "                 Class     Images  Instances      Box(P          R      mAP50  mAP50-95): 100%|██████████| 5/5 [00:00<00:00,  7.82it/s]"
     ]
    },
    {
     "name": "stdout",
     "output_type": "stream",
     "text": [
      "                   all        134       5237      0.718      0.667      0.722      0.307\n"
     ]
    },
    {
     "name": "stderr",
     "output_type": "stream",
     "text": [
      "\n"
     ]
    },
    {
     "name": "stdout",
     "output_type": "stream",
     "text": [
      "\n",
      "      Epoch    GPU_mem   box_loss   cls_loss   dfl_loss  Instances       Size\n"
     ]
    },
    {
     "name": "stderr",
     "output_type": "stream",
     "text": [
      "     40/120      5.18G      1.724     0.9288     0.9474        281        640: 100%|██████████| 30/30 [00:09<00:00,  3.24it/s]\n",
      "                 Class     Images  Instances      Box(P          R      mAP50  mAP50-95): 100%|██████████| 5/5 [00:00<00:00,  7.69it/s]"
     ]
    },
    {
     "name": "stdout",
     "output_type": "stream",
     "text": [
      "                   all        134       5237      0.759      0.665      0.734      0.276\n"
     ]
    },
    {
     "name": "stderr",
     "output_type": "stream",
     "text": [
      "\n"
     ]
    },
    {
     "name": "stdout",
     "output_type": "stream",
     "text": [
      "\n",
      "      Epoch    GPU_mem   box_loss   cls_loss   dfl_loss  Instances       Size\n"
     ]
    },
    {
     "name": "stderr",
     "output_type": "stream",
     "text": [
      "     41/120      5.01G      1.741     0.9248     0.9494        223        640: 100%|██████████| 30/30 [00:09<00:00,  3.21it/s]\n",
      "                 Class     Images  Instances      Box(P          R      mAP50  mAP50-95): 100%|██████████| 5/5 [00:00<00:00,  7.37it/s]"
     ]
    },
    {
     "name": "stdout",
     "output_type": "stream",
     "text": [
      "                   all        134       5237      0.769      0.685      0.769      0.332\n"
     ]
    },
    {
     "name": "stderr",
     "output_type": "stream",
     "text": [
      "\n"
     ]
    },
    {
     "name": "stdout",
     "output_type": "stream",
     "text": [
      "\n",
      "      Epoch    GPU_mem   box_loss   cls_loss   dfl_loss  Instances       Size\n"
     ]
    },
    {
     "name": "stderr",
     "output_type": "stream",
     "text": [
      "     42/120      5.34G      1.734     0.9227     0.9459        427        640: 100%|██████████| 30/30 [00:09<00:00,  3.23it/s]\n",
      "                 Class     Images  Instances      Box(P          R      mAP50  mAP50-95): 100%|██████████| 5/5 [00:00<00:00,  7.46it/s]"
     ]
    },
    {
     "name": "stdout",
     "output_type": "stream",
     "text": [
      "                   all        134       5237      0.724      0.593      0.635      0.217\n"
     ]
    },
    {
     "name": "stderr",
     "output_type": "stream",
     "text": [
      "\n"
     ]
    },
    {
     "name": "stdout",
     "output_type": "stream",
     "text": [
      "\n",
      "      Epoch    GPU_mem   box_loss   cls_loss   dfl_loss  Instances       Size\n"
     ]
    },
    {
     "name": "stderr",
     "output_type": "stream",
     "text": [
      "     43/120       5.1G      1.783     0.9404     0.9538        274        640: 100%|██████████| 30/30 [00:09<00:00,  3.23it/s]\n",
      "                 Class     Images  Instances      Box(P          R      mAP50  mAP50-95): 100%|██████████| 5/5 [00:00<00:00,  7.59it/s]"
     ]
    },
    {
     "name": "stdout",
     "output_type": "stream",
     "text": [
      "                   all        134       5237       0.76      0.661      0.739      0.309\n"
     ]
    },
    {
     "name": "stderr",
     "output_type": "stream",
     "text": [
      "\n"
     ]
    },
    {
     "name": "stdout",
     "output_type": "stream",
     "text": [
      "\n",
      "      Epoch    GPU_mem   box_loss   cls_loss   dfl_loss  Instances       Size\n"
     ]
    },
    {
     "name": "stderr",
     "output_type": "stream",
     "text": [
      "     44/120      4.81G      1.773     0.9294     0.9516        219        640: 100%|██████████| 30/30 [00:09<00:00,  3.14it/s]\n",
      "                 Class     Images  Instances      Box(P          R      mAP50  mAP50-95): 100%|██████████| 5/5 [00:00<00:00,  7.50it/s]\n"
     ]
    },
    {
     "name": "stdout",
     "output_type": "stream",
     "text": [
      "                   all        134       5237      0.756      0.672      0.731       0.29\n",
      "\n",
      "      Epoch    GPU_mem   box_loss   cls_loss   dfl_loss  Instances       Size\n"
     ]
    },
    {
     "name": "stderr",
     "output_type": "stream",
     "text": [
      "     45/120       5.2G      1.764     0.9244     0.9354        312        640: 100%|██████████| 30/30 [00:09<00:00,  3.22it/s]\n",
      "                 Class     Images  Instances      Box(P          R      mAP50  mAP50-95): 100%|██████████| 5/5 [00:00<00:00,  7.55it/s]"
     ]
    },
    {
     "name": "stdout",
     "output_type": "stream",
     "text": [
      "                   all        134       5237      0.766      0.686      0.762      0.336\n"
     ]
    },
    {
     "name": "stderr",
     "output_type": "stream",
     "text": [
      "\n"
     ]
    },
    {
     "name": "stdout",
     "output_type": "stream",
     "text": [
      "\n",
      "      Epoch    GPU_mem   box_loss   cls_loss   dfl_loss  Instances       Size\n"
     ]
    },
    {
     "name": "stderr",
     "output_type": "stream",
     "text": [
      "     46/120      4.98G       1.73     0.9199     0.9489        439        640: 100%|██████████| 30/30 [00:09<00:00,  3.21it/s]\n",
      "                 Class     Images  Instances      Box(P          R      mAP50  mAP50-95): 100%|██████████| 5/5 [00:00<00:00,  7.74it/s]"
     ]
    },
    {
     "name": "stdout",
     "output_type": "stream",
     "text": [
      "                   all        134       5237       0.78       0.69      0.779      0.355\n"
     ]
    },
    {
     "name": "stderr",
     "output_type": "stream",
     "text": [
      "\n"
     ]
    },
    {
     "name": "stdout",
     "output_type": "stream",
     "text": [
      "\n",
      "      Epoch    GPU_mem   box_loss   cls_loss   dfl_loss  Instances       Size\n"
     ]
    },
    {
     "name": "stderr",
     "output_type": "stream",
     "text": [
      "     47/120      5.25G       1.73     0.9034     0.9486        230        640: 100%|██████████| 30/30 [00:09<00:00,  3.19it/s]\n",
      "                 Class     Images  Instances      Box(P          R      mAP50  mAP50-95): 100%|██████████| 5/5 [00:00<00:00,  7.61it/s]"
     ]
    },
    {
     "name": "stdout",
     "output_type": "stream",
     "text": [
      "                   all        134       5237      0.791      0.686      0.775      0.355\n"
     ]
    },
    {
     "name": "stderr",
     "output_type": "stream",
     "text": [
      "\n"
     ]
    },
    {
     "name": "stdout",
     "output_type": "stream",
     "text": [
      "\n",
      "      Epoch    GPU_mem   box_loss   cls_loss   dfl_loss  Instances       Size\n"
     ]
    },
    {
     "name": "stderr",
     "output_type": "stream",
     "text": [
      "     48/120      5.16G      1.746      0.907     0.9468        289        640: 100%|██████████| 30/30 [00:09<00:00,  3.27it/s]\n",
      "                 Class     Images  Instances      Box(P          R      mAP50  mAP50-95): 100%|██████████| 5/5 [00:00<00:00,  7.66it/s]"
     ]
    },
    {
     "name": "stdout",
     "output_type": "stream",
     "text": [
      "                   all        134       5237      0.774      0.663      0.743      0.316\n"
     ]
    },
    {
     "name": "stderr",
     "output_type": "stream",
     "text": [
      "\n"
     ]
    },
    {
     "name": "stdout",
     "output_type": "stream",
     "text": [
      "\n",
      "      Epoch    GPU_mem   box_loss   cls_loss   dfl_loss  Instances       Size\n"
     ]
    },
    {
     "name": "stderr",
     "output_type": "stream",
     "text": [
      "     49/120       5.3G      1.703     0.8967     0.9487        136        640: 100%|██████████| 30/30 [00:09<00:00,  3.22it/s]\n",
      "                 Class     Images  Instances      Box(P          R      mAP50  mAP50-95): 100%|██████████| 5/5 [00:00<00:00,  7.49it/s]"
     ]
    },
    {
     "name": "stdout",
     "output_type": "stream",
     "text": [
      "                   all        134       5237      0.763      0.622      0.681      0.232\n"
     ]
    },
    {
     "name": "stderr",
     "output_type": "stream",
     "text": [
      "\n"
     ]
    },
    {
     "name": "stdout",
     "output_type": "stream",
     "text": [
      "\n",
      "      Epoch    GPU_mem   box_loss   cls_loss   dfl_loss  Instances       Size\n"
     ]
    },
    {
     "name": "stderr",
     "output_type": "stream",
     "text": [
      "     50/120      5.28G      1.726     0.8961     0.9485        342        640: 100%|██████████| 30/30 [00:09<00:00,  3.11it/s]\n",
      "                 Class     Images  Instances      Box(P          R      mAP50  mAP50-95): 100%|██████████| 5/5 [00:00<00:00,  7.56it/s]"
     ]
    },
    {
     "name": "stdout",
     "output_type": "stream",
     "text": [
      "                   all        134       5237      0.779      0.704      0.776      0.341\n"
     ]
    },
    {
     "name": "stderr",
     "output_type": "stream",
     "text": [
      "\n"
     ]
    },
    {
     "name": "stdout",
     "output_type": "stream",
     "text": [
      "\n",
      "      Epoch    GPU_mem   box_loss   cls_loss   dfl_loss  Instances       Size\n"
     ]
    },
    {
     "name": "stderr",
     "output_type": "stream",
     "text": [
      "     51/120      5.24G      1.743     0.9092     0.9525        275        640: 100%|██████████| 30/30 [00:09<00:00,  3.24it/s]\n",
      "                 Class     Images  Instances      Box(P          R      mAP50  mAP50-95): 100%|██████████| 5/5 [00:00<00:00,  7.56it/s]"
     ]
    },
    {
     "name": "stdout",
     "output_type": "stream",
     "text": [
      "                   all        134       5237      0.773      0.696      0.772      0.354\n"
     ]
    },
    {
     "name": "stderr",
     "output_type": "stream",
     "text": [
      "\n"
     ]
    },
    {
     "name": "stdout",
     "output_type": "stream",
     "text": [
      "\n",
      "      Epoch    GPU_mem   box_loss   cls_loss   dfl_loss  Instances       Size\n"
     ]
    },
    {
     "name": "stderr",
     "output_type": "stream",
     "text": [
      "     52/120      5.31G      1.726     0.9043     0.9484        574        640: 100%|██████████| 30/30 [00:09<00:00,  3.20it/s]\n",
      "                 Class     Images  Instances      Box(P          R      mAP50  mAP50-95): 100%|██████████| 5/5 [00:00<00:00,  7.49it/s]"
     ]
    },
    {
     "name": "stdout",
     "output_type": "stream",
     "text": [
      "                   all        134       5237       0.78      0.695      0.764      0.342\n"
     ]
    },
    {
     "name": "stderr",
     "output_type": "stream",
     "text": [
      "\n"
     ]
    },
    {
     "name": "stdout",
     "output_type": "stream",
     "text": [
      "\n",
      "      Epoch    GPU_mem   box_loss   cls_loss   dfl_loss  Instances       Size\n"
     ]
    },
    {
     "name": "stderr",
     "output_type": "stream",
     "text": [
      "     53/120      5.17G      1.723      0.894     0.9502        404        640: 100%|██████████| 30/30 [00:09<00:00,  3.20it/s]\n",
      "                 Class     Images  Instances      Box(P          R      mAP50  mAP50-95): 100%|██████████| 5/5 [00:00<00:00,  7.49it/s]"
     ]
    },
    {
     "name": "stdout",
     "output_type": "stream",
     "text": [
      "                   all        134       5237      0.781      0.709      0.783      0.348\n"
     ]
    },
    {
     "name": "stderr",
     "output_type": "stream",
     "text": [
      "\n"
     ]
    },
    {
     "name": "stdout",
     "output_type": "stream",
     "text": [
      "\n",
      "      Epoch    GPU_mem   box_loss   cls_loss   dfl_loss  Instances       Size\n"
     ]
    },
    {
     "name": "stderr",
     "output_type": "stream",
     "text": [
      "     54/120      5.32G      1.717     0.8901     0.9468        309        640: 100%|██████████| 30/30 [00:09<00:00,  3.14it/s]\n",
      "                 Class     Images  Instances      Box(P          R      mAP50  mAP50-95): 100%|██████████| 5/5 [00:00<00:00,  7.37it/s]"
     ]
    },
    {
     "name": "stdout",
     "output_type": "stream",
     "text": [
      "                   all        134       5237      0.771      0.681      0.761      0.345\n"
     ]
    },
    {
     "name": "stderr",
     "output_type": "stream",
     "text": [
      "\n"
     ]
    },
    {
     "name": "stdout",
     "output_type": "stream",
     "text": [
      "\n",
      "      Epoch    GPU_mem   box_loss   cls_loss   dfl_loss  Instances       Size\n"
     ]
    },
    {
     "name": "stderr",
     "output_type": "stream",
     "text": [
      "     55/120      5.28G      1.707     0.8867     0.9404        375        640: 100%|██████████| 30/30 [00:09<00:00,  3.21it/s]\n",
      "                 Class     Images  Instances      Box(P          R      mAP50  mAP50-95): 100%|██████████| 5/5 [00:00<00:00,  7.50it/s]"
     ]
    },
    {
     "name": "stdout",
     "output_type": "stream",
     "text": [
      "                   all        134       5237      0.766      0.686      0.764      0.349\n"
     ]
    },
    {
     "name": "stderr",
     "output_type": "stream",
     "text": [
      "\n"
     ]
    },
    {
     "name": "stdout",
     "output_type": "stream",
     "text": [
      "\n",
      "      Epoch    GPU_mem   box_loss   cls_loss   dfl_loss  Instances       Size\n"
     ]
    },
    {
     "name": "stderr",
     "output_type": "stream",
     "text": [
      "     56/120      5.17G      1.701     0.8786     0.9452        451        640: 100%|██████████| 30/30 [00:08<00:00,  3.35it/s]\n",
      "                 Class     Images  Instances      Box(P          R      mAP50  mAP50-95): 100%|██████████| 5/5 [00:00<00:00,  7.79it/s]"
     ]
    },
    {
     "name": "stdout",
     "output_type": "stream",
     "text": [
      "                   all        134       5237      0.795      0.674      0.758      0.306\n"
     ]
    },
    {
     "name": "stderr",
     "output_type": "stream",
     "text": [
      "\n"
     ]
    },
    {
     "name": "stdout",
     "output_type": "stream",
     "text": [
      "\n",
      "      Epoch    GPU_mem   box_loss   cls_loss   dfl_loss  Instances       Size\n"
     ]
    },
    {
     "name": "stderr",
     "output_type": "stream",
     "text": [
      "     57/120      5.12G      1.741     0.8889     0.9417        392        640: 100%|██████████| 30/30 [00:09<00:00,  3.18it/s]\n",
      "                 Class     Images  Instances      Box(P          R      mAP50  mAP50-95): 100%|██████████| 5/5 [00:00<00:00,  7.40it/s]"
     ]
    },
    {
     "name": "stdout",
     "output_type": "stream",
     "text": [
      "                   all        134       5237      0.784      0.675      0.744      0.278\n"
     ]
    },
    {
     "name": "stderr",
     "output_type": "stream",
     "text": [
      "\n"
     ]
    },
    {
     "name": "stdout",
     "output_type": "stream",
     "text": [
      "\n",
      "      Epoch    GPU_mem   box_loss   cls_loss   dfl_loss  Instances       Size\n"
     ]
    },
    {
     "name": "stderr",
     "output_type": "stream",
     "text": [
      "     58/120      5.21G      1.711     0.8812     0.9437        327        640: 100%|██████████| 30/30 [00:09<00:00,  3.26it/s]\n",
      "                 Class     Images  Instances      Box(P          R      mAP50  mAP50-95): 100%|██████████| 5/5 [00:00<00:00,  7.41it/s]"
     ]
    },
    {
     "name": "stdout",
     "output_type": "stream",
     "text": [
      "                   all        134       5237      0.799      0.694      0.773      0.312\n"
     ]
    },
    {
     "name": "stderr",
     "output_type": "stream",
     "text": [
      "\n"
     ]
    },
    {
     "name": "stdout",
     "output_type": "stream",
     "text": [
      "\n",
      "      Epoch    GPU_mem   box_loss   cls_loss   dfl_loss  Instances       Size\n"
     ]
    },
    {
     "name": "stderr",
     "output_type": "stream",
     "text": [
      "     59/120      5.33G      1.718     0.8724     0.9425        462        640: 100%|██████████| 30/30 [00:09<00:00,  3.23it/s]\n",
      "                 Class     Images  Instances      Box(P          R      mAP50  mAP50-95): 100%|██████████| 5/5 [00:00<00:00,  7.54it/s]"
     ]
    },
    {
     "name": "stdout",
     "output_type": "stream",
     "text": [
      "                   all        134       5237      0.806      0.699      0.795      0.359\n"
     ]
    },
    {
     "name": "stderr",
     "output_type": "stream",
     "text": [
      "\n"
     ]
    },
    {
     "name": "stdout",
     "output_type": "stream",
     "text": [
      "\n",
      "      Epoch    GPU_mem   box_loss   cls_loss   dfl_loss  Instances       Size\n"
     ]
    },
    {
     "name": "stderr",
     "output_type": "stream",
     "text": [
      "     60/120      5.26G      1.714     0.8835     0.9421        231        640: 100%|██████████| 30/30 [00:09<00:00,  3.24it/s]\n",
      "                 Class     Images  Instances      Box(P          R      mAP50  mAP50-95): 100%|██████████| 5/5 [00:00<00:00,  7.65it/s]"
     ]
    },
    {
     "name": "stdout",
     "output_type": "stream",
     "text": [
      "                   all        134       5237      0.778      0.705      0.787      0.364\n"
     ]
    },
    {
     "name": "stderr",
     "output_type": "stream",
     "text": [
      "\n"
     ]
    },
    {
     "name": "stdout",
     "output_type": "stream",
     "text": [
      "\n",
      "      Epoch    GPU_mem   box_loss   cls_loss   dfl_loss  Instances       Size\n"
     ]
    },
    {
     "name": "stderr",
     "output_type": "stream",
     "text": [
      "     61/120      4.82G      1.689     0.8728     0.9473        240        640: 100%|██████████| 30/30 [00:09<00:00,  3.14it/s]\n",
      "                 Class     Images  Instances      Box(P          R      mAP50  mAP50-95): 100%|██████████| 5/5 [00:00<00:00,  7.57it/s]"
     ]
    },
    {
     "name": "stdout",
     "output_type": "stream",
     "text": [
      "                   all        134       5237      0.791      0.694      0.779      0.356\n"
     ]
    },
    {
     "name": "stderr",
     "output_type": "stream",
     "text": [
      "\n"
     ]
    },
    {
     "name": "stdout",
     "output_type": "stream",
     "text": [
      "\n",
      "      Epoch    GPU_mem   box_loss   cls_loss   dfl_loss  Instances       Size\n"
     ]
    },
    {
     "name": "stderr",
     "output_type": "stream",
     "text": [
      "     62/120       5.1G      1.691     0.8587     0.9432        387        640: 100%|██████████| 30/30 [00:09<00:00,  3.21it/s]\n",
      "                 Class     Images  Instances      Box(P          R      mAP50  mAP50-95): 100%|██████████| 5/5 [00:00<00:00,  7.74it/s]"
     ]
    },
    {
     "name": "stdout",
     "output_type": "stream",
     "text": [
      "                   all        134       5237      0.779      0.666      0.738      0.318\n"
     ]
    },
    {
     "name": "stderr",
     "output_type": "stream",
     "text": [
      "\n"
     ]
    },
    {
     "name": "stdout",
     "output_type": "stream",
     "text": [
      "\n",
      "      Epoch    GPU_mem   box_loss   cls_loss   dfl_loss  Instances       Size\n"
     ]
    },
    {
     "name": "stderr",
     "output_type": "stream",
     "text": [
      "     63/120      5.38G      1.692      0.859     0.9367        287        640: 100%|██████████| 30/30 [00:09<00:00,  3.18it/s]\n",
      "                 Class     Images  Instances      Box(P          R      mAP50  mAP50-95): 100%|██████████| 5/5 [00:00<00:00,  7.59it/s]"
     ]
    },
    {
     "name": "stdout",
     "output_type": "stream",
     "text": [
      "                   all        134       5237      0.801      0.694       0.78      0.344\n"
     ]
    },
    {
     "name": "stderr",
     "output_type": "stream",
     "text": [
      "\n"
     ]
    },
    {
     "name": "stdout",
     "output_type": "stream",
     "text": [
      "\n",
      "      Epoch    GPU_mem   box_loss   cls_loss   dfl_loss  Instances       Size\n"
     ]
    },
    {
     "name": "stderr",
     "output_type": "stream",
     "text": [
      "     64/120      5.33G      1.707     0.8693     0.9397        377        640: 100%|██████████| 30/30 [00:09<00:00,  3.20it/s]\n",
      "                 Class     Images  Instances      Box(P          R      mAP50  mAP50-95): 100%|██████████| 5/5 [00:00<00:00,  7.42it/s]"
     ]
    },
    {
     "name": "stdout",
     "output_type": "stream",
     "text": [
      "                   all        134       5237      0.804      0.699      0.794      0.357\n"
     ]
    },
    {
     "name": "stderr",
     "output_type": "stream",
     "text": [
      "\n"
     ]
    },
    {
     "name": "stdout",
     "output_type": "stream",
     "text": [
      "\n",
      "      Epoch    GPU_mem   box_loss   cls_loss   dfl_loss  Instances       Size\n"
     ]
    },
    {
     "name": "stderr",
     "output_type": "stream",
     "text": [
      "     65/120      5.33G      1.696     0.8735     0.9403        199        640: 100%|██████████| 30/30 [00:09<00:00,  3.22it/s]\n",
      "                 Class     Images  Instances      Box(P          R      mAP50  mAP50-95): 100%|██████████| 5/5 [00:00<00:00,  7.41it/s]"
     ]
    },
    {
     "name": "stdout",
     "output_type": "stream",
     "text": [
      "                   all        134       5237      0.768      0.698      0.774      0.349\n"
     ]
    },
    {
     "name": "stderr",
     "output_type": "stream",
     "text": [
      "\n"
     ]
    },
    {
     "name": "stdout",
     "output_type": "stream",
     "text": [
      "\n",
      "      Epoch    GPU_mem   box_loss   cls_loss   dfl_loss  Instances       Size\n"
     ]
    },
    {
     "name": "stderr",
     "output_type": "stream",
     "text": [
      "     66/120      5.11G      1.679     0.8595     0.9297        298        640: 100%|██████████| 30/30 [00:09<00:00,  3.25it/s]\n",
      "                 Class     Images  Instances      Box(P          R      mAP50  mAP50-95): 100%|██████████| 5/5 [00:00<00:00,  7.81it/s]"
     ]
    },
    {
     "name": "stdout",
     "output_type": "stream",
     "text": [
      "                   all        134       5237      0.799      0.692      0.775      0.326\n"
     ]
    },
    {
     "name": "stderr",
     "output_type": "stream",
     "text": [
      "\n"
     ]
    },
    {
     "name": "stdout",
     "output_type": "stream",
     "text": [
      "\n",
      "      Epoch    GPU_mem   box_loss   cls_loss   dfl_loss  Instances       Size\n"
     ]
    },
    {
     "name": "stderr",
     "output_type": "stream",
     "text": [
      "     67/120      5.28G      1.686     0.8665     0.9411        412        640: 100%|██████████| 30/30 [00:09<00:00,  3.22it/s]\n",
      "                 Class     Images  Instances      Box(P          R      mAP50  mAP50-95): 100%|██████████| 5/5 [00:00<00:00,  7.25it/s]"
     ]
    },
    {
     "name": "stdout",
     "output_type": "stream",
     "text": [
      "                   all        134       5237      0.783      0.696      0.763      0.308\n"
     ]
    },
    {
     "name": "stderr",
     "output_type": "stream",
     "text": [
      "\n"
     ]
    },
    {
     "name": "stdout",
     "output_type": "stream",
     "text": [
      "\n",
      "      Epoch    GPU_mem   box_loss   cls_loss   dfl_loss  Instances       Size\n"
     ]
    },
    {
     "name": "stderr",
     "output_type": "stream",
     "text": [
      "     68/120      5.29G      1.701     0.8675      0.935        289        640: 100%|██████████| 30/30 [00:09<00:00,  3.19it/s]\n",
      "                 Class     Images  Instances      Box(P          R      mAP50  mAP50-95): 100%|██████████| 5/5 [00:00<00:00,  7.27it/s]\n"
     ]
    },
    {
     "name": "stdout",
     "output_type": "stream",
     "text": [
      "                   all        134       5237       0.79      0.693      0.771      0.332\n",
      "\n",
      "      Epoch    GPU_mem   box_loss   cls_loss   dfl_loss  Instances       Size\n"
     ]
    },
    {
     "name": "stderr",
     "output_type": "stream",
     "text": [
      "     69/120      5.33G      1.673     0.8531     0.9383        320        640: 100%|██████████| 30/30 [00:09<00:00,  3.24it/s]\n",
      "                 Class     Images  Instances      Box(P          R      mAP50  mAP50-95): 100%|██████████| 5/5 [00:00<00:00,  7.62it/s]"
     ]
    },
    {
     "name": "stdout",
     "output_type": "stream",
     "text": [
      "                   all        134       5237       0.78      0.676      0.743      0.274\n"
     ]
    },
    {
     "name": "stderr",
     "output_type": "stream",
     "text": [
      "\n"
     ]
    },
    {
     "name": "stdout",
     "output_type": "stream",
     "text": [
      "\n",
      "      Epoch    GPU_mem   box_loss   cls_loss   dfl_loss  Instances       Size\n"
     ]
    },
    {
     "name": "stderr",
     "output_type": "stream",
     "text": [
      "     70/120      5.19G      1.665     0.8617     0.9384        207        640: 100%|██████████| 30/30 [00:09<00:00,  3.19it/s]\n",
      "                 Class     Images  Instances      Box(P          R      mAP50  mAP50-95): 100%|██████████| 5/5 [00:00<00:00,  7.50it/s]"
     ]
    },
    {
     "name": "stdout",
     "output_type": "stream",
     "text": [
      "                   all        134       5237      0.777      0.675      0.743      0.294\n"
     ]
    },
    {
     "name": "stderr",
     "output_type": "stream",
     "text": [
      "\n"
     ]
    },
    {
     "name": "stdout",
     "output_type": "stream",
     "text": [
      "\n",
      "      Epoch    GPU_mem   box_loss   cls_loss   dfl_loss  Instances       Size\n"
     ]
    },
    {
     "name": "stderr",
     "output_type": "stream",
     "text": [
      "     71/120      5.11G      1.679     0.8518      0.938        140        640: 100%|██████████| 30/30 [00:09<00:00,  3.23it/s]\n",
      "                 Class     Images  Instances      Box(P          R      mAP50  mAP50-95): 100%|██████████| 5/5 [00:00<00:00,  7.57it/s]"
     ]
    },
    {
     "name": "stdout",
     "output_type": "stream",
     "text": [
      "                   all        134       5237      0.796      0.713       0.79      0.344\n"
     ]
    },
    {
     "name": "stderr",
     "output_type": "stream",
     "text": [
      "\n"
     ]
    },
    {
     "name": "stdout",
     "output_type": "stream",
     "text": [
      "\n",
      "      Epoch    GPU_mem   box_loss   cls_loss   dfl_loss  Instances       Size\n"
     ]
    },
    {
     "name": "stderr",
     "output_type": "stream",
     "text": [
      "     72/120      5.14G      1.698     0.8738     0.9369        168        640: 100%|██████████| 30/30 [00:09<00:00,  3.27it/s]\n",
      "                 Class     Images  Instances      Box(P          R      mAP50  mAP50-95): 100%|██████████| 5/5 [00:00<00:00,  8.05it/s]"
     ]
    },
    {
     "name": "stdout",
     "output_type": "stream",
     "text": [
      "                   all        134       5237      0.781      0.695      0.767      0.322\n"
     ]
    },
    {
     "name": "stderr",
     "output_type": "stream",
     "text": [
      "\n"
     ]
    },
    {
     "name": "stdout",
     "output_type": "stream",
     "text": [
      "\n",
      "      Epoch    GPU_mem   box_loss   cls_loss   dfl_loss  Instances       Size\n"
     ]
    },
    {
     "name": "stderr",
     "output_type": "stream",
     "text": [
      "     73/120      5.21G      1.658     0.8405     0.9319        307        640: 100%|██████████| 30/30 [00:09<00:00,  3.26it/s]\n",
      "                 Class     Images  Instances      Box(P          R      mAP50  mAP50-95): 100%|██████████| 5/5 [00:00<00:00,  7.96it/s]"
     ]
    },
    {
     "name": "stdout",
     "output_type": "stream",
     "text": [
      "                   all        134       5237      0.783      0.688      0.762      0.313\n"
     ]
    },
    {
     "name": "stderr",
     "output_type": "stream",
     "text": [
      "\n"
     ]
    },
    {
     "name": "stdout",
     "output_type": "stream",
     "text": [
      "\n",
      "      Epoch    GPU_mem   box_loss   cls_loss   dfl_loss  Instances       Size\n"
     ]
    },
    {
     "name": "stderr",
     "output_type": "stream",
     "text": [
      "     74/120      5.22G      1.651     0.8367     0.9394        432        640: 100%|██████████| 30/30 [00:09<00:00,  3.31it/s]\n",
      "                 Class     Images  Instances      Box(P          R      mAP50  mAP50-95): 100%|██████████| 5/5 [00:00<00:00,  8.13it/s]"
     ]
    },
    {
     "name": "stdout",
     "output_type": "stream",
     "text": [
      "                   all        134       5237      0.795      0.681       0.75      0.295\n"
     ]
    },
    {
     "name": "stderr",
     "output_type": "stream",
     "text": [
      "\n"
     ]
    },
    {
     "name": "stdout",
     "output_type": "stream",
     "text": [
      "\n",
      "      Epoch    GPU_mem   box_loss   cls_loss   dfl_loss  Instances       Size\n"
     ]
    },
    {
     "name": "stderr",
     "output_type": "stream",
     "text": [
      "     75/120      5.06G      1.682     0.8468     0.9383        378        640: 100%|██████████| 30/30 [00:09<00:00,  3.25it/s]\n",
      "                 Class     Images  Instances      Box(P          R      mAP50  mAP50-95): 100%|██████████| 5/5 [00:00<00:00,  7.92it/s]"
     ]
    },
    {
     "name": "stdout",
     "output_type": "stream",
     "text": [
      "                   all        134       5237      0.782      0.717      0.792      0.358\n"
     ]
    },
    {
     "name": "stderr",
     "output_type": "stream",
     "text": [
      "\n"
     ]
    },
    {
     "name": "stdout",
     "output_type": "stream",
     "text": [
      "\n",
      "      Epoch    GPU_mem   box_loss   cls_loss   dfl_loss  Instances       Size\n"
     ]
    },
    {
     "name": "stderr",
     "output_type": "stream",
     "text": [
      "     76/120      5.15G      1.664     0.8446      0.933        374        640: 100%|██████████| 30/30 [00:09<00:00,  3.29it/s]\n",
      "                 Class     Images  Instances      Box(P          R      mAP50  mAP50-95): 100%|██████████| 5/5 [00:00<00:00,  7.93it/s]"
     ]
    },
    {
     "name": "stdout",
     "output_type": "stream",
     "text": [
      "                   all        134       5237      0.786      0.696      0.771      0.342\n"
     ]
    },
    {
     "name": "stderr",
     "output_type": "stream",
     "text": [
      "\n"
     ]
    },
    {
     "name": "stdout",
     "output_type": "stream",
     "text": [
      "\n",
      "      Epoch    GPU_mem   box_loss   cls_loss   dfl_loss  Instances       Size\n"
     ]
    },
    {
     "name": "stderr",
     "output_type": "stream",
     "text": [
      "     77/120      5.23G      1.653     0.8344     0.9299        399        640: 100%|██████████| 30/30 [00:09<00:00,  3.30it/s]\n",
      "                 Class     Images  Instances      Box(P          R      mAP50  mAP50-95): 100%|██████████| 5/5 [00:00<00:00,  7.78it/s]"
     ]
    },
    {
     "name": "stdout",
     "output_type": "stream",
     "text": [
      "                   all        134       5237      0.793       0.71      0.789      0.343\n"
     ]
    },
    {
     "name": "stderr",
     "output_type": "stream",
     "text": [
      "\n"
     ]
    },
    {
     "name": "stdout",
     "output_type": "stream",
     "text": [
      "\n",
      "      Epoch    GPU_mem   box_loss   cls_loss   dfl_loss  Instances       Size\n"
     ]
    },
    {
     "name": "stderr",
     "output_type": "stream",
     "text": [
      "     78/120      4.86G      1.648     0.8277     0.9269        274        640: 100%|██████████| 30/30 [00:09<00:00,  3.25it/s]\n",
      "                 Class     Images  Instances      Box(P          R      mAP50  mAP50-95): 100%|██████████| 5/5 [00:00<00:00,  7.97it/s]"
     ]
    },
    {
     "name": "stdout",
     "output_type": "stream",
     "text": [
      "                   all        134       5237      0.794      0.689       0.78      0.337\n"
     ]
    },
    {
     "name": "stderr",
     "output_type": "stream",
     "text": [
      "\n"
     ]
    },
    {
     "name": "stdout",
     "output_type": "stream",
     "text": [
      "\n",
      "      Epoch    GPU_mem   box_loss   cls_loss   dfl_loss  Instances       Size\n"
     ]
    },
    {
     "name": "stderr",
     "output_type": "stream",
     "text": [
      "     79/120      5.26G      1.642     0.8186     0.9307        358        640: 100%|██████████| 30/30 [00:09<00:00,  3.27it/s]\n",
      "                 Class     Images  Instances      Box(P          R      mAP50  mAP50-95): 100%|██████████| 5/5 [00:00<00:00,  7.67it/s]"
     ]
    },
    {
     "name": "stdout",
     "output_type": "stream",
     "text": [
      "                   all        134       5237        0.8      0.707      0.787       0.34\n"
     ]
    },
    {
     "name": "stderr",
     "output_type": "stream",
     "text": [
      "\n"
     ]
    },
    {
     "name": "stdout",
     "output_type": "stream",
     "text": [
      "\n",
      "      Epoch    GPU_mem   box_loss   cls_loss   dfl_loss  Instances       Size\n"
     ]
    },
    {
     "name": "stderr",
     "output_type": "stream",
     "text": [
      "     80/120      5.28G      1.659     0.8254     0.9296        269        640: 100%|██████████| 30/30 [00:09<00:00,  3.20it/s]\n",
      "                 Class     Images  Instances      Box(P          R      mAP50  mAP50-95): 100%|██████████| 5/5 [00:00<00:00,  7.82it/s]"
     ]
    },
    {
     "name": "stdout",
     "output_type": "stream",
     "text": [
      "                   all        134       5237      0.797      0.714      0.786      0.328\n"
     ]
    },
    {
     "name": "stderr",
     "output_type": "stream",
     "text": [
      "\n"
     ]
    },
    {
     "name": "stdout",
     "output_type": "stream",
     "text": [
      "\n",
      "      Epoch    GPU_mem   box_loss   cls_loss   dfl_loss  Instances       Size\n"
     ]
    },
    {
     "name": "stderr",
     "output_type": "stream",
     "text": [
      "     81/120      5.32G      1.663     0.8301     0.9329        456        640: 100%|██████████| 30/30 [00:09<00:00,  3.29it/s]\n",
      "                 Class     Images  Instances      Box(P          R      mAP50  mAP50-95): 100%|██████████| 5/5 [00:00<00:00,  8.09it/s]"
     ]
    },
    {
     "name": "stdout",
     "output_type": "stream",
     "text": [
      "                   all        134       5237      0.795      0.691      0.756      0.308\n"
     ]
    },
    {
     "name": "stderr",
     "output_type": "stream",
     "text": [
      "\n"
     ]
    },
    {
     "name": "stdout",
     "output_type": "stream",
     "text": [
      "\n",
      "      Epoch    GPU_mem   box_loss   cls_loss   dfl_loss  Instances       Size\n"
     ]
    },
    {
     "name": "stderr",
     "output_type": "stream",
     "text": [
      "     82/120      5.15G      1.643     0.8257     0.9298        284        640: 100%|██████████| 30/30 [00:09<00:00,  3.22it/s]\n",
      "                 Class     Images  Instances      Box(P          R      mAP50  mAP50-95): 100%|██████████| 5/5 [00:00<00:00,  7.97it/s]"
     ]
    },
    {
     "name": "stdout",
     "output_type": "stream",
     "text": [
      "                   all        134       5237      0.798        0.7      0.782      0.347\n"
     ]
    },
    {
     "name": "stderr",
     "output_type": "stream",
     "text": [
      "\n"
     ]
    },
    {
     "name": "stdout",
     "output_type": "stream",
     "text": [
      "\n",
      "      Epoch    GPU_mem   box_loss   cls_loss   dfl_loss  Instances       Size\n"
     ]
    },
    {
     "name": "stderr",
     "output_type": "stream",
     "text": [
      "     83/120       5.3G      1.647     0.8291     0.9337        395        640: 100%|██████████| 30/30 [00:09<00:00,  3.24it/s]\n",
      "                 Class     Images  Instances      Box(P          R      mAP50  mAP50-95): 100%|██████████| 5/5 [00:00<00:00,  7.93it/s]"
     ]
    },
    {
     "name": "stdout",
     "output_type": "stream",
     "text": [
      "                   all        134       5237      0.808      0.711      0.793      0.368\n"
     ]
    },
    {
     "name": "stderr",
     "output_type": "stream",
     "text": [
      "\n"
     ]
    },
    {
     "name": "stdout",
     "output_type": "stream",
     "text": [
      "\n",
      "      Epoch    GPU_mem   box_loss   cls_loss   dfl_loss  Instances       Size\n"
     ]
    },
    {
     "name": "stderr",
     "output_type": "stream",
     "text": [
      "     84/120      5.28G      1.634     0.8093     0.9206        322        640: 100%|██████████| 30/30 [00:09<00:00,  3.30it/s]\n",
      "                 Class     Images  Instances      Box(P          R      mAP50  mAP50-95): 100%|██████████| 5/5 [00:00<00:00,  7.90it/s]"
     ]
    },
    {
     "name": "stdout",
     "output_type": "stream",
     "text": [
      "                   all        134       5237      0.793      0.701      0.782      0.346\n"
     ]
    },
    {
     "name": "stderr",
     "output_type": "stream",
     "text": [
      "\n"
     ]
    },
    {
     "name": "stdout",
     "output_type": "stream",
     "text": [
      "\n",
      "      Epoch    GPU_mem   box_loss   cls_loss   dfl_loss  Instances       Size\n"
     ]
    },
    {
     "name": "stderr",
     "output_type": "stream",
     "text": [
      "     85/120      1.42G      1.641     0.8336     0.9256        292        640: 100%|██████████| 30/30 [00:09<00:00,  3.24it/s]\n",
      "                 Class     Images  Instances      Box(P          R      mAP50  mAP50-95): 100%|██████████| 5/5 [00:00<00:00,  8.45it/s]"
     ]
    },
    {
     "name": "stdout",
     "output_type": "stream",
     "text": [
      "                   all        134       5237      0.804      0.713      0.792      0.342\n"
     ]
    },
    {
     "name": "stderr",
     "output_type": "stream",
     "text": [
      "\n"
     ]
    },
    {
     "name": "stdout",
     "output_type": "stream",
     "text": [
      "\n",
      "      Epoch    GPU_mem   box_loss   cls_loss   dfl_loss  Instances       Size\n"
     ]
    },
    {
     "name": "stderr",
     "output_type": "stream",
     "text": [
      "     86/120      5.21G      1.638     0.8099     0.9293        193        640: 100%|██████████| 30/30 [00:09<00:00,  3.27it/s]\n",
      "                 Class     Images  Instances      Box(P          R      mAP50  mAP50-95): 100%|██████████| 5/5 [00:00<00:00,  7.94it/s]"
     ]
    },
    {
     "name": "stdout",
     "output_type": "stream",
     "text": [
      "                   all        134       5237      0.817      0.696      0.774      0.319\n"
     ]
    },
    {
     "name": "stderr",
     "output_type": "stream",
     "text": [
      "\n"
     ]
    },
    {
     "name": "stdout",
     "output_type": "stream",
     "text": [
      "\n",
      "      Epoch    GPU_mem   box_loss   cls_loss   dfl_loss  Instances       Size\n"
     ]
    },
    {
     "name": "stderr",
     "output_type": "stream",
     "text": [
      "     87/120      5.28G      1.643     0.8196     0.9232        496        640: 100%|██████████| 30/30 [00:08<00:00,  3.35it/s]\n",
      "                 Class     Images  Instances      Box(P          R      mAP50  mAP50-95): 100%|██████████| 5/5 [00:00<00:00,  7.87it/s]"
     ]
    },
    {
     "name": "stdout",
     "output_type": "stream",
     "text": [
      "                   all        134       5237      0.802      0.698      0.769      0.334\n"
     ]
    },
    {
     "name": "stderr",
     "output_type": "stream",
     "text": [
      "\n"
     ]
    },
    {
     "name": "stdout",
     "output_type": "stream",
     "text": [
      "\n",
      "      Epoch    GPU_mem   box_loss   cls_loss   dfl_loss  Instances       Size\n"
     ]
    },
    {
     "name": "stderr",
     "output_type": "stream",
     "text": [
      "     88/120      5.26G      1.622      0.817     0.9298        156        640: 100%|██████████| 30/30 [00:09<00:00,  3.23it/s]\n",
      "                 Class     Images  Instances      Box(P          R      mAP50  mAP50-95): 100%|██████████| 5/5 [00:00<00:00,  8.05it/s]"
     ]
    },
    {
     "name": "stdout",
     "output_type": "stream",
     "text": [
      "                   all        134       5237      0.776      0.692      0.749      0.296\n"
     ]
    },
    {
     "name": "stderr",
     "output_type": "stream",
     "text": [
      "\n"
     ]
    },
    {
     "name": "stdout",
     "output_type": "stream",
     "text": [
      "\n",
      "      Epoch    GPU_mem   box_loss   cls_loss   dfl_loss  Instances       Size\n"
     ]
    },
    {
     "name": "stderr",
     "output_type": "stream",
     "text": [
      "     89/120      5.18G       1.65     0.8194     0.9241        333        640: 100%|██████████| 30/30 [00:09<00:00,  3.23it/s]\n",
      "                 Class     Images  Instances      Box(P          R      mAP50  mAP50-95): 100%|██████████| 5/5 [00:00<00:00,  7.95it/s]"
     ]
    },
    {
     "name": "stdout",
     "output_type": "stream",
     "text": [
      "                   all        134       5237      0.803      0.711      0.784       0.33\n"
     ]
    },
    {
     "name": "stderr",
     "output_type": "stream",
     "text": [
      "\n"
     ]
    },
    {
     "name": "stdout",
     "output_type": "stream",
     "text": [
      "\n",
      "      Epoch    GPU_mem   box_loss   cls_loss   dfl_loss  Instances       Size\n"
     ]
    },
    {
     "name": "stderr",
     "output_type": "stream",
     "text": [
      "     90/120      5.32G      1.629      0.809     0.9256        516        640: 100%|██████████| 30/30 [00:09<00:00,  3.31it/s]\n",
      "                 Class     Images  Instances      Box(P          R      mAP50  mAP50-95): 100%|██████████| 5/5 [00:00<00:00,  7.89it/s]"
     ]
    },
    {
     "name": "stdout",
     "output_type": "stream",
     "text": [
      "                   all        134       5237      0.809      0.715      0.795      0.355\n"
     ]
    },
    {
     "name": "stderr",
     "output_type": "stream",
     "text": [
      "\n"
     ]
    },
    {
     "name": "stdout",
     "output_type": "stream",
     "text": [
      "\n",
      "      Epoch    GPU_mem   box_loss   cls_loss   dfl_loss  Instances       Size\n"
     ]
    },
    {
     "name": "stderr",
     "output_type": "stream",
     "text": [
      "     91/120      5.32G      1.647     0.8143     0.9223        347        640: 100%|██████████| 30/30 [00:09<00:00,  3.23it/s]\n",
      "                 Class     Images  Instances      Box(P          R      mAP50  mAP50-95): 100%|██████████| 5/5 [00:00<00:00,  7.87it/s]"
     ]
    },
    {
     "name": "stdout",
     "output_type": "stream",
     "text": [
      "                   all        134       5237      0.817       0.73      0.811      0.378\n"
     ]
    },
    {
     "name": "stderr",
     "output_type": "stream",
     "text": [
      "\n"
     ]
    },
    {
     "name": "stdout",
     "output_type": "stream",
     "text": [
      "\n",
      "      Epoch    GPU_mem   box_loss   cls_loss   dfl_loss  Instances       Size\n"
     ]
    },
    {
     "name": "stderr",
     "output_type": "stream",
     "text": [
      "     92/120      5.22G      1.625      0.803     0.9296        563        640: 100%|██████████| 30/30 [00:09<00:00,  3.28it/s]\n",
      "                 Class     Images  Instances      Box(P          R      mAP50  mAP50-95): 100%|██████████| 5/5 [00:00<00:00,  7.99it/s]"
     ]
    },
    {
     "name": "stdout",
     "output_type": "stream",
     "text": [
      "                   all        134       5237      0.802      0.711      0.782      0.331\n"
     ]
    },
    {
     "name": "stderr",
     "output_type": "stream",
     "text": [
      "\n"
     ]
    },
    {
     "name": "stdout",
     "output_type": "stream",
     "text": [
      "\n",
      "      Epoch    GPU_mem   box_loss   cls_loss   dfl_loss  Instances       Size\n"
     ]
    },
    {
     "name": "stderr",
     "output_type": "stream",
     "text": [
      "     93/120      5.23G       1.62     0.8019     0.9214        371        640: 100%|██████████| 30/30 [00:09<00:00,  3.28it/s]\n",
      "                 Class     Images  Instances      Box(P          R      mAP50  mAP50-95): 100%|██████████| 5/5 [00:00<00:00,  7.92it/s]"
     ]
    },
    {
     "name": "stdout",
     "output_type": "stream",
     "text": [
      "                   all        134       5237        0.8       0.68      0.751      0.298\n"
     ]
    },
    {
     "name": "stderr",
     "output_type": "stream",
     "text": [
      "\n"
     ]
    },
    {
     "name": "stdout",
     "output_type": "stream",
     "text": [
      "\n",
      "      Epoch    GPU_mem   box_loss   cls_loss   dfl_loss  Instances       Size\n"
     ]
    },
    {
     "name": "stderr",
     "output_type": "stream",
     "text": [
      "     94/120       5.3G      1.621     0.7929     0.9188        372        640: 100%|██████████| 30/30 [00:09<00:00,  3.32it/s]\n",
      "                 Class     Images  Instances      Box(P          R      mAP50  mAP50-95): 100%|██████████| 5/5 [00:00<00:00,  8.07it/s]"
     ]
    },
    {
     "name": "stdout",
     "output_type": "stream",
     "text": [
      "                   all        134       5237      0.794      0.713      0.784      0.332\n"
     ]
    },
    {
     "name": "stderr",
     "output_type": "stream",
     "text": [
      "\n"
     ]
    },
    {
     "name": "stdout",
     "output_type": "stream",
     "text": [
      "\n",
      "      Epoch    GPU_mem   box_loss   cls_loss   dfl_loss  Instances       Size\n"
     ]
    },
    {
     "name": "stderr",
     "output_type": "stream",
     "text": [
      "     95/120      5.25G      1.604     0.7943     0.9237        137        640: 100%|██████████| 30/30 [00:09<00:00,  3.29it/s]\n",
      "                 Class     Images  Instances      Box(P          R      mAP50  mAP50-95): 100%|██████████| 5/5 [00:00<00:00,  7.77it/s]"
     ]
    },
    {
     "name": "stdout",
     "output_type": "stream",
     "text": [
      "                   all        134       5237      0.802      0.705      0.783      0.334\n"
     ]
    },
    {
     "name": "stderr",
     "output_type": "stream",
     "text": [
      "\n"
     ]
    },
    {
     "name": "stdout",
     "output_type": "stream",
     "text": [
      "\n",
      "      Epoch    GPU_mem   box_loss   cls_loss   dfl_loss  Instances       Size\n"
     ]
    },
    {
     "name": "stderr",
     "output_type": "stream",
     "text": [
      "     96/120      5.12G      1.617     0.7945      0.923        498        640: 100%|██████████| 30/30 [00:09<00:00,  3.24it/s]\n",
      "                 Class     Images  Instances      Box(P          R      mAP50  mAP50-95): 100%|██████████| 5/5 [00:00<00:00,  7.95it/s]"
     ]
    },
    {
     "name": "stdout",
     "output_type": "stream",
     "text": [
      "                   all        134       5237      0.812      0.709      0.795      0.347\n"
     ]
    },
    {
     "name": "stderr",
     "output_type": "stream",
     "text": [
      "\n"
     ]
    },
    {
     "name": "stdout",
     "output_type": "stream",
     "text": [
      "\n",
      "      Epoch    GPU_mem   box_loss   cls_loss   dfl_loss  Instances       Size\n"
     ]
    },
    {
     "name": "stderr",
     "output_type": "stream",
     "text": [
      "     97/120      5.07G      1.604     0.7857     0.9268        224        640: 100%|██████████| 30/30 [00:09<00:00,  3.25it/s]\n",
      "                 Class     Images  Instances      Box(P          R      mAP50  mAP50-95): 100%|██████████| 5/5 [00:00<00:00,  8.03it/s]"
     ]
    },
    {
     "name": "stdout",
     "output_type": "stream",
     "text": [
      "                   all        134       5237        0.8      0.699      0.772      0.318\n"
     ]
    },
    {
     "name": "stderr",
     "output_type": "stream",
     "text": [
      "\n"
     ]
    },
    {
     "name": "stdout",
     "output_type": "stream",
     "text": [
      "\n",
      "      Epoch    GPU_mem   box_loss   cls_loss   dfl_loss  Instances       Size\n"
     ]
    },
    {
     "name": "stderr",
     "output_type": "stream",
     "text": [
      "     98/120      5.27G      1.591     0.7813     0.9252        277        640: 100%|██████████| 30/30 [00:09<00:00,  3.33it/s]\n",
      "                 Class     Images  Instances      Box(P          R      mAP50  mAP50-95): 100%|██████████| 5/5 [00:00<00:00,  7.85it/s]"
     ]
    },
    {
     "name": "stdout",
     "output_type": "stream",
     "text": [
      "                   all        134       5237      0.801      0.712      0.784      0.321\n"
     ]
    },
    {
     "name": "stderr",
     "output_type": "stream",
     "text": [
      "\n"
     ]
    },
    {
     "name": "stdout",
     "output_type": "stream",
     "text": [
      "\n",
      "      Epoch    GPU_mem   box_loss   cls_loss   dfl_loss  Instances       Size\n"
     ]
    },
    {
     "name": "stderr",
     "output_type": "stream",
     "text": [
      "     99/120       5.2G      1.599     0.7859     0.9237        394        640: 100%|██████████| 30/30 [00:09<00:00,  3.27it/s]\n",
      "                 Class     Images  Instances      Box(P          R      mAP50  mAP50-95): 100%|██████████| 5/5 [00:00<00:00,  7.96it/s]"
     ]
    },
    {
     "name": "stdout",
     "output_type": "stream",
     "text": [
      "                   all        134       5237      0.802      0.698       0.77      0.321\n"
     ]
    },
    {
     "name": "stderr",
     "output_type": "stream",
     "text": [
      "\n"
     ]
    },
    {
     "name": "stdout",
     "output_type": "stream",
     "text": [
      "\n",
      "      Epoch    GPU_mem   box_loss   cls_loss   dfl_loss  Instances       Size\n"
     ]
    },
    {
     "name": "stderr",
     "output_type": "stream",
     "text": [
      "    100/120      5.34G      1.622     0.7909     0.9195        293        640: 100%|██████████| 30/30 [00:09<00:00,  3.21it/s]\n",
      "                 Class     Images  Instances      Box(P          R      mAP50  mAP50-95): 100%|██████████| 5/5 [00:00<00:00,  7.98it/s]"
     ]
    },
    {
     "name": "stdout",
     "output_type": "stream",
     "text": [
      "                   all        134       5237      0.797      0.689      0.761      0.315\n"
     ]
    },
    {
     "name": "stderr",
     "output_type": "stream",
     "text": [
      "\n"
     ]
    },
    {
     "name": "stdout",
     "output_type": "stream",
     "text": [
      "\n",
      "      Epoch    GPU_mem   box_loss   cls_loss   dfl_loss  Instances       Size\n"
     ]
    },
    {
     "name": "stderr",
     "output_type": "stream",
     "text": [
      "    101/120      5.22G      1.595     0.7861     0.9247        392        640: 100%|██████████| 30/30 [00:09<00:00,  3.29it/s]\n",
      "                 Class     Images  Instances      Box(P          R      mAP50  mAP50-95): 100%|██████████| 5/5 [00:00<00:00,  7.84it/s]"
     ]
    },
    {
     "name": "stdout",
     "output_type": "stream",
     "text": [
      "                   all        134       5237      0.808      0.708      0.785      0.342\n"
     ]
    },
    {
     "name": "stderr",
     "output_type": "stream",
     "text": [
      "\n"
     ]
    },
    {
     "name": "stdout",
     "output_type": "stream",
     "text": [
      "\n",
      "      Epoch    GPU_mem   box_loss   cls_loss   dfl_loss  Instances       Size\n"
     ]
    },
    {
     "name": "stderr",
     "output_type": "stream",
     "text": [
      "    102/120      5.24G        1.6     0.7856     0.9201        297        640: 100%|██████████| 30/30 [00:09<00:00,  3.29it/s]\n",
      "                 Class     Images  Instances      Box(P          R      mAP50  mAP50-95): 100%|██████████| 5/5 [00:00<00:00,  7.89it/s]"
     ]
    },
    {
     "name": "stdout",
     "output_type": "stream",
     "text": [
      "                   all        134       5237       0.81      0.717      0.797      0.349\n"
     ]
    },
    {
     "name": "stderr",
     "output_type": "stream",
     "text": [
      "\n"
     ]
    },
    {
     "name": "stdout",
     "output_type": "stream",
     "text": [
      "\n",
      "      Epoch    GPU_mem   box_loss   cls_loss   dfl_loss  Instances       Size\n"
     ]
    },
    {
     "name": "stderr",
     "output_type": "stream",
     "text": [
      "    103/120       5.2G      1.603     0.7804     0.9171        296        640: 100%|██████████| 30/30 [00:09<00:00,  3.26it/s]\n",
      "                 Class     Images  Instances      Box(P          R      mAP50  mAP50-95): 100%|██████████| 5/5 [00:00<00:00,  7.96it/s]"
     ]
    },
    {
     "name": "stdout",
     "output_type": "stream",
     "text": [
      "                   all        134       5237      0.814      0.708      0.788      0.334\n"
     ]
    },
    {
     "name": "stderr",
     "output_type": "stream",
     "text": [
      "\n"
     ]
    },
    {
     "name": "stdout",
     "output_type": "stream",
     "text": [
      "\n",
      "      Epoch    GPU_mem   box_loss   cls_loss   dfl_loss  Instances       Size\n"
     ]
    },
    {
     "name": "stderr",
     "output_type": "stream",
     "text": [
      "    104/120      5.26G      1.601     0.7842     0.9114        500        640: 100%|██████████| 30/30 [00:09<00:00,  3.26it/s]\n",
      "                 Class     Images  Instances      Box(P          R      mAP50  mAP50-95): 100%|██████████| 5/5 [00:00<00:00,  7.86it/s]"
     ]
    },
    {
     "name": "stdout",
     "output_type": "stream",
     "text": [
      "                   all        134       5237      0.821      0.709      0.793      0.339\n"
     ]
    },
    {
     "name": "stderr",
     "output_type": "stream",
     "text": [
      "\n"
     ]
    },
    {
     "name": "stdout",
     "output_type": "stream",
     "text": [
      "\n",
      "      Epoch    GPU_mem   box_loss   cls_loss   dfl_loss  Instances       Size\n"
     ]
    },
    {
     "name": "stderr",
     "output_type": "stream",
     "text": [
      "    105/120      5.28G      1.594     0.7742     0.9191        282        640: 100%|██████████| 30/30 [00:09<00:00,  3.28it/s]\n",
      "                 Class     Images  Instances      Box(P          R      mAP50  mAP50-95): 100%|██████████| 5/5 [00:00<00:00,  7.88it/s]"
     ]
    },
    {
     "name": "stdout",
     "output_type": "stream",
     "text": [
      "                   all        134       5237      0.819      0.712      0.799       0.35\n"
     ]
    },
    {
     "name": "stderr",
     "output_type": "stream",
     "text": [
      "\n"
     ]
    },
    {
     "name": "stdout",
     "output_type": "stream",
     "text": [
      "\n",
      "      Epoch    GPU_mem   box_loss   cls_loss   dfl_loss  Instances       Size\n"
     ]
    },
    {
     "name": "stderr",
     "output_type": "stream",
     "text": [
      "    106/120      5.11G      1.594     0.7814      0.919        292        640: 100%|██████████| 30/30 [00:09<00:00,  3.25it/s]\n",
      "                 Class     Images  Instances      Box(P          R      mAP50  mAP50-95): 100%|██████████| 5/5 [00:00<00:00,  7.96it/s]"
     ]
    },
    {
     "name": "stdout",
     "output_type": "stream",
     "text": [
      "                   all        134       5237      0.803      0.696      0.765      0.312\n"
     ]
    },
    {
     "name": "stderr",
     "output_type": "stream",
     "text": [
      "\n"
     ]
    },
    {
     "name": "stdout",
     "output_type": "stream",
     "text": [
      "\n",
      "      Epoch    GPU_mem   box_loss   cls_loss   dfl_loss  Instances       Size\n"
     ]
    },
    {
     "name": "stderr",
     "output_type": "stream",
     "text": [
      "    107/120      5.27G      1.604     0.7772     0.9163        543        640: 100%|██████████| 30/30 [00:09<00:00,  3.25it/s]\n",
      "                 Class     Images  Instances      Box(P          R      mAP50  mAP50-95): 100%|██████████| 5/5 [00:00<00:00,  7.84it/s]"
     ]
    },
    {
     "name": "stdout",
     "output_type": "stream",
     "text": [
      "                   all        134       5237      0.789      0.707      0.773      0.335\n"
     ]
    },
    {
     "name": "stderr",
     "output_type": "stream",
     "text": [
      "\n"
     ]
    },
    {
     "name": "stdout",
     "output_type": "stream",
     "text": [
      "\n",
      "      Epoch    GPU_mem   box_loss   cls_loss   dfl_loss  Instances       Size\n"
     ]
    },
    {
     "name": "stderr",
     "output_type": "stream",
     "text": [
      "    108/120      5.18G      1.581      0.773     0.9212        168        640: 100%|██████████| 30/30 [00:09<00:00,  3.32it/s]\n",
      "                 Class     Images  Instances      Box(P          R      mAP50  mAP50-95): 100%|██████████| 5/5 [00:00<00:00,  7.85it/s]"
     ]
    },
    {
     "name": "stdout",
     "output_type": "stream",
     "text": [
      "                   all        134       5237      0.812      0.722        0.8      0.361\n"
     ]
    },
    {
     "name": "stderr",
     "output_type": "stream",
     "text": [
      "\n"
     ]
    },
    {
     "name": "stdout",
     "output_type": "stream",
     "text": [
      "\n",
      "      Epoch    GPU_mem   box_loss   cls_loss   dfl_loss  Instances       Size\n"
     ]
    },
    {
     "name": "stderr",
     "output_type": "stream",
     "text": [
      "    109/120      5.21G      1.593     0.7761     0.9202        247        640: 100%|██████████| 30/30 [00:09<00:00,  3.29it/s]\n",
      "                 Class     Images  Instances      Box(P          R      mAP50  mAP50-95): 100%|██████████| 5/5 [00:00<00:00,  7.86it/s]"
     ]
    },
    {
     "name": "stdout",
     "output_type": "stream",
     "text": [
      "                   all        134       5237      0.809      0.721      0.796      0.349\n"
     ]
    },
    {
     "name": "stderr",
     "output_type": "stream",
     "text": [
      "\n"
     ]
    },
    {
     "name": "stdout",
     "output_type": "stream",
     "text": [
      "\n",
      "      Epoch    GPU_mem   box_loss   cls_loss   dfl_loss  Instances       Size\n"
     ]
    },
    {
     "name": "stderr",
     "output_type": "stream",
     "text": [
      "    110/120      5.24G      1.577     0.7673     0.9171        379        640: 100%|██████████| 30/30 [00:09<00:00,  3.25it/s]\n",
      "                 Class     Images  Instances      Box(P          R      mAP50  mAP50-95): 100%|██████████| 5/5 [00:00<00:00,  7.97it/s]"
     ]
    },
    {
     "name": "stdout",
     "output_type": "stream",
     "text": [
      "                   all        134       5237      0.808      0.718      0.792       0.34\n"
     ]
    },
    {
     "name": "stderr",
     "output_type": "stream",
     "text": [
      "\n"
     ]
    },
    {
     "name": "stdout",
     "output_type": "stream",
     "text": [
      "Closing dataloader mosaic\n",
      "\n",
      "      Epoch    GPU_mem   box_loss   cls_loss   dfl_loss  Instances       Size\n"
     ]
    },
    {
     "name": "stderr",
     "output_type": "stream",
     "text": [
      "    111/120      5.27G       1.62     0.8461     0.9411        238        640: 100%|██████████| 30/30 [00:08<00:00,  3.60it/s]\n",
      "                 Class     Images  Instances      Box(P          R      mAP50  mAP50-95): 100%|██████████| 5/5 [00:00<00:00,  7.84it/s]"
     ]
    },
    {
     "name": "stdout",
     "output_type": "stream",
     "text": [
      "                   all        134       5237       0.81       0.69      0.767      0.322\n"
     ]
    },
    {
     "name": "stderr",
     "output_type": "stream",
     "text": [
      "\n"
     ]
    },
    {
     "name": "stdout",
     "output_type": "stream",
     "text": [
      "\n",
      "      Epoch    GPU_mem   box_loss   cls_loss   dfl_loss  Instances       Size\n"
     ]
    },
    {
     "name": "stderr",
     "output_type": "stream",
     "text": [
      "    112/120      5.32G       1.56     0.7908     0.9317        224        640: 100%|██████████| 30/30 [00:08<00:00,  3.63it/s]\n",
      "                 Class     Images  Instances      Box(P          R      mAP50  mAP50-95): 100%|██████████| 5/5 [00:00<00:00,  7.92it/s]"
     ]
    },
    {
     "name": "stdout",
     "output_type": "stream",
     "text": [
      "                   all        134       5237      0.816      0.717      0.799      0.358\n"
     ]
    },
    {
     "name": "stderr",
     "output_type": "stream",
     "text": [
      "\n"
     ]
    },
    {
     "name": "stdout",
     "output_type": "stream",
     "text": [
      "\n",
      "      Epoch    GPU_mem   box_loss   cls_loss   dfl_loss  Instances       Size\n"
     ]
    },
    {
     "name": "stderr",
     "output_type": "stream",
     "text": [
      "    113/120      5.35G      1.535     0.7592     0.9344        164        640: 100%|██████████| 30/30 [00:08<00:00,  3.60it/s]\n",
      "                 Class     Images  Instances      Box(P          R      mAP50  mAP50-95): 100%|██████████| 5/5 [00:00<00:00,  7.83it/s]"
     ]
    },
    {
     "name": "stdout",
     "output_type": "stream",
     "text": [
      "                   all        134       5237      0.821       0.72      0.799      0.362\n"
     ]
    },
    {
     "name": "stderr",
     "output_type": "stream",
     "text": [
      "\n"
     ]
    },
    {
     "name": "stdout",
     "output_type": "stream",
     "text": [
      "\n",
      "      Epoch    GPU_mem   box_loss   cls_loss   dfl_loss  Instances       Size\n"
     ]
    },
    {
     "name": "stderr",
     "output_type": "stream",
     "text": [
      "    114/120       5.3G      1.515     0.7486     0.9261        108        640: 100%|██████████| 30/30 [00:08<00:00,  3.57it/s]\n",
      "                 Class     Images  Instances      Box(P          R      mAP50  mAP50-95): 100%|██████████| 5/5 [00:00<00:00,  7.82it/s]"
     ]
    },
    {
     "name": "stdout",
     "output_type": "stream",
     "text": [
      "                   all        134       5237      0.816      0.717      0.793      0.343\n"
     ]
    },
    {
     "name": "stderr",
     "output_type": "stream",
     "text": [
      "\n"
     ]
    },
    {
     "name": "stdout",
     "output_type": "stream",
     "text": [
      "\n",
      "      Epoch    GPU_mem   box_loss   cls_loss   dfl_loss  Instances       Size\n"
     ]
    },
    {
     "name": "stderr",
     "output_type": "stream",
     "text": [
      "    115/120      5.23G      1.524     0.7411     0.9294        207        640: 100%|██████████| 30/30 [00:08<00:00,  3.58it/s]\n",
      "                 Class     Images  Instances      Box(P          R      mAP50  mAP50-95): 100%|██████████| 5/5 [00:00<00:00,  7.91it/s]"
     ]
    },
    {
     "name": "stdout",
     "output_type": "stream",
     "text": [
      "                   all        134       5237      0.812      0.715       0.79      0.339\n"
     ]
    },
    {
     "name": "stderr",
     "output_type": "stream",
     "text": [
      "\n"
     ]
    },
    {
     "name": "stdout",
     "output_type": "stream",
     "text": [
      "\n",
      "      Epoch    GPU_mem   box_loss   cls_loss   dfl_loss  Instances       Size\n"
     ]
    },
    {
     "name": "stderr",
     "output_type": "stream",
     "text": [
      "    116/120      5.32G      1.534     0.7464     0.9271        169        640: 100%|██████████| 30/30 [00:08<00:00,  3.57it/s]\n",
      "                 Class     Images  Instances      Box(P          R      mAP50  mAP50-95): 100%|██████████| 5/5 [00:00<00:00,  7.76it/s]"
     ]
    },
    {
     "name": "stdout",
     "output_type": "stream",
     "text": [
      "                   all        134       5237      0.808      0.719      0.792      0.338\n"
     ]
    },
    {
     "name": "stderr",
     "output_type": "stream",
     "text": [
      "\n"
     ]
    },
    {
     "name": "stdout",
     "output_type": "stream",
     "text": [
      "\n",
      "      Epoch    GPU_mem   box_loss   cls_loss   dfl_loss  Instances       Size\n"
     ]
    },
    {
     "name": "stderr",
     "output_type": "stream",
     "text": [
      "    117/120      5.15G      1.505      0.734     0.9229        249        640: 100%|██████████| 30/30 [00:08<00:00,  3.61it/s]\n",
      "                 Class     Images  Instances      Box(P          R      mAP50  mAP50-95): 100%|██████████| 5/5 [00:00<00:00,  7.93it/s]"
     ]
    },
    {
     "name": "stdout",
     "output_type": "stream",
     "text": [
      "                   all        134       5237      0.818      0.717      0.794      0.352\n"
     ]
    },
    {
     "name": "stderr",
     "output_type": "stream",
     "text": [
      "\n"
     ]
    },
    {
     "name": "stdout",
     "output_type": "stream",
     "text": [
      "\n",
      "      Epoch    GPU_mem   box_loss   cls_loss   dfl_loss  Instances       Size\n"
     ]
    },
    {
     "name": "stderr",
     "output_type": "stream",
     "text": [
      "    118/120      5.23G      1.512     0.7378     0.9204        227        640: 100%|██████████| 30/30 [00:08<00:00,  3.60it/s]\n",
      "                 Class     Images  Instances      Box(P          R      mAP50  mAP50-95): 100%|██████████| 5/5 [00:00<00:00,  7.85it/s]"
     ]
    },
    {
     "name": "stdout",
     "output_type": "stream",
     "text": [
      "                   all        134       5237      0.807       0.72      0.788      0.344\n"
     ]
    },
    {
     "name": "stderr",
     "output_type": "stream",
     "text": [
      "\n"
     ]
    },
    {
     "name": "stdout",
     "output_type": "stream",
     "text": [
      "\n",
      "      Epoch    GPU_mem   box_loss   cls_loss   dfl_loss  Instances       Size\n"
     ]
    },
    {
     "name": "stderr",
     "output_type": "stream",
     "text": [
      "    119/120      5.35G      1.508     0.7378     0.9296        194        640: 100%|██████████| 30/30 [00:08<00:00,  3.59it/s]\n",
      "                 Class     Images  Instances      Box(P          R      mAP50  mAP50-95): 100%|██████████| 5/5 [00:00<00:00,  7.84it/s]"
     ]
    },
    {
     "name": "stdout",
     "output_type": "stream",
     "text": [
      "                   all        134       5237      0.809      0.719      0.792      0.352\n"
     ]
    },
    {
     "name": "stderr",
     "output_type": "stream",
     "text": [
      "\n"
     ]
    },
    {
     "name": "stdout",
     "output_type": "stream",
     "text": [
      "\n",
      "      Epoch    GPU_mem   box_loss   cls_loss   dfl_loss  Instances       Size\n"
     ]
    },
    {
     "name": "stderr",
     "output_type": "stream",
     "text": [
      "    120/120      5.17G      1.506     0.7371      0.922        248        640: 100%|██████████| 30/30 [00:08<00:00,  3.63it/s]\n",
      "                 Class     Images  Instances      Box(P          R      mAP50  mAP50-95): 100%|██████████| 5/5 [00:00<00:00,  7.89it/s]"
     ]
    },
    {
     "name": "stdout",
     "output_type": "stream",
     "text": [
      "                   all        134       5237      0.815      0.718      0.798      0.353\n"
     ]
    },
    {
     "name": "stderr",
     "output_type": "stream",
     "text": [
      "\n"
     ]
    },
    {
     "name": "stdout",
     "output_type": "stream",
     "text": [
      "\n",
      "120 epochs completed in 0.343 hours.\n",
      "Optimizer stripped from runs/detect/train25/weights/last.pt, 6.2MB\n",
      "Optimizer stripped from runs/detect/train25/weights/best.pt, 6.2MB\n",
      "\n",
      "Validating runs/detect/train25/weights/best.pt...\n",
      "Ultralytics 8.3.25 🚀 Python-3.10.11 torch-2.0.1 CUDA:0 (NVIDIA GeForce GTX 1660 SUPER, 5928MiB)\n",
      "Model summary (fused): 168 layers, 3,005,843 parameters, 0 gradients, 8.1 GFLOPs\n"
     ]
    },
    {
     "name": "stderr",
     "output_type": "stream",
     "text": [
      "                 Class     Images  Instances      Box(P          R      mAP50  mAP50-95): 100%|██████████| 5/5 [00:01<00:00,  3.42it/s]\n"
     ]
    },
    {
     "name": "stdout",
     "output_type": "stream",
     "text": [
      "                   all        134       5237      0.818       0.73      0.811      0.378\n",
      "Speed: 1.0ms preprocess, 1.9ms inference, 0.0ms loss, 3.9ms postprocess per image\n",
      "Results saved to \u001b[1mruns/detect/train25\u001b[0m\n"
     ]
    },
    {
     "data": {
      "text/plain": [
       "ultralytics.utils.metrics.DetMetrics object with attributes:\n",
       "\n",
       "ap_class_index: array([0])\n",
       "box: ultralytics.utils.metrics.Metric object\n",
       "confusion_matrix: <ultralytics.utils.metrics.ConfusionMatrix object at 0x7e671c80c910>\n",
       "curves: ['Precision-Recall(B)', 'F1-Confidence(B)', 'Precision-Confidence(B)', 'Recall-Confidence(B)']\n",
       "curves_results: [[array([          0,    0.001001,    0.002002,    0.003003,    0.004004,    0.005005,    0.006006,    0.007007,    0.008008,    0.009009,     0.01001,    0.011011,    0.012012,    0.013013,    0.014014,    0.015015,    0.016016,    0.017017,    0.018018,    0.019019,     0.02002,    0.021021,    0.022022,    0.023023,\n",
       "          0.024024,    0.025025,    0.026026,    0.027027,    0.028028,    0.029029,     0.03003,    0.031031,    0.032032,    0.033033,    0.034034,    0.035035,    0.036036,    0.037037,    0.038038,    0.039039,     0.04004,    0.041041,    0.042042,    0.043043,    0.044044,    0.045045,    0.046046,    0.047047,\n",
       "          0.048048,    0.049049,     0.05005,    0.051051,    0.052052,    0.053053,    0.054054,    0.055055,    0.056056,    0.057057,    0.058058,    0.059059,     0.06006,    0.061061,    0.062062,    0.063063,    0.064064,    0.065065,    0.066066,    0.067067,    0.068068,    0.069069,     0.07007,    0.071071,\n",
       "          0.072072,    0.073073,    0.074074,    0.075075,    0.076076,    0.077077,    0.078078,    0.079079,     0.08008,    0.081081,    0.082082,    0.083083,    0.084084,    0.085085,    0.086086,    0.087087,    0.088088,    0.089089,     0.09009,    0.091091,    0.092092,    0.093093,    0.094094,    0.095095,\n",
       "          0.096096,    0.097097,    0.098098,    0.099099,      0.1001,      0.1011,      0.1021,      0.1031,      0.1041,     0.10511,     0.10611,     0.10711,     0.10811,     0.10911,     0.11011,     0.11111,     0.11211,     0.11311,     0.11411,     0.11512,     0.11612,     0.11712,     0.11812,     0.11912,\n",
       "           0.12012,     0.12112,     0.12212,     0.12312,     0.12412,     0.12513,     0.12613,     0.12713,     0.12813,     0.12913,     0.13013,     0.13113,     0.13213,     0.13313,     0.13413,     0.13514,     0.13614,     0.13714,     0.13814,     0.13914,     0.14014,     0.14114,     0.14214,     0.14314,\n",
       "           0.14414,     0.14515,     0.14615,     0.14715,     0.14815,     0.14915,     0.15015,     0.15115,     0.15215,     0.15315,     0.15415,     0.15516,     0.15616,     0.15716,     0.15816,     0.15916,     0.16016,     0.16116,     0.16216,     0.16316,     0.16416,     0.16517,     0.16617,     0.16717,\n",
       "           0.16817,     0.16917,     0.17017,     0.17117,     0.17217,     0.17317,     0.17417,     0.17518,     0.17618,     0.17718,     0.17818,     0.17918,     0.18018,     0.18118,     0.18218,     0.18318,     0.18418,     0.18519,     0.18619,     0.18719,     0.18819,     0.18919,     0.19019,     0.19119,\n",
       "           0.19219,     0.19319,     0.19419,      0.1952,      0.1962,      0.1972,      0.1982,      0.1992,      0.2002,      0.2012,      0.2022,      0.2032,      0.2042,     0.20521,     0.20621,     0.20721,     0.20821,     0.20921,     0.21021,     0.21121,     0.21221,     0.21321,     0.21421,     0.21522,\n",
       "           0.21622,     0.21722,     0.21822,     0.21922,     0.22022,     0.22122,     0.22222,     0.22322,     0.22422,     0.22523,     0.22623,     0.22723,     0.22823,     0.22923,     0.23023,     0.23123,     0.23223,     0.23323,     0.23423,     0.23524,     0.23624,     0.23724,     0.23824,     0.23924,\n",
       "           0.24024,     0.24124,     0.24224,     0.24324,     0.24424,     0.24525,     0.24625,     0.24725,     0.24825,     0.24925,     0.25025,     0.25125,     0.25225,     0.25325,     0.25425,     0.25526,     0.25626,     0.25726,     0.25826,     0.25926,     0.26026,     0.26126,     0.26226,     0.26326,\n",
       "           0.26426,     0.26527,     0.26627,     0.26727,     0.26827,     0.26927,     0.27027,     0.27127,     0.27227,     0.27327,     0.27427,     0.27528,     0.27628,     0.27728,     0.27828,     0.27928,     0.28028,     0.28128,     0.28228,     0.28328,     0.28428,     0.28529,     0.28629,     0.28729,\n",
       "           0.28829,     0.28929,     0.29029,     0.29129,     0.29229,     0.29329,     0.29429,      0.2953,      0.2963,      0.2973,      0.2983,      0.2993,      0.3003,      0.3013,      0.3023,      0.3033,      0.3043,     0.30531,     0.30631,     0.30731,     0.30831,     0.30931,     0.31031,     0.31131,\n",
       "           0.31231,     0.31331,     0.31431,     0.31532,     0.31632,     0.31732,     0.31832,     0.31932,     0.32032,     0.32132,     0.32232,     0.32332,     0.32432,     0.32533,     0.32633,     0.32733,     0.32833,     0.32933,     0.33033,     0.33133,     0.33233,     0.33333,     0.33433,     0.33534,\n",
       "           0.33634,     0.33734,     0.33834,     0.33934,     0.34034,     0.34134,     0.34234,     0.34334,     0.34434,     0.34535,     0.34635,     0.34735,     0.34835,     0.34935,     0.35035,     0.35135,     0.35235,     0.35335,     0.35435,     0.35536,     0.35636,     0.35736,     0.35836,     0.35936,\n",
       "           0.36036,     0.36136,     0.36236,     0.36336,     0.36436,     0.36537,     0.36637,     0.36737,     0.36837,     0.36937,     0.37037,     0.37137,     0.37237,     0.37337,     0.37437,     0.37538,     0.37638,     0.37738,     0.37838,     0.37938,     0.38038,     0.38138,     0.38238,     0.38338,\n",
       "           0.38438,     0.38539,     0.38639,     0.38739,     0.38839,     0.38939,     0.39039,     0.39139,     0.39239,     0.39339,     0.39439,      0.3954,      0.3964,      0.3974,      0.3984,      0.3994,      0.4004,      0.4014,      0.4024,      0.4034,      0.4044,     0.40541,     0.40641,     0.40741,\n",
       "           0.40841,     0.40941,     0.41041,     0.41141,     0.41241,     0.41341,     0.41441,     0.41542,     0.41642,     0.41742,     0.41842,     0.41942,     0.42042,     0.42142,     0.42242,     0.42342,     0.42442,     0.42543,     0.42643,     0.42743,     0.42843,     0.42943,     0.43043,     0.43143,\n",
       "           0.43243,     0.43343,     0.43443,     0.43544,     0.43644,     0.43744,     0.43844,     0.43944,     0.44044,     0.44144,     0.44244,     0.44344,     0.44444,     0.44545,     0.44645,     0.44745,     0.44845,     0.44945,     0.45045,     0.45145,     0.45245,     0.45345,     0.45445,     0.45546,\n",
       "           0.45646,     0.45746,     0.45846,     0.45946,     0.46046,     0.46146,     0.46246,     0.46346,     0.46446,     0.46547,     0.46647,     0.46747,     0.46847,     0.46947,     0.47047,     0.47147,     0.47247,     0.47347,     0.47447,     0.47548,     0.47648,     0.47748,     0.47848,     0.47948,\n",
       "           0.48048,     0.48148,     0.48248,     0.48348,     0.48448,     0.48549,     0.48649,     0.48749,     0.48849,     0.48949,     0.49049,     0.49149,     0.49249,     0.49349,     0.49449,      0.4955,      0.4965,      0.4975,      0.4985,      0.4995,      0.5005,      0.5015,      0.5025,      0.5035,\n",
       "            0.5045,     0.50551,     0.50651,     0.50751,     0.50851,     0.50951,     0.51051,     0.51151,     0.51251,     0.51351,     0.51451,     0.51552,     0.51652,     0.51752,     0.51852,     0.51952,     0.52052,     0.52152,     0.52252,     0.52352,     0.52452,     0.52553,     0.52653,     0.52753,\n",
       "           0.52853,     0.52953,     0.53053,     0.53153,     0.53253,     0.53353,     0.53453,     0.53554,     0.53654,     0.53754,     0.53854,     0.53954,     0.54054,     0.54154,     0.54254,     0.54354,     0.54454,     0.54555,     0.54655,     0.54755,     0.54855,     0.54955,     0.55055,     0.55155,\n",
       "           0.55255,     0.55355,     0.55455,     0.55556,     0.55656,     0.55756,     0.55856,     0.55956,     0.56056,     0.56156,     0.56256,     0.56356,     0.56456,     0.56557,     0.56657,     0.56757,     0.56857,     0.56957,     0.57057,     0.57157,     0.57257,     0.57357,     0.57457,     0.57558,\n",
       "           0.57658,     0.57758,     0.57858,     0.57958,     0.58058,     0.58158,     0.58258,     0.58358,     0.58458,     0.58559,     0.58659,     0.58759,     0.58859,     0.58959,     0.59059,     0.59159,     0.59259,     0.59359,     0.59459,      0.5956,      0.5966,      0.5976,      0.5986,      0.5996,\n",
       "            0.6006,      0.6016,      0.6026,      0.6036,      0.6046,     0.60561,     0.60661,     0.60761,     0.60861,     0.60961,     0.61061,     0.61161,     0.61261,     0.61361,     0.61461,     0.61562,     0.61662,     0.61762,     0.61862,     0.61962,     0.62062,     0.62162,     0.62262,     0.62362,\n",
       "           0.62462,     0.62563,     0.62663,     0.62763,     0.62863,     0.62963,     0.63063,     0.63163,     0.63263,     0.63363,     0.63463,     0.63564,     0.63664,     0.63764,     0.63864,     0.63964,     0.64064,     0.64164,     0.64264,     0.64364,     0.64464,     0.64565,     0.64665,     0.64765,\n",
       "           0.64865,     0.64965,     0.65065,     0.65165,     0.65265,     0.65365,     0.65465,     0.65566,     0.65666,     0.65766,     0.65866,     0.65966,     0.66066,     0.66166,     0.66266,     0.66366,     0.66466,     0.66567,     0.66667,     0.66767,     0.66867,     0.66967,     0.67067,     0.67167,\n",
       "           0.67267,     0.67367,     0.67467,     0.67568,     0.67668,     0.67768,     0.67868,     0.67968,     0.68068,     0.68168,     0.68268,     0.68368,     0.68468,     0.68569,     0.68669,     0.68769,     0.68869,     0.68969,     0.69069,     0.69169,     0.69269,     0.69369,     0.69469,      0.6957,\n",
       "            0.6967,      0.6977,      0.6987,      0.6997,      0.7007,      0.7017,      0.7027,      0.7037,      0.7047,     0.70571,     0.70671,     0.70771,     0.70871,     0.70971,     0.71071,     0.71171,     0.71271,     0.71371,     0.71471,     0.71572,     0.71672,     0.71772,     0.71872,     0.71972,\n",
       "           0.72072,     0.72172,     0.72272,     0.72372,     0.72472,     0.72573,     0.72673,     0.72773,     0.72873,     0.72973,     0.73073,     0.73173,     0.73273,     0.73373,     0.73473,     0.73574,     0.73674,     0.73774,     0.73874,     0.73974,     0.74074,     0.74174,     0.74274,     0.74374,\n",
       "           0.74474,     0.74575,     0.74675,     0.74775,     0.74875,     0.74975,     0.75075,     0.75175,     0.75275,     0.75375,     0.75475,     0.75576,     0.75676,     0.75776,     0.75876,     0.75976,     0.76076,     0.76176,     0.76276,     0.76376,     0.76476,     0.76577,     0.76677,     0.76777,\n",
       "           0.76877,     0.76977,     0.77077,     0.77177,     0.77277,     0.77377,     0.77477,     0.77578,     0.77678,     0.77778,     0.77878,     0.77978,     0.78078,     0.78178,     0.78278,     0.78378,     0.78478,     0.78579,     0.78679,     0.78779,     0.78879,     0.78979,     0.79079,     0.79179,\n",
       "           0.79279,     0.79379,     0.79479,      0.7958,      0.7968,      0.7978,      0.7988,      0.7998,      0.8008,      0.8018,      0.8028,      0.8038,      0.8048,     0.80581,     0.80681,     0.80781,     0.80881,     0.80981,     0.81081,     0.81181,     0.81281,     0.81381,     0.81481,     0.81582,\n",
       "           0.81682,     0.81782,     0.81882,     0.81982,     0.82082,     0.82182,     0.82282,     0.82382,     0.82482,     0.82583,     0.82683,     0.82783,     0.82883,     0.82983,     0.83083,     0.83183,     0.83283,     0.83383,     0.83483,     0.83584,     0.83684,     0.83784,     0.83884,     0.83984,\n",
       "           0.84084,     0.84184,     0.84284,     0.84384,     0.84484,     0.84585,     0.84685,     0.84785,     0.84885,     0.84985,     0.85085,     0.85185,     0.85285,     0.85385,     0.85485,     0.85586,     0.85686,     0.85786,     0.85886,     0.85986,     0.86086,     0.86186,     0.86286,     0.86386,\n",
       "           0.86486,     0.86587,     0.86687,     0.86787,     0.86887,     0.86987,     0.87087,     0.87187,     0.87287,     0.87387,     0.87487,     0.87588,     0.87688,     0.87788,     0.87888,     0.87988,     0.88088,     0.88188,     0.88288,     0.88388,     0.88488,     0.88589,     0.88689,     0.88789,\n",
       "           0.88889,     0.88989,     0.89089,     0.89189,     0.89289,     0.89389,     0.89489,      0.8959,      0.8969,      0.8979,      0.8989,      0.8999,      0.9009,      0.9019,      0.9029,      0.9039,      0.9049,     0.90591,     0.90691,     0.90791,     0.90891,     0.90991,     0.91091,     0.91191,\n",
       "           0.91291,     0.91391,     0.91491,     0.91592,     0.91692,     0.91792,     0.91892,     0.91992,     0.92092,     0.92192,     0.92292,     0.92392,     0.92492,     0.92593,     0.92693,     0.92793,     0.92893,     0.92993,     0.93093,     0.93193,     0.93293,     0.93393,     0.93493,     0.93594,\n",
       "           0.93694,     0.93794,     0.93894,     0.93994,     0.94094,     0.94194,     0.94294,     0.94394,     0.94494,     0.94595,     0.94695,     0.94795,     0.94895,     0.94995,     0.95095,     0.95195,     0.95295,     0.95395,     0.95495,     0.95596,     0.95696,     0.95796,     0.95896,     0.95996,\n",
       "           0.96096,     0.96196,     0.96296,     0.96396,     0.96496,     0.96597,     0.96697,     0.96797,     0.96897,     0.96997,     0.97097,     0.97197,     0.97297,     0.97397,     0.97497,     0.97598,     0.97698,     0.97798,     0.97898,     0.97998,     0.98098,     0.98198,     0.98298,     0.98398,\n",
       "           0.98498,     0.98599,     0.98699,     0.98799,     0.98899,     0.98999,     0.99099,     0.99199,     0.99299,     0.99399,     0.99499,       0.996,       0.997,       0.998,       0.999,           1]), array([[          1,           1,           1,           1,           1,           1,           1,           1,           1,           1,           1,           1,           1,           1,           1,           1,           1,           1,           1,           1,           1,           1,           1,\n",
       "                  1,           1,           1,           1,           1,           1,           1,           1,           1,           1,           1,           1,           1,           1,           1,           1,           1,           1,           1,           1,           1,           1,           1,\n",
       "                  1,           1,           1,           1,           1,           1,           1,           1,           1,           1,           1,           1,           1,           1,           1,           1,           1,           1,           1,           1,           1,           1,           1,\n",
       "                  1,           1,           1,           1,           1,           1,           1,           1,           1,           1,           1,           1,           1,           1,           1,           1,           1,           1,           1,           1,           1,           1,           1,\n",
       "                  1,           1,           1,           1,           1,           1,           1,           1,           1,           1,           1,           1,           1,           1,           1,           1,           1,           1,           1,           1,           1,           1,           1,\n",
       "                  1,           1,           1,           1,           1,           1,           1,           1,     0.99862,     0.99862,     0.99862,     0.99862,     0.99862,     0.99862,     0.99862,     0.99862,     0.99862,     0.99862,     0.99862,     0.99862,     0.99862,     0.99862,     0.99862,\n",
       "            0.99862,     0.99813,     0.99813,     0.99813,     0.99813,     0.99813,     0.99813,     0.99813,     0.99813,     0.99813,     0.99813,     0.99813,     0.99813,     0.99813,     0.99813,     0.99813,     0.99813,     0.99813,     0.99813,     0.99813,     0.99813,     0.99813,     0.99813,\n",
       "            0.99813,     0.99813,     0.99813,     0.99813,     0.99813,     0.99813,     0.99813,     0.99813,     0.99813,     0.99813,     0.99813,     0.99813,     0.99813,     0.99813,     0.99813,     0.99813,     0.99813,     0.99813,     0.99813,     0.99813,     0.99813,     0.99813,     0.99813,\n",
       "            0.99813,     0.99813,     0.99813,     0.99813,     0.99813,     0.99813,     0.99813,     0.99813,     0.99813,     0.99813,     0.99813,     0.99813,     0.99813,     0.99813,     0.99813,     0.99813,     0.99813,     0.99813,     0.99813,     0.99813,     0.99721,     0.99681,     0.99681,\n",
       "            0.99681,     0.99681,     0.99681,     0.99681,     0.99681,     0.99681,     0.99681,     0.99681,     0.99681,     0.99681,     0.99681,     0.99681,     0.99681,     0.99681,     0.99681,     0.99681,     0.99681,     0.99681,     0.99681,     0.99681,     0.99681,     0.99681,     0.99681,\n",
       "            0.99681,     0.99681,     0.99681,     0.99681,     0.99681,     0.99681,     0.99681,     0.99681,     0.99681,     0.99603,     0.99546,     0.99546,     0.99546,     0.99546,     0.99546,     0.99546,     0.99546,     0.99546,     0.99546,     0.99546,     0.99546,     0.99505,     0.99505,\n",
       "            0.99505,     0.99505,     0.99505,     0.99505,     0.99505,     0.99505,     0.99505,     0.99505,     0.99505,     0.99505,     0.99505,     0.99505,     0.99505,     0.99505,     0.99505,     0.99505,     0.99393,     0.99393,     0.99393,     0.99393,     0.99393,     0.99393,     0.99393,\n",
       "            0.99393,     0.99393,     0.99393,     0.99393,     0.99393,     0.99393,     0.99336,     0.99336,     0.99336,     0.99336,     0.99227,     0.99227,     0.99227,     0.99227,     0.99227,     0.99227,     0.99227,     0.99227,     0.99181,     0.99181,     0.99181,     0.99181,     0.99181,\n",
       "            0.99181,     0.99181,     0.99133,     0.99133,     0.99133,     0.99133,     0.99133,     0.99081,     0.99081,     0.99081,      0.9903,      0.9903,      0.9903,     0.98975,     0.98975,      0.9892,     0.98806,     0.98759,     0.98759,     0.98759,      0.9873,      0.9873,      0.9873,\n",
       "             0.9873,      0.9873,      0.9873,      0.9873,      0.9873,     0.98692,     0.98692,     0.98692,     0.98692,     0.98663,     0.98663,     0.98663,     0.98663,     0.98663,     0.98663,     0.98663,     0.98613,     0.98613,     0.98402,     0.98351,     0.98334,     0.98334,     0.98334,\n",
       "            0.98334,     0.98334,     0.98334,     0.98334,     0.98334,     0.98294,     0.98294,     0.98247,     0.98215,     0.98215,     0.98215,     0.98215,     0.98168,      0.9813,      0.9813,      0.9813,      0.9809,      0.9809,     0.98045,     0.98011,     0.98011,     0.98011,      0.9798,\n",
       "             0.9798,      0.9798,      0.9798,     0.97936,     0.97866,     0.97866,     0.97866,     0.97866,     0.97866,     0.97833,     0.97833,     0.97798,     0.97798,     0.97798,     0.97769,     0.97769,     0.97769,     0.97768,     0.97768,     0.97768,     0.97768,     0.97768,     0.97768,\n",
       "            0.97768,     0.97768,     0.97751,     0.97751,     0.97751,     0.97751,     0.97751,     0.97708,     0.97672,     0.97672,     0.97598,     0.97598,     0.97598,      0.9756,     0.97489,     0.97489,     0.97489,     0.97463,     0.97463,     0.97463,     0.97434,     0.97434,       0.974,\n",
       "              0.974,     0.97361,     0.97284,     0.97243,     0.97233,     0.97233,     0.97233,     0.97233,     0.97233,       0.972,     0.97192,     0.97192,     0.97192,     0.97192,     0.97192,     0.97192,     0.97116,     0.96957,     0.96952,     0.96952,     0.96952,     0.96952,     0.96952,\n",
       "            0.96925,     0.96925,     0.96896,     0.96896,     0.96892,     0.96892,     0.96892,     0.96892,     0.96892,     0.96853,     0.96822,      0.9679,     0.96721,     0.96721,     0.96654,     0.96618,     0.96594,     0.96594,     0.96563,     0.96536,     0.96536,     0.96516,     0.96516,\n",
       "            0.96486,     0.96449,     0.96421,     0.96402,     0.96402,     0.96402,     0.96257,     0.96195,     0.96127,     0.96106,     0.96106,     0.96106,     0.96106,     0.96106,     0.96106,     0.96106,     0.96089,     0.96089,     0.96089,     0.96032,     0.96032,     0.95909,     0.95909,\n",
       "            0.95841,     0.95821,     0.95821,     0.95801,     0.95801,     0.95776,     0.95743,     0.95702,     0.95702,     0.95702,     0.95643,     0.95643,     0.95551,     0.95526,     0.95473,     0.95473,      0.9537,     0.95312,     0.95297,     0.95297,     0.95272,     0.95247,     0.95183,\n",
       "            0.95165,     0.95132,     0.95071,     0.95071,     0.95071,     0.95071,     0.94979,     0.94974,     0.94974,     0.94974,     0.94951,     0.94951,     0.94951,     0.94951,     0.94951,     0.94898,     0.94872,     0.94836,     0.94836,     0.94836,     0.94715,     0.94695,      0.9467,\n",
       "            0.94579,     0.94529,     0.94503,      0.9445,     0.94368,      0.9434,     0.94303,     0.94303,     0.94263,     0.94263,     0.94263,     0.94135,     0.94135,     0.94112,     0.94087,     0.94046,     0.94046,       0.939,     0.93826,     0.93821,     0.93821,     0.93821,     0.93768,\n",
       "            0.93718,     0.93611,     0.93595,     0.93517,       0.935,       0.935,     0.93333,     0.93291,     0.93238,     0.93178,     0.93178,     0.93123,     0.93017,     0.93005,     0.92982,     0.92971,     0.92926,     0.92902,     0.92802,     0.92751,     0.92678,     0.92672,     0.92672,\n",
       "            0.92614,     0.92614,     0.92538,     0.92498,     0.92481,     0.92378,     0.92282,     0.92259,     0.92162,       0.921,     0.92047,     0.92038,     0.91935,      0.9193,     0.91907,     0.91892,     0.91827,     0.91755,     0.91748,     0.91726,     0.91664,     0.91664,     0.91664,\n",
       "             0.9164,     0.91468,     0.91379,     0.91341,     0.91322,     0.91284,     0.91223,     0.91204,     0.91203,     0.91203,     0.91163,     0.91163,     0.91163,     0.91108,     0.91061,     0.90896,     0.90855,     0.90779,     0.90764,      0.9067,     0.90503,      0.9044,     0.90381,\n",
       "            0.90374,     0.90185,     0.90107,     0.90091,     0.89953,     0.89874,     0.89858,     0.89684,     0.89674,     0.89596,     0.89583,     0.89474,     0.89442,     0.89409,     0.89345,     0.89296,     0.89236,     0.89199,     0.89199,     0.89184,      0.8908,     0.89027,     0.88992,\n",
       "            0.88915,     0.88868,     0.88758,     0.88703,     0.88602,     0.88505,     0.88496,     0.88466,     0.88415,     0.88299,     0.88172,     0.88018,     0.87944,     0.87928,     0.87917,     0.87917,     0.87884,     0.87804,     0.87775,     0.87756,     0.87645,     0.87613,     0.87563,\n",
       "            0.87491,     0.87335,     0.87242,     0.87073,     0.87015,     0.86968,     0.86968,     0.86968,     0.86889,     0.86778,      0.8667,     0.86629,     0.86534,     0.86445,     0.86405,     0.86293,     0.86206,     0.86016,     0.85868,     0.85724,      0.8564,     0.85558,     0.85471,\n",
       "             0.8535,     0.85227,     0.85104,     0.85062,     0.85043,     0.84942,      0.8492,     0.84882,     0.84745,     0.84662,     0.84553,     0.84545,      0.8445,     0.84413,     0.84408,     0.84291,     0.84079,     0.83907,     0.83853,     0.83773,     0.83625,     0.83464,     0.83426,\n",
       "            0.83315,     0.83259,     0.83182,     0.83108,     0.83021,     0.82944,     0.82894,      0.8284,     0.82677,     0.82527,     0.82467,      0.8239,      0.8238,      0.8231,     0.82137,     0.81914,     0.81737,     0.81478,     0.81277,      0.8121,     0.81067,     0.81062,        0.81,\n",
       "            0.80682,     0.80588,     0.80207,     0.79946,     0.79659,     0.79545,      0.7942,     0.79167,     0.78776,     0.78639,     0.78424,     0.78324,     0.78147,     0.77948,       0.778,      0.7769,     0.77607,      0.7731,     0.77177,     0.76989,     0.76747,     0.76415,      0.7613,\n",
       "             0.7579,     0.75564,      0.7544,     0.74995,     0.74804,     0.74725,     0.74628,     0.74357,     0.73934,     0.73579,     0.73443,     0.73413,     0.73331,     0.73016,     0.72713,     0.72529,     0.72386,     0.72227,     0.71928,     0.71826,     0.71742,     0.71599,     0.71453,\n",
       "            0.71342,     0.71267,     0.70997,     0.70843,     0.70698,     0.70626,     0.70435,     0.70262,     0.70014,     0.69838,     0.69658,      0.6952,     0.69302,     0.68984,     0.68861,     0.68615,     0.68243,     0.68036,     0.67941,     0.67318,     0.67135,     0.67017,      0.6682,\n",
       "            0.66472,     0.66259,     0.65821,     0.65756,     0.65651,     0.65469,     0.65245,     0.65112,     0.65079,     0.64608,     0.64246,     0.64032,     0.63745,     0.63241,     0.62943,     0.62604,      0.6244,     0.62086,     0.61804,      0.6167,     0.61548,      0.6065,     0.60407,\n",
       "            0.60205,     0.60066,     0.59567,     0.59319,     0.58994,     0.58704,     0.57898,     0.57229,     0.56846,     0.56669,     0.56422,      0.5601,     0.55789,     0.55292,     0.54757,     0.54266,     0.53507,     0.53245,     0.52572,     0.52339,     0.51668,     0.50933,     0.50527,\n",
       "            0.50333,     0.50129,     0.49866,     0.49508,     0.49016,     0.48388,     0.48286,     0.47922,     0.47445,      0.4673,     0.46307,      0.4561,     0.44341,     0.43942,     0.43153,     0.42875,     0.42151,      0.4155,     0.40872,     0.40409,     0.39954,     0.39622,     0.39103,\n",
       "            0.38533,     0.38013,     0.37199,      0.3655,     0.35536,     0.35278,     0.34001,     0.32988,     0.32392,     0.31428,     0.30688,     0.30199,     0.29403,     0.29262,     0.28762,     0.28565,     0.28031,      0.2736,     0.26594,      0.2549,     0.24861,     0.24353,     0.23366,\n",
       "            0.23086,     0.21899,     0.20275,     0.19587,     0.19119,     0.17813,     0.15929,     0.15349,     0.15188,     0.15026,     0.14865,     0.14703,     0.14541,      0.1438,     0.14218,     0.14057,     0.13895,     0.13734,     0.13572,      0.1341,     0.13249,     0.13087,     0.12926,\n",
       "            0.12764,     0.12603,     0.12441,     0.12279,     0.12118,     0.11956,     0.11795,     0.11633,     0.11472,      0.1131,     0.11148,     0.10987,     0.10825,     0.10664,     0.10502,     0.10341,     0.10179,     0.10017,    0.098558,    0.096943,    0.095327,    0.093711,    0.092095,\n",
       "            0.09048,    0.088864,    0.087248,    0.085633,    0.084017,    0.082401,    0.080785,     0.07917,    0.077554,    0.075938,    0.074323,    0.072707,    0.071091,    0.069475,     0.06786,    0.066244,    0.064628,    0.063013,    0.061397,    0.059781,    0.058166,     0.05655,    0.054934,\n",
       "           0.053318,    0.051703,    0.050087,    0.048471,    0.046856,     0.04524,    0.043624,    0.042008,    0.040393,    0.038777,    0.037161,    0.035546,     0.03393,    0.032314,    0.030698,    0.029083,    0.027467,    0.025851,    0.024236,     0.02262,    0.021004,    0.019389,    0.017773,\n",
       "           0.016157,    0.014541,    0.012926,     0.01131,   0.0096943,   0.0080785,   0.0064628,   0.0048471,   0.0032314,   0.0016157,           0]]), 'Recall', 'Precision'], [array([          0,    0.001001,    0.002002,    0.003003,    0.004004,    0.005005,    0.006006,    0.007007,    0.008008,    0.009009,     0.01001,    0.011011,    0.012012,    0.013013,    0.014014,    0.015015,    0.016016,    0.017017,    0.018018,    0.019019,     0.02002,    0.021021,    0.022022,    0.023023,\n",
       "          0.024024,    0.025025,    0.026026,    0.027027,    0.028028,    0.029029,     0.03003,    0.031031,    0.032032,    0.033033,    0.034034,    0.035035,    0.036036,    0.037037,    0.038038,    0.039039,     0.04004,    0.041041,    0.042042,    0.043043,    0.044044,    0.045045,    0.046046,    0.047047,\n",
       "          0.048048,    0.049049,     0.05005,    0.051051,    0.052052,    0.053053,    0.054054,    0.055055,    0.056056,    0.057057,    0.058058,    0.059059,     0.06006,    0.061061,    0.062062,    0.063063,    0.064064,    0.065065,    0.066066,    0.067067,    0.068068,    0.069069,     0.07007,    0.071071,\n",
       "          0.072072,    0.073073,    0.074074,    0.075075,    0.076076,    0.077077,    0.078078,    0.079079,     0.08008,    0.081081,    0.082082,    0.083083,    0.084084,    0.085085,    0.086086,    0.087087,    0.088088,    0.089089,     0.09009,    0.091091,    0.092092,    0.093093,    0.094094,    0.095095,\n",
       "          0.096096,    0.097097,    0.098098,    0.099099,      0.1001,      0.1011,      0.1021,      0.1031,      0.1041,     0.10511,     0.10611,     0.10711,     0.10811,     0.10911,     0.11011,     0.11111,     0.11211,     0.11311,     0.11411,     0.11512,     0.11612,     0.11712,     0.11812,     0.11912,\n",
       "           0.12012,     0.12112,     0.12212,     0.12312,     0.12412,     0.12513,     0.12613,     0.12713,     0.12813,     0.12913,     0.13013,     0.13113,     0.13213,     0.13313,     0.13413,     0.13514,     0.13614,     0.13714,     0.13814,     0.13914,     0.14014,     0.14114,     0.14214,     0.14314,\n",
       "           0.14414,     0.14515,     0.14615,     0.14715,     0.14815,     0.14915,     0.15015,     0.15115,     0.15215,     0.15315,     0.15415,     0.15516,     0.15616,     0.15716,     0.15816,     0.15916,     0.16016,     0.16116,     0.16216,     0.16316,     0.16416,     0.16517,     0.16617,     0.16717,\n",
       "           0.16817,     0.16917,     0.17017,     0.17117,     0.17217,     0.17317,     0.17417,     0.17518,     0.17618,     0.17718,     0.17818,     0.17918,     0.18018,     0.18118,     0.18218,     0.18318,     0.18418,     0.18519,     0.18619,     0.18719,     0.18819,     0.18919,     0.19019,     0.19119,\n",
       "           0.19219,     0.19319,     0.19419,      0.1952,      0.1962,      0.1972,      0.1982,      0.1992,      0.2002,      0.2012,      0.2022,      0.2032,      0.2042,     0.20521,     0.20621,     0.20721,     0.20821,     0.20921,     0.21021,     0.21121,     0.21221,     0.21321,     0.21421,     0.21522,\n",
       "           0.21622,     0.21722,     0.21822,     0.21922,     0.22022,     0.22122,     0.22222,     0.22322,     0.22422,     0.22523,     0.22623,     0.22723,     0.22823,     0.22923,     0.23023,     0.23123,     0.23223,     0.23323,     0.23423,     0.23524,     0.23624,     0.23724,     0.23824,     0.23924,\n",
       "           0.24024,     0.24124,     0.24224,     0.24324,     0.24424,     0.24525,     0.24625,     0.24725,     0.24825,     0.24925,     0.25025,     0.25125,     0.25225,     0.25325,     0.25425,     0.25526,     0.25626,     0.25726,     0.25826,     0.25926,     0.26026,     0.26126,     0.26226,     0.26326,\n",
       "           0.26426,     0.26527,     0.26627,     0.26727,     0.26827,     0.26927,     0.27027,     0.27127,     0.27227,     0.27327,     0.27427,     0.27528,     0.27628,     0.27728,     0.27828,     0.27928,     0.28028,     0.28128,     0.28228,     0.28328,     0.28428,     0.28529,     0.28629,     0.28729,\n",
       "           0.28829,     0.28929,     0.29029,     0.29129,     0.29229,     0.29329,     0.29429,      0.2953,      0.2963,      0.2973,      0.2983,      0.2993,      0.3003,      0.3013,      0.3023,      0.3033,      0.3043,     0.30531,     0.30631,     0.30731,     0.30831,     0.30931,     0.31031,     0.31131,\n",
       "           0.31231,     0.31331,     0.31431,     0.31532,     0.31632,     0.31732,     0.31832,     0.31932,     0.32032,     0.32132,     0.32232,     0.32332,     0.32432,     0.32533,     0.32633,     0.32733,     0.32833,     0.32933,     0.33033,     0.33133,     0.33233,     0.33333,     0.33433,     0.33534,\n",
       "           0.33634,     0.33734,     0.33834,     0.33934,     0.34034,     0.34134,     0.34234,     0.34334,     0.34434,     0.34535,     0.34635,     0.34735,     0.34835,     0.34935,     0.35035,     0.35135,     0.35235,     0.35335,     0.35435,     0.35536,     0.35636,     0.35736,     0.35836,     0.35936,\n",
       "           0.36036,     0.36136,     0.36236,     0.36336,     0.36436,     0.36537,     0.36637,     0.36737,     0.36837,     0.36937,     0.37037,     0.37137,     0.37237,     0.37337,     0.37437,     0.37538,     0.37638,     0.37738,     0.37838,     0.37938,     0.38038,     0.38138,     0.38238,     0.38338,\n",
       "           0.38438,     0.38539,     0.38639,     0.38739,     0.38839,     0.38939,     0.39039,     0.39139,     0.39239,     0.39339,     0.39439,      0.3954,      0.3964,      0.3974,      0.3984,      0.3994,      0.4004,      0.4014,      0.4024,      0.4034,      0.4044,     0.40541,     0.40641,     0.40741,\n",
       "           0.40841,     0.40941,     0.41041,     0.41141,     0.41241,     0.41341,     0.41441,     0.41542,     0.41642,     0.41742,     0.41842,     0.41942,     0.42042,     0.42142,     0.42242,     0.42342,     0.42442,     0.42543,     0.42643,     0.42743,     0.42843,     0.42943,     0.43043,     0.43143,\n",
       "           0.43243,     0.43343,     0.43443,     0.43544,     0.43644,     0.43744,     0.43844,     0.43944,     0.44044,     0.44144,     0.44244,     0.44344,     0.44444,     0.44545,     0.44645,     0.44745,     0.44845,     0.44945,     0.45045,     0.45145,     0.45245,     0.45345,     0.45445,     0.45546,\n",
       "           0.45646,     0.45746,     0.45846,     0.45946,     0.46046,     0.46146,     0.46246,     0.46346,     0.46446,     0.46547,     0.46647,     0.46747,     0.46847,     0.46947,     0.47047,     0.47147,     0.47247,     0.47347,     0.47447,     0.47548,     0.47648,     0.47748,     0.47848,     0.47948,\n",
       "           0.48048,     0.48148,     0.48248,     0.48348,     0.48448,     0.48549,     0.48649,     0.48749,     0.48849,     0.48949,     0.49049,     0.49149,     0.49249,     0.49349,     0.49449,      0.4955,      0.4965,      0.4975,      0.4985,      0.4995,      0.5005,      0.5015,      0.5025,      0.5035,\n",
       "            0.5045,     0.50551,     0.50651,     0.50751,     0.50851,     0.50951,     0.51051,     0.51151,     0.51251,     0.51351,     0.51451,     0.51552,     0.51652,     0.51752,     0.51852,     0.51952,     0.52052,     0.52152,     0.52252,     0.52352,     0.52452,     0.52553,     0.52653,     0.52753,\n",
       "           0.52853,     0.52953,     0.53053,     0.53153,     0.53253,     0.53353,     0.53453,     0.53554,     0.53654,     0.53754,     0.53854,     0.53954,     0.54054,     0.54154,     0.54254,     0.54354,     0.54454,     0.54555,     0.54655,     0.54755,     0.54855,     0.54955,     0.55055,     0.55155,\n",
       "           0.55255,     0.55355,     0.55455,     0.55556,     0.55656,     0.55756,     0.55856,     0.55956,     0.56056,     0.56156,     0.56256,     0.56356,     0.56456,     0.56557,     0.56657,     0.56757,     0.56857,     0.56957,     0.57057,     0.57157,     0.57257,     0.57357,     0.57457,     0.57558,\n",
       "           0.57658,     0.57758,     0.57858,     0.57958,     0.58058,     0.58158,     0.58258,     0.58358,     0.58458,     0.58559,     0.58659,     0.58759,     0.58859,     0.58959,     0.59059,     0.59159,     0.59259,     0.59359,     0.59459,      0.5956,      0.5966,      0.5976,      0.5986,      0.5996,\n",
       "            0.6006,      0.6016,      0.6026,      0.6036,      0.6046,     0.60561,     0.60661,     0.60761,     0.60861,     0.60961,     0.61061,     0.61161,     0.61261,     0.61361,     0.61461,     0.61562,     0.61662,     0.61762,     0.61862,     0.61962,     0.62062,     0.62162,     0.62262,     0.62362,\n",
       "           0.62462,     0.62563,     0.62663,     0.62763,     0.62863,     0.62963,     0.63063,     0.63163,     0.63263,     0.63363,     0.63463,     0.63564,     0.63664,     0.63764,     0.63864,     0.63964,     0.64064,     0.64164,     0.64264,     0.64364,     0.64464,     0.64565,     0.64665,     0.64765,\n",
       "           0.64865,     0.64965,     0.65065,     0.65165,     0.65265,     0.65365,     0.65465,     0.65566,     0.65666,     0.65766,     0.65866,     0.65966,     0.66066,     0.66166,     0.66266,     0.66366,     0.66466,     0.66567,     0.66667,     0.66767,     0.66867,     0.66967,     0.67067,     0.67167,\n",
       "           0.67267,     0.67367,     0.67467,     0.67568,     0.67668,     0.67768,     0.67868,     0.67968,     0.68068,     0.68168,     0.68268,     0.68368,     0.68468,     0.68569,     0.68669,     0.68769,     0.68869,     0.68969,     0.69069,     0.69169,     0.69269,     0.69369,     0.69469,      0.6957,\n",
       "            0.6967,      0.6977,      0.6987,      0.6997,      0.7007,      0.7017,      0.7027,      0.7037,      0.7047,     0.70571,     0.70671,     0.70771,     0.70871,     0.70971,     0.71071,     0.71171,     0.71271,     0.71371,     0.71471,     0.71572,     0.71672,     0.71772,     0.71872,     0.71972,\n",
       "           0.72072,     0.72172,     0.72272,     0.72372,     0.72472,     0.72573,     0.72673,     0.72773,     0.72873,     0.72973,     0.73073,     0.73173,     0.73273,     0.73373,     0.73473,     0.73574,     0.73674,     0.73774,     0.73874,     0.73974,     0.74074,     0.74174,     0.74274,     0.74374,\n",
       "           0.74474,     0.74575,     0.74675,     0.74775,     0.74875,     0.74975,     0.75075,     0.75175,     0.75275,     0.75375,     0.75475,     0.75576,     0.75676,     0.75776,     0.75876,     0.75976,     0.76076,     0.76176,     0.76276,     0.76376,     0.76476,     0.76577,     0.76677,     0.76777,\n",
       "           0.76877,     0.76977,     0.77077,     0.77177,     0.77277,     0.77377,     0.77477,     0.77578,     0.77678,     0.77778,     0.77878,     0.77978,     0.78078,     0.78178,     0.78278,     0.78378,     0.78478,     0.78579,     0.78679,     0.78779,     0.78879,     0.78979,     0.79079,     0.79179,\n",
       "           0.79279,     0.79379,     0.79479,      0.7958,      0.7968,      0.7978,      0.7988,      0.7998,      0.8008,      0.8018,      0.8028,      0.8038,      0.8048,     0.80581,     0.80681,     0.80781,     0.80881,     0.80981,     0.81081,     0.81181,     0.81281,     0.81381,     0.81481,     0.81582,\n",
       "           0.81682,     0.81782,     0.81882,     0.81982,     0.82082,     0.82182,     0.82282,     0.82382,     0.82482,     0.82583,     0.82683,     0.82783,     0.82883,     0.82983,     0.83083,     0.83183,     0.83283,     0.83383,     0.83483,     0.83584,     0.83684,     0.83784,     0.83884,     0.83984,\n",
       "           0.84084,     0.84184,     0.84284,     0.84384,     0.84484,     0.84585,     0.84685,     0.84785,     0.84885,     0.84985,     0.85085,     0.85185,     0.85285,     0.85385,     0.85485,     0.85586,     0.85686,     0.85786,     0.85886,     0.85986,     0.86086,     0.86186,     0.86286,     0.86386,\n",
       "           0.86486,     0.86587,     0.86687,     0.86787,     0.86887,     0.86987,     0.87087,     0.87187,     0.87287,     0.87387,     0.87487,     0.87588,     0.87688,     0.87788,     0.87888,     0.87988,     0.88088,     0.88188,     0.88288,     0.88388,     0.88488,     0.88589,     0.88689,     0.88789,\n",
       "           0.88889,     0.88989,     0.89089,     0.89189,     0.89289,     0.89389,     0.89489,      0.8959,      0.8969,      0.8979,      0.8989,      0.8999,      0.9009,      0.9019,      0.9029,      0.9039,      0.9049,     0.90591,     0.90691,     0.90791,     0.90891,     0.90991,     0.91091,     0.91191,\n",
       "           0.91291,     0.91391,     0.91491,     0.91592,     0.91692,     0.91792,     0.91892,     0.91992,     0.92092,     0.92192,     0.92292,     0.92392,     0.92492,     0.92593,     0.92693,     0.92793,     0.92893,     0.92993,     0.93093,     0.93193,     0.93293,     0.93393,     0.93493,     0.93594,\n",
       "           0.93694,     0.93794,     0.93894,     0.93994,     0.94094,     0.94194,     0.94294,     0.94394,     0.94494,     0.94595,     0.94695,     0.94795,     0.94895,     0.94995,     0.95095,     0.95195,     0.95295,     0.95395,     0.95495,     0.95596,     0.95696,     0.95796,     0.95896,     0.95996,\n",
       "           0.96096,     0.96196,     0.96296,     0.96396,     0.96496,     0.96597,     0.96697,     0.96797,     0.96897,     0.96997,     0.97097,     0.97197,     0.97297,     0.97397,     0.97497,     0.97598,     0.97698,     0.97798,     0.97898,     0.97998,     0.98098,     0.98198,     0.98298,     0.98398,\n",
       "           0.98498,     0.98599,     0.98699,     0.98799,     0.98899,     0.98999,     0.99099,     0.99199,     0.99299,     0.99399,     0.99499,       0.996,       0.997,       0.998,       0.999,           1]), array([[    0.26379,     0.26382,     0.29528,     0.31975,     0.34066,     0.35603,     0.36929,     0.38005,     0.38955,     0.39863,     0.40741,     0.41517,     0.42222,     0.42935,     0.43556,     0.44124,     0.44628,     0.45234,     0.45812,     0.46368,     0.46891,     0.47467,     0.48032,\n",
       "            0.48575,     0.49003,     0.49457,     0.49932,     0.50418,     0.50768,     0.51123,     0.51586,     0.51968,     0.52321,       0.527,      0.5302,     0.53339,     0.53659,     0.53982,     0.54303,      0.5457,     0.54814,     0.55083,      0.5535,     0.55586,      0.5581,     0.56108,\n",
       "            0.56382,     0.56593,     0.56826,     0.57117,     0.57369,     0.57589,      0.5778,     0.58058,     0.58262,     0.58511,     0.58685,     0.58883,     0.59078,     0.59252,      0.5945,     0.59709,      0.5992,     0.60107,     0.60317,     0.60508,     0.60739,      0.6094,     0.61091,\n",
       "            0.61265,     0.61454,     0.61606,     0.61731,     0.61826,     0.61945,     0.62133,     0.62309,     0.62469,     0.62618,     0.62772,      0.6288,     0.63039,     0.63158,     0.63277,      0.6336,     0.63526,     0.63661,     0.63772,     0.63917,     0.64103,     0.64234,     0.64364,\n",
       "            0.64493,     0.64623,     0.64729,     0.64814,     0.64959,      0.6509,     0.65216,     0.65344,     0.65433,     0.65532,     0.65684,     0.65838,     0.65976,     0.66109,       0.662,     0.66311,     0.66397,      0.6654,     0.66657,      0.6676,     0.66909,     0.67011,     0.67095,\n",
       "            0.67197,     0.67291,     0.67392,      0.6746,     0.67557,     0.67609,     0.67679,     0.67744,      0.6783,      0.6794,     0.68045,     0.68124,     0.68256,     0.68372,     0.68437,      0.6847,     0.68587,     0.68685,      0.6879,     0.68888,     0.68955,      0.6904,     0.69108,\n",
       "            0.69248,     0.69267,     0.69372,     0.69466,     0.69534,     0.69593,     0.69689,     0.69751,     0.69779,      0.6983,     0.69915,     0.69974,     0.70082,     0.70144,     0.70234,     0.70359,     0.70453,     0.70527,     0.70551,     0.70594,     0.70627,     0.70687,     0.70766,\n",
       "            0.70825,       0.709,     0.70961,     0.71024,     0.71045,     0.71127,     0.71203,     0.71217,     0.71327,     0.71427,      0.7148,     0.71584,      0.7164,     0.71687,     0.71781,     0.71842,     0.71879,     0.71985,     0.72074,     0.72096,     0.72113,     0.72213,     0.72291,\n",
       "             0.7231,     0.72349,     0.72353,     0.72447,     0.72518,     0.72506,     0.72524,     0.72518,     0.72574,     0.72626,     0.72712,     0.72767,     0.72801,      0.7285,     0.72915,     0.72985,     0.73014,     0.73076,     0.73075,     0.73119,     0.73119,     0.73183,     0.73206,\n",
       "            0.73292,     0.73387,     0.73449,     0.73513,     0.73524,     0.73565,     0.73603,     0.73657,     0.73722,     0.73776,     0.73772,     0.73795,     0.73831,     0.73856,      0.7389,     0.73924,     0.73997,      0.7403,     0.74047,     0.74103,      0.7415,     0.74154,     0.74188,\n",
       "            0.74212,     0.74232,     0.74272,     0.74305,     0.74358,     0.74366,     0.74402,     0.74413,     0.74448,     0.74464,     0.74479,     0.74474,     0.74515,      0.7453,     0.74547,     0.74596,     0.74672,     0.74629,     0.74662,     0.74679,     0.74681,     0.74745,     0.74693,\n",
       "            0.74713,     0.74735,     0.74796,     0.74844,     0.74876,     0.74915,     0.74922,     0.74964,     0.74971,     0.75033,     0.75056,     0.75088,      0.7514,     0.75188,     0.75175,     0.75171,     0.75199,     0.75187,     0.75253,     0.75291,     0.75338,     0.75336,     0.75392,\n",
       "             0.7544,     0.75444,     0.75487,     0.75571,     0.75566,     0.75613,     0.75582,     0.75627,     0.75634,     0.75661,     0.75735,      0.7579,     0.75811,     0.75841,     0.75825,     0.75846,      0.7588,     0.75931,     0.75932,     0.75971,     0.76001,     0.76054,     0.76104,\n",
       "            0.76125,     0.76207,     0.76219,     0.76266,     0.76298,     0.76309,     0.76322,     0.76317,     0.76317,     0.76372,     0.76391,     0.76436,     0.76459,     0.76402,     0.76401,     0.76383,     0.76437,     0.76451,     0.76467,     0.76481,     0.76534,     0.76484,     0.76502,\n",
       "            0.76499,     0.76509,     0.76551,     0.76559,     0.76573,     0.76592,     0.76629,     0.76696,     0.76741,     0.76734,     0.76761,     0.76764,     0.76766,     0.76754,     0.76746,     0.76812,     0.76843,     0.76872,      0.7691,      0.7695,     0.76983,     0.77016,     0.77041,\n",
       "            0.77016,     0.77036,     0.77121,     0.77086,     0.77083,     0.77024,     0.77009,     0.77042,     0.77025,     0.77022,     0.77096,     0.77102,     0.77105,     0.77119,     0.77141,     0.77152,     0.77155,     0.77161,     0.77178,     0.77168,     0.77164,     0.77092,     0.77094,\n",
       "            0.77051,     0.77062,      0.7706,     0.77093,     0.77047,     0.77051,     0.76999,     0.76978,     0.76972,     0.76947,      0.7694,     0.76893,     0.76897,     0.76883,     0.76862,     0.76805,     0.76827,     0.76813,     0.76832,     0.76804,     0.76788,     0.76805,     0.76794,\n",
       "            0.76823,     0.76797,     0.76792,      0.7671,     0.76694,     0.76673,     0.76634,     0.76628,     0.76597,     0.76597,     0.76612,     0.76599,     0.76551,     0.76498,      0.7647,     0.76412,     0.76369,     0.76365,     0.76351,     0.76352,     0.76328,     0.76334,     0.76326,\n",
       "            0.76278,     0.76244,     0.76232,     0.76236,     0.76261,     0.76238,     0.76232,     0.76216,     0.76228,     0.76145,     0.76129,     0.76137,     0.76071,     0.76031,     0.76023,     0.76027,     0.76017,     0.75935,     0.75823,     0.75801,     0.75777,     0.75769,     0.75761,\n",
       "            0.75724,     0.75737,     0.75736,     0.75683,     0.75623,     0.75578,     0.75562,      0.7549,      0.7544,     0.75393,     0.75299,     0.75219,     0.75198,     0.75144,     0.75146,     0.75146,     0.75091,     0.75052,     0.74978,     0.74933,     0.74889,     0.74856,     0.74826,\n",
       "            0.74817,     0.74789,     0.74744,     0.74688,      0.7464,     0.74595,     0.74542,     0.74462,     0.74411,      0.7433,     0.74284,     0.74248,     0.74208,      0.7414,     0.74132,     0.74047,     0.73988,      0.7392,     0.73879,     0.73904,     0.73836,     0.73821,     0.73797,\n",
       "            0.73726,     0.73667,     0.73691,     0.73618,     0.73563,     0.73525,     0.73487,     0.73483,     0.73476,     0.73445,     0.73341,     0.73291,     0.73257,     0.73232,      0.7313,     0.73054,      0.7293,     0.72787,      0.7274,     0.72655,     0.72591,     0.72549,     0.72513,\n",
       "            0.72445,     0.72389,     0.72414,     0.72374,     0.72207,     0.72136,     0.72025,     0.71963,     0.71837,     0.71777,     0.71693,     0.71578,     0.71489,     0.71429,     0.71394,     0.71301,     0.71224,     0.71111,     0.71091,     0.70974,     0.70935,     0.70865,     0.70781,\n",
       "            0.70732,     0.70702,     0.70636,     0.70565,     0.70492,     0.70302,     0.70245,     0.70168,     0.70047,     0.70037,      0.6996,     0.69878,      0.6985,     0.69853,     0.69758,     0.69699,     0.69627,       0.696,     0.69526,     0.69517,     0.69427,     0.69346,     0.69239,\n",
       "            0.69208,     0.69109,     0.69075,     0.68999,     0.68922,     0.68799,      0.6861,     0.68574,     0.68449,     0.68389,     0.68278,     0.68219,     0.68171,     0.68114,     0.68016,     0.67911,     0.67866,      0.6778,     0.67675,     0.67619,     0.67444,     0.67349,     0.67259,\n",
       "            0.67177,     0.66925,     0.66809,     0.66651,     0.66558,     0.66453,     0.66305,     0.66185,      0.6604,     0.65971,     0.65899,     0.65733,     0.65616,     0.65554,     0.65507,      0.6533,     0.65244,     0.65122,     0.64996,     0.64843,     0.64772,     0.64649,     0.64486,\n",
       "            0.64318,     0.64248,     0.64065,     0.63929,     0.63771,     0.63582,     0.63404,     0.63272,     0.63105,      0.6297,     0.62893,     0.62808,     0.62758,     0.62528,     0.62339,     0.62197,     0.62063,     0.61929,     0.61652,     0.61593,       0.614,     0.61346,     0.61217,\n",
       "            0.61129,     0.60995,     0.60888,     0.60727,     0.60601,     0.60466,     0.60372,     0.60084,     0.59878,     0.59697,     0.59613,     0.59467,     0.59293,     0.59031,     0.58856,     0.58664,     0.58504,     0.58333,     0.58235,      0.5804,     0.57983,     0.57789,     0.57521,\n",
       "            0.57396,     0.57159,     0.56994,     0.56816,     0.56595,     0.56394,     0.56245,     0.56114,     0.55871,     0.55774,     0.55614,     0.55343,       0.552,     0.54952,     0.54779,     0.54573,     0.54379,     0.54122,     0.53937,     0.53788,     0.53546,     0.53385,     0.53191,\n",
       "            0.52976,      0.5285,     0.52625,     0.52307,     0.52131,     0.51948,     0.51722,     0.51525,       0.514,     0.51015,     0.50672,     0.50499,     0.50271,     0.50009,     0.49716,     0.49495,      0.4936,     0.49144,     0.48733,     0.48437,     0.48169,     0.48035,     0.47885,\n",
       "            0.47659,     0.47605,     0.47421,     0.47213,     0.46947,     0.46754,     0.46415,     0.46161,     0.46048,     0.45702,     0.45445,      0.4529,     0.45153,     0.44945,     0.44519,     0.44263,     0.43952,      0.4364,     0.43307,     0.43095,     0.42947,     0.42603,     0.42305,\n",
       "            0.42039,     0.41855,     0.41679,     0.41416,     0.41194,     0.40804,     0.40594,     0.40226,     0.39991,     0.39658,     0.39428,     0.39072,     0.38686,     0.38473,     0.38059,     0.37862,     0.37441,      0.3716,     0.36925,     0.36448,     0.36055,      0.3561,     0.35077,\n",
       "            0.34702,     0.34576,     0.34136,     0.33896,     0.33562,     0.33182,     0.32797,     0.32468,     0.32145,     0.31877,     0.31387,      0.3111,     0.30698,     0.30445,     0.30079,      0.2972,     0.29441,     0.29194,     0.28641,     0.28192,     0.27871,     0.27435,      0.2708,\n",
       "            0.26698,     0.26389,     0.26117,     0.25934,     0.25567,     0.25306,     0.25053,      0.2472,     0.24407,     0.24111,     0.23651,     0.23248,     0.22793,     0.22378,     0.22188,     0.21871,     0.21506,     0.21182,     0.20742,     0.20352,     0.20076,     0.19658,     0.19302,\n",
       "            0.18699,     0.18224,     0.17818,     0.17337,     0.16761,     0.16291,     0.15933,     0.15466,     0.15072,      0.1466,     0.14246,     0.13799,     0.13488,     0.12869,     0.12582,     0.12186,     0.11875,     0.11434,     0.11155,     0.10798,     0.10373,     0.10004,    0.096393,\n",
       "           0.093427,    0.090512,     0.08561,    0.081618,    0.077817,    0.076199,    0.071423,    0.068776,    0.064427,    0.061429,    0.059752,    0.057284,    0.054818,    0.052113,    0.046734,    0.045465,    0.043719,    0.041076,    0.039261,    0.038947,    0.036009,     0.03428,    0.033157,\n",
       "           0.030453,    0.030027,    0.027697,    0.027211,    0.025796,    0.023271,    0.022335,    0.019991,    0.018461,     0.01687,    0.016199,    0.015931,    0.014254,    0.013204,    0.011456,    0.010392,    0.009852,   0.0095667,   0.0091906,   0.0086031,   0.0083453,   0.0081092,   0.0077673,\n",
       "          0.0069805,   0.0061608,   0.0055337,   0.0047946,   0.0044896,   0.0043993,    0.004309,   0.0042187,   0.0040719,   0.0039016,   0.0036332,   0.0033903,   0.0033023,   0.0032144,   0.0031264,    0.002951,    0.002614,   0.0025232,   0.0024324,   0.0023415,   0.0018704,   0.0017783,   0.0016861,\n",
       "          0.0015939,   0.0015082,   0.0014403,   0.0013724,   0.0013045,   0.0012366,   0.0011687,  0.00075204,  0.00071954,  0.00068703,  0.00065453,  0.00062202,  0.00058951,    0.000557,  0.00052449,  0.00049197,  0.00045946,  0.00042695,  0.00039443,           0,           0,           0,           0,\n",
       "                  0,           0,           0,           0,           0,           0,           0,           0,           0,           0,           0,           0,           0,           0,           0,           0,           0,           0,           0,           0,           0,           0,           0,\n",
       "                  0,           0,           0,           0,           0,           0,           0,           0,           0,           0,           0,           0,           0,           0,           0,           0,           0,           0,           0,           0,           0,           0,           0,\n",
       "                  0,           0,           0,           0,           0,           0,           0,           0,           0,           0,           0,           0,           0,           0,           0,           0,           0,           0,           0,           0,           0,           0,           0,\n",
       "                  0,           0,           0,           0,           0,           0,           0,           0,           0,           0,           0,           0,           0,           0,           0,           0,           0,           0,           0,           0,           0,           0,           0,\n",
       "                  0,           0,           0,           0,           0,           0,           0,           0,           0,           0,           0]]), 'Confidence', 'F1'], [array([          0,    0.001001,    0.002002,    0.003003,    0.004004,    0.005005,    0.006006,    0.007007,    0.008008,    0.009009,     0.01001,    0.011011,    0.012012,    0.013013,    0.014014,    0.015015,    0.016016,    0.017017,    0.018018,    0.019019,     0.02002,    0.021021,    0.022022,    0.023023,\n",
       "          0.024024,    0.025025,    0.026026,    0.027027,    0.028028,    0.029029,     0.03003,    0.031031,    0.032032,    0.033033,    0.034034,    0.035035,    0.036036,    0.037037,    0.038038,    0.039039,     0.04004,    0.041041,    0.042042,    0.043043,    0.044044,    0.045045,    0.046046,    0.047047,\n",
       "          0.048048,    0.049049,     0.05005,    0.051051,    0.052052,    0.053053,    0.054054,    0.055055,    0.056056,    0.057057,    0.058058,    0.059059,     0.06006,    0.061061,    0.062062,    0.063063,    0.064064,    0.065065,    0.066066,    0.067067,    0.068068,    0.069069,     0.07007,    0.071071,\n",
       "          0.072072,    0.073073,    0.074074,    0.075075,    0.076076,    0.077077,    0.078078,    0.079079,     0.08008,    0.081081,    0.082082,    0.083083,    0.084084,    0.085085,    0.086086,    0.087087,    0.088088,    0.089089,     0.09009,    0.091091,    0.092092,    0.093093,    0.094094,    0.095095,\n",
       "          0.096096,    0.097097,    0.098098,    0.099099,      0.1001,      0.1011,      0.1021,      0.1031,      0.1041,     0.10511,     0.10611,     0.10711,     0.10811,     0.10911,     0.11011,     0.11111,     0.11211,     0.11311,     0.11411,     0.11512,     0.11612,     0.11712,     0.11812,     0.11912,\n",
       "           0.12012,     0.12112,     0.12212,     0.12312,     0.12412,     0.12513,     0.12613,     0.12713,     0.12813,     0.12913,     0.13013,     0.13113,     0.13213,     0.13313,     0.13413,     0.13514,     0.13614,     0.13714,     0.13814,     0.13914,     0.14014,     0.14114,     0.14214,     0.14314,\n",
       "           0.14414,     0.14515,     0.14615,     0.14715,     0.14815,     0.14915,     0.15015,     0.15115,     0.15215,     0.15315,     0.15415,     0.15516,     0.15616,     0.15716,     0.15816,     0.15916,     0.16016,     0.16116,     0.16216,     0.16316,     0.16416,     0.16517,     0.16617,     0.16717,\n",
       "           0.16817,     0.16917,     0.17017,     0.17117,     0.17217,     0.17317,     0.17417,     0.17518,     0.17618,     0.17718,     0.17818,     0.17918,     0.18018,     0.18118,     0.18218,     0.18318,     0.18418,     0.18519,     0.18619,     0.18719,     0.18819,     0.18919,     0.19019,     0.19119,\n",
       "           0.19219,     0.19319,     0.19419,      0.1952,      0.1962,      0.1972,      0.1982,      0.1992,      0.2002,      0.2012,      0.2022,      0.2032,      0.2042,     0.20521,     0.20621,     0.20721,     0.20821,     0.20921,     0.21021,     0.21121,     0.21221,     0.21321,     0.21421,     0.21522,\n",
       "           0.21622,     0.21722,     0.21822,     0.21922,     0.22022,     0.22122,     0.22222,     0.22322,     0.22422,     0.22523,     0.22623,     0.22723,     0.22823,     0.22923,     0.23023,     0.23123,     0.23223,     0.23323,     0.23423,     0.23524,     0.23624,     0.23724,     0.23824,     0.23924,\n",
       "           0.24024,     0.24124,     0.24224,     0.24324,     0.24424,     0.24525,     0.24625,     0.24725,     0.24825,     0.24925,     0.25025,     0.25125,     0.25225,     0.25325,     0.25425,     0.25526,     0.25626,     0.25726,     0.25826,     0.25926,     0.26026,     0.26126,     0.26226,     0.26326,\n",
       "           0.26426,     0.26527,     0.26627,     0.26727,     0.26827,     0.26927,     0.27027,     0.27127,     0.27227,     0.27327,     0.27427,     0.27528,     0.27628,     0.27728,     0.27828,     0.27928,     0.28028,     0.28128,     0.28228,     0.28328,     0.28428,     0.28529,     0.28629,     0.28729,\n",
       "           0.28829,     0.28929,     0.29029,     0.29129,     0.29229,     0.29329,     0.29429,      0.2953,      0.2963,      0.2973,      0.2983,      0.2993,      0.3003,      0.3013,      0.3023,      0.3033,      0.3043,     0.30531,     0.30631,     0.30731,     0.30831,     0.30931,     0.31031,     0.31131,\n",
       "           0.31231,     0.31331,     0.31431,     0.31532,     0.31632,     0.31732,     0.31832,     0.31932,     0.32032,     0.32132,     0.32232,     0.32332,     0.32432,     0.32533,     0.32633,     0.32733,     0.32833,     0.32933,     0.33033,     0.33133,     0.33233,     0.33333,     0.33433,     0.33534,\n",
       "           0.33634,     0.33734,     0.33834,     0.33934,     0.34034,     0.34134,     0.34234,     0.34334,     0.34434,     0.34535,     0.34635,     0.34735,     0.34835,     0.34935,     0.35035,     0.35135,     0.35235,     0.35335,     0.35435,     0.35536,     0.35636,     0.35736,     0.35836,     0.35936,\n",
       "           0.36036,     0.36136,     0.36236,     0.36336,     0.36436,     0.36537,     0.36637,     0.36737,     0.36837,     0.36937,     0.37037,     0.37137,     0.37237,     0.37337,     0.37437,     0.37538,     0.37638,     0.37738,     0.37838,     0.37938,     0.38038,     0.38138,     0.38238,     0.38338,\n",
       "           0.38438,     0.38539,     0.38639,     0.38739,     0.38839,     0.38939,     0.39039,     0.39139,     0.39239,     0.39339,     0.39439,      0.3954,      0.3964,      0.3974,      0.3984,      0.3994,      0.4004,      0.4014,      0.4024,      0.4034,      0.4044,     0.40541,     0.40641,     0.40741,\n",
       "           0.40841,     0.40941,     0.41041,     0.41141,     0.41241,     0.41341,     0.41441,     0.41542,     0.41642,     0.41742,     0.41842,     0.41942,     0.42042,     0.42142,     0.42242,     0.42342,     0.42442,     0.42543,     0.42643,     0.42743,     0.42843,     0.42943,     0.43043,     0.43143,\n",
       "           0.43243,     0.43343,     0.43443,     0.43544,     0.43644,     0.43744,     0.43844,     0.43944,     0.44044,     0.44144,     0.44244,     0.44344,     0.44444,     0.44545,     0.44645,     0.44745,     0.44845,     0.44945,     0.45045,     0.45145,     0.45245,     0.45345,     0.45445,     0.45546,\n",
       "           0.45646,     0.45746,     0.45846,     0.45946,     0.46046,     0.46146,     0.46246,     0.46346,     0.46446,     0.46547,     0.46647,     0.46747,     0.46847,     0.46947,     0.47047,     0.47147,     0.47247,     0.47347,     0.47447,     0.47548,     0.47648,     0.47748,     0.47848,     0.47948,\n",
       "           0.48048,     0.48148,     0.48248,     0.48348,     0.48448,     0.48549,     0.48649,     0.48749,     0.48849,     0.48949,     0.49049,     0.49149,     0.49249,     0.49349,     0.49449,      0.4955,      0.4965,      0.4975,      0.4985,      0.4995,      0.5005,      0.5015,      0.5025,      0.5035,\n",
       "            0.5045,     0.50551,     0.50651,     0.50751,     0.50851,     0.50951,     0.51051,     0.51151,     0.51251,     0.51351,     0.51451,     0.51552,     0.51652,     0.51752,     0.51852,     0.51952,     0.52052,     0.52152,     0.52252,     0.52352,     0.52452,     0.52553,     0.52653,     0.52753,\n",
       "           0.52853,     0.52953,     0.53053,     0.53153,     0.53253,     0.53353,     0.53453,     0.53554,     0.53654,     0.53754,     0.53854,     0.53954,     0.54054,     0.54154,     0.54254,     0.54354,     0.54454,     0.54555,     0.54655,     0.54755,     0.54855,     0.54955,     0.55055,     0.55155,\n",
       "           0.55255,     0.55355,     0.55455,     0.55556,     0.55656,     0.55756,     0.55856,     0.55956,     0.56056,     0.56156,     0.56256,     0.56356,     0.56456,     0.56557,     0.56657,     0.56757,     0.56857,     0.56957,     0.57057,     0.57157,     0.57257,     0.57357,     0.57457,     0.57558,\n",
       "           0.57658,     0.57758,     0.57858,     0.57958,     0.58058,     0.58158,     0.58258,     0.58358,     0.58458,     0.58559,     0.58659,     0.58759,     0.58859,     0.58959,     0.59059,     0.59159,     0.59259,     0.59359,     0.59459,      0.5956,      0.5966,      0.5976,      0.5986,      0.5996,\n",
       "            0.6006,      0.6016,      0.6026,      0.6036,      0.6046,     0.60561,     0.60661,     0.60761,     0.60861,     0.60961,     0.61061,     0.61161,     0.61261,     0.61361,     0.61461,     0.61562,     0.61662,     0.61762,     0.61862,     0.61962,     0.62062,     0.62162,     0.62262,     0.62362,\n",
       "           0.62462,     0.62563,     0.62663,     0.62763,     0.62863,     0.62963,     0.63063,     0.63163,     0.63263,     0.63363,     0.63463,     0.63564,     0.63664,     0.63764,     0.63864,     0.63964,     0.64064,     0.64164,     0.64264,     0.64364,     0.64464,     0.64565,     0.64665,     0.64765,\n",
       "           0.64865,     0.64965,     0.65065,     0.65165,     0.65265,     0.65365,     0.65465,     0.65566,     0.65666,     0.65766,     0.65866,     0.65966,     0.66066,     0.66166,     0.66266,     0.66366,     0.66466,     0.66567,     0.66667,     0.66767,     0.66867,     0.66967,     0.67067,     0.67167,\n",
       "           0.67267,     0.67367,     0.67467,     0.67568,     0.67668,     0.67768,     0.67868,     0.67968,     0.68068,     0.68168,     0.68268,     0.68368,     0.68468,     0.68569,     0.68669,     0.68769,     0.68869,     0.68969,     0.69069,     0.69169,     0.69269,     0.69369,     0.69469,      0.6957,\n",
       "            0.6967,      0.6977,      0.6987,      0.6997,      0.7007,      0.7017,      0.7027,      0.7037,      0.7047,     0.70571,     0.70671,     0.70771,     0.70871,     0.70971,     0.71071,     0.71171,     0.71271,     0.71371,     0.71471,     0.71572,     0.71672,     0.71772,     0.71872,     0.71972,\n",
       "           0.72072,     0.72172,     0.72272,     0.72372,     0.72472,     0.72573,     0.72673,     0.72773,     0.72873,     0.72973,     0.73073,     0.73173,     0.73273,     0.73373,     0.73473,     0.73574,     0.73674,     0.73774,     0.73874,     0.73974,     0.74074,     0.74174,     0.74274,     0.74374,\n",
       "           0.74474,     0.74575,     0.74675,     0.74775,     0.74875,     0.74975,     0.75075,     0.75175,     0.75275,     0.75375,     0.75475,     0.75576,     0.75676,     0.75776,     0.75876,     0.75976,     0.76076,     0.76176,     0.76276,     0.76376,     0.76476,     0.76577,     0.76677,     0.76777,\n",
       "           0.76877,     0.76977,     0.77077,     0.77177,     0.77277,     0.77377,     0.77477,     0.77578,     0.77678,     0.77778,     0.77878,     0.77978,     0.78078,     0.78178,     0.78278,     0.78378,     0.78478,     0.78579,     0.78679,     0.78779,     0.78879,     0.78979,     0.79079,     0.79179,\n",
       "           0.79279,     0.79379,     0.79479,      0.7958,      0.7968,      0.7978,      0.7988,      0.7998,      0.8008,      0.8018,      0.8028,      0.8038,      0.8048,     0.80581,     0.80681,     0.80781,     0.80881,     0.80981,     0.81081,     0.81181,     0.81281,     0.81381,     0.81481,     0.81582,\n",
       "           0.81682,     0.81782,     0.81882,     0.81982,     0.82082,     0.82182,     0.82282,     0.82382,     0.82482,     0.82583,     0.82683,     0.82783,     0.82883,     0.82983,     0.83083,     0.83183,     0.83283,     0.83383,     0.83483,     0.83584,     0.83684,     0.83784,     0.83884,     0.83984,\n",
       "           0.84084,     0.84184,     0.84284,     0.84384,     0.84484,     0.84585,     0.84685,     0.84785,     0.84885,     0.84985,     0.85085,     0.85185,     0.85285,     0.85385,     0.85485,     0.85586,     0.85686,     0.85786,     0.85886,     0.85986,     0.86086,     0.86186,     0.86286,     0.86386,\n",
       "           0.86486,     0.86587,     0.86687,     0.86787,     0.86887,     0.86987,     0.87087,     0.87187,     0.87287,     0.87387,     0.87487,     0.87588,     0.87688,     0.87788,     0.87888,     0.87988,     0.88088,     0.88188,     0.88288,     0.88388,     0.88488,     0.88589,     0.88689,     0.88789,\n",
       "           0.88889,     0.88989,     0.89089,     0.89189,     0.89289,     0.89389,     0.89489,      0.8959,      0.8969,      0.8979,      0.8989,      0.8999,      0.9009,      0.9019,      0.9029,      0.9039,      0.9049,     0.90591,     0.90691,     0.90791,     0.90891,     0.90991,     0.91091,     0.91191,\n",
       "           0.91291,     0.91391,     0.91491,     0.91592,     0.91692,     0.91792,     0.91892,     0.91992,     0.92092,     0.92192,     0.92292,     0.92392,     0.92492,     0.92593,     0.92693,     0.92793,     0.92893,     0.92993,     0.93093,     0.93193,     0.93293,     0.93393,     0.93493,     0.93594,\n",
       "           0.93694,     0.93794,     0.93894,     0.93994,     0.94094,     0.94194,     0.94294,     0.94394,     0.94494,     0.94595,     0.94695,     0.94795,     0.94895,     0.94995,     0.95095,     0.95195,     0.95295,     0.95395,     0.95495,     0.95596,     0.95696,     0.95796,     0.95896,     0.95996,\n",
       "           0.96096,     0.96196,     0.96296,     0.96396,     0.96496,     0.96597,     0.96697,     0.96797,     0.96897,     0.96997,     0.97097,     0.97197,     0.97297,     0.97397,     0.97497,     0.97598,     0.97698,     0.97798,     0.97898,     0.97998,     0.98098,     0.98198,     0.98298,     0.98398,\n",
       "           0.98498,     0.98599,     0.98699,     0.98799,     0.98899,     0.98999,     0.99099,     0.99199,     0.99299,     0.99399,     0.99499,       0.996,       0.997,       0.998,       0.999,           1]), array([[    0.15441,     0.15444,      0.1765,     0.19436,     0.21012,     0.22198,     0.23248,     0.24117,     0.24899,     0.25653,     0.26387,      0.2705,     0.27661,      0.2829,     0.28847,     0.29362,     0.29821,     0.30372,     0.30909,      0.3143,     0.31917,     0.32461,     0.33005,\n",
       "             0.3352,      0.3394,     0.34389,     0.34853,     0.35338,     0.35698,      0.3606,     0.36522,     0.36917,     0.37288,     0.37678,     0.38019,     0.38359,     0.38706,     0.39047,     0.39396,     0.39693,     0.39984,     0.40275,     0.40577,      0.4084,     0.41096,     0.41428,\n",
       "            0.41732,     0.41968,     0.42248,     0.42575,     0.42873,     0.43139,     0.43368,     0.43687,     0.43923,     0.44232,     0.44441,     0.44679,     0.44914,     0.45115,     0.45346,     0.45653,     0.45905,     0.46142,     0.46412,     0.46644,     0.46937,     0.47177,     0.47369,\n",
       "            0.47591,     0.47837,      0.4804,     0.48204,      0.4835,      0.4852,     0.48757,      0.4898,     0.49204,     0.49402,     0.49607,     0.49748,      0.4998,     0.50163,     0.50327,     0.50472,     0.50696,     0.50889,     0.51052,     0.51245,     0.51492,     0.51661,      0.5184,\n",
       "            0.52011,      0.5218,     0.52355,     0.52495,     0.52693,     0.52882,     0.53055,      0.5324,     0.53375,     0.53528,     0.53747,     0.53969,     0.54154,     0.54351,     0.54481,     0.54648,     0.54781,     0.54983,     0.55152,     0.55318,     0.55531,      0.5568,     0.55821,\n",
       "            0.55988,     0.56136,     0.56277,     0.56414,     0.56576,     0.56675,     0.56801,      0.5691,     0.57049,     0.57232,     0.57398,     0.57511,     0.57718,     0.57883,     0.57995,     0.58051,     0.58239,      0.5839,     0.58542,     0.58685,      0.5879,     0.58944,     0.59081,\n",
       "            0.59305,     0.59381,     0.59536,     0.59694,     0.59805,     0.59913,     0.60062,     0.60197,     0.60279,     0.60365,     0.60524,     0.60642,     0.60815,      0.6093,     0.61086,     0.61276,     0.61427,     0.61541,      0.6161,     0.61707,     0.61812,     0.61914,     0.62068,\n",
       "            0.62192,      0.6234,     0.62438,     0.62555,      0.6264,     0.62781,     0.62911,     0.62975,     0.63173,     0.63353,     0.63459,     0.63636,     0.63769,     0.63868,     0.64017,     0.64149,     0.64245,     0.64438,     0.64604,     0.64664,     0.64735,     0.64901,     0.65027,\n",
       "             0.6513,     0.65244,     0.65311,     0.65466,     0.65609,      0.6565,     0.65729,     0.65782,     0.65888,     0.65999,     0.66154,     0.66271,     0.66363,     0.66469,     0.66607,     0.66738,     0.66826,     0.66942,     0.66981,     0.67094,     0.67135,     0.67256,     0.67361,\n",
       "            0.67521,     0.67696,     0.67829,     0.67938,     0.68027,     0.68138,     0.68246,     0.68365,     0.68477,     0.68586,     0.68638,     0.68703,      0.6878,     0.68865,     0.68954,     0.69042,     0.69183,      0.6927,     0.69329,     0.69472,     0.69569,     0.69652,     0.69754,\n",
       "            0.69825,     0.69923,     0.70012,     0.70125,     0.70235,     0.70265,     0.70359,     0.70408,     0.70502,     0.70563,     0.70649,     0.70702,     0.70824,     0.70896,      0.7099,     0.71109,     0.71264,     0.71297,     0.71404,     0.71504,     0.71598,     0.71734,     0.71733,\n",
       "            0.71817,     0.71923,      0.7207,     0.72215,     0.72335,     0.72474,     0.72521,     0.72668,     0.72715,     0.72849,     0.72918,     0.73019,      0.7317,     0.73294,     0.73339,      0.7342,     0.73506,     0.73588,     0.73732,     0.73839,     0.73933,     0.73963,      0.7407,\n",
       "            0.74198,     0.74225,     0.74361,     0.74543,     0.74624,      0.7477,     0.74819,     0.74947,     0.75013,     0.75104,     0.75249,     0.75376,     0.75456,     0.75553,     0.75594,     0.75694,     0.75782,     0.75903,     0.75962,     0.76058,     0.76177,     0.76303,     0.76443,\n",
       "            0.76544,     0.76709,     0.76821,     0.76948,     0.77072,     0.77115,     0.77201,      0.7723,     0.77311,     0.77444,     0.77502,     0.77596,     0.77689,      0.7771,     0.77794,     0.77814,     0.77947,     0.78036,     0.78091,     0.78162,     0.78313,     0.78314,     0.78409,\n",
       "             0.7846,      0.7853,     0.78636,     0.78719,     0.78798,     0.78859,     0.78981,     0.79188,     0.79285,     0.79356,      0.7946,     0.79509,     0.79578,     0.79649,      0.7969,     0.79849,     0.79943,     0.80036,     0.80156,     0.80312,     0.80428,       0.805,     0.80586,\n",
       "            0.80638,     0.80726,     0.80913,      0.8099,     0.81062,     0.81071,      0.8113,     0.81239,     0.81307,     0.81371,     0.81607,     0.81659,     0.81724,     0.81778,     0.81876,     0.81998,     0.82052,     0.82164,     0.82275,     0.82302,     0.82366,     0.82387,     0.82453,\n",
       "            0.82514,     0.82604,     0.82674,     0.82809,     0.82859,     0.82931,      0.8294,     0.83016,     0.83105,     0.83148,     0.83227,     0.83246,     0.83312,     0.83362,     0.83448,     0.83466,     0.83571,      0.8367,     0.83786,     0.83844,      0.8393,     0.84079,     0.84126,\n",
       "            0.84287,     0.84305,     0.84398,     0.84392,     0.84467,     0.84536,     0.84577,     0.84645,     0.84676,     0.84759,     0.84853,     0.84877,     0.84868,     0.84914,     0.85013,     0.85042,     0.85102,     0.85157,      0.8524,     0.85348,     0.85377,     0.85469,     0.85555,\n",
       "            0.85611,     0.85719,     0.85791,     0.85938,     0.86107,     0.86106,     0.86235,     0.86288,     0.86404,      0.8644,     0.86501,     0.86616,     0.86669,     0.86683,     0.86724,     0.86798,     0.86897,     0.86945,     0.86937,      0.8701,     0.87063,     0.87205,     0.87316,\n",
       "            0.87327,     0.87445,     0.87541,     0.87577,     0.87635,     0.87654,     0.87771,     0.87796,     0.87808,     0.87876,     0.87895,     0.87939,     0.87999,     0.88023,      0.8815,     0.88297,     0.88362,     0.88465,     0.88492,     0.88556,     0.88576,     0.88662,     0.88758,\n",
       "            0.88805,     0.88879,     0.88923,      0.8901,     0.89044,     0.89122,     0.89199,     0.89182,      0.8919,     0.89288,     0.89323,     0.89405,     0.89429,     0.89473,     0.89514,     0.89589,     0.89668,     0.89723,     0.89761,     0.89857,     0.89867,     0.89933,      0.9009,\n",
       "              0.901,     0.90213,     0.90367,      0.9036,     0.90374,     0.90437,     0.90521,     0.90633,     0.90693,     0.90756,     0.90819,     0.90873,     0.90891,     0.91069,     0.91136,     0.91148,     0.91201,     0.91201,     0.91217,     0.91277,     0.91316,     0.91334,     0.91363,\n",
       "            0.91417,     0.91483,     0.91624,     0.91658,     0.91656,     0.91722,     0.91728,     0.91821,     0.91904,     0.91921,     0.92012,     0.92046,     0.92111,     0.92234,     0.92282,     0.92374,      0.9247,     0.92534,     0.92612,     0.92622,     0.92616,      0.9266,     0.92675,\n",
       "             0.9273,     0.92778,     0.92846,     0.92919,     0.92964,     0.92993,     0.93083,     0.93171,     0.93169,     0.93236,     0.93284,     0.93359,     0.93384,     0.93487,     0.93516,     0.93526,     0.93585,     0.93604,     0.93601,     0.93742,     0.93793,     0.93812,     0.93798,\n",
       "            0.93824,      0.9387,     0.94015,     0.94036,     0.94074,     0.94131,     0.94108,     0.94256,     0.94267,     0.94295,     0.94281,     0.94336,     0.94389,     0.94447,     0.94529,     0.94548,     0.94574,      0.9469,     0.94718,     0.94831,     0.94843,     0.94867,     0.94919,\n",
       "            0.94942,     0.94915,     0.94968,     0.94951,     0.95006,     0.95061,     0.95045,     0.95164,      0.9517,     0.95243,     0.95269,     0.95286,     0.95308,     0.95399,     0.95466,     0.95518,     0.95544,     0.95635,     0.95693,     0.95691,     0.95742,     0.95791,     0.95821,\n",
       "            0.95815,     0.95905,     0.95893,      0.9602,     0.96079,     0.96099,     0.96083,     0.96072,     0.96057,     0.96124,     0.96187,      0.9626,     0.96399,     0.96419,     0.96479,     0.96506,     0.96534,     0.96562,     0.96593,     0.96652,     0.96715,      0.9679,      0.9682,\n",
       "            0.96827,     0.96883,     0.96875,     0.96863,     0.96894,     0.96885,     0.96918,     0.96939,     0.96924,     0.96999,     0.97134,     0.97184,     0.97173,     0.97198,     0.97228,     0.97216,     0.97205,      0.9728,      0.9736,     0.97391,     0.97431,     0.97449,     0.97446,\n",
       "            0.97483,     0.97557,     0.97592,     0.97627,     0.97719,     0.97739,     0.97731,     0.97724,     0.97757,     0.97752,     0.97743,     0.97728,     0.97767,     0.97753,     0.97791,     0.97828,     0.97818,     0.97852,     0.97842,     0.97932,     0.97969,      0.9801,     0.98001,\n",
       "             0.9804,     0.98084,     0.98124,     0.98211,     0.98203,     0.98247,     0.98289,     0.98333,     0.98327,     0.98311,     0.98349,     0.98519,     0.98659,      0.9865,      0.9864,     0.98688,     0.98683,     0.98676,     0.98718,     0.98708,     0.98757,     0.98752,     0.98786,\n",
       "            0.98917,     0.98975,     0.99029,     0.99024,     0.99077,     0.99073,     0.99125,     0.99119,     0.99179,     0.99171,     0.99165,     0.99225,     0.99222,     0.99217,     0.99208,     0.99334,     0.99328,     0.99389,     0.99383,     0.99379,     0.99377,      0.9937,     0.99459,\n",
       "            0.99501,     0.99498,     0.99496,     0.99491,     0.99488,     0.99482,     0.99479,     0.99473,     0.99544,     0.99539,     0.99536,     0.99531,     0.99525,     0.99681,     0.99676,     0.99674,      0.9967,     0.99667,     0.99664,     0.99659,     0.99654,     0.99649,     0.99642,\n",
       "            0.99638,     0.99636,     0.99631,      0.9972,     0.99811,     0.99808,     0.99806,     0.99803,     0.99801,     0.99799,     0.99795,     0.99793,      0.9979,     0.99788,     0.99785,     0.99782,     0.99779,     0.99777,     0.99772,     0.99768,     0.99765,      0.9976,     0.99757,\n",
       "            0.99753,     0.99749,     0.99746,     0.99744,      0.9974,     0.99737,     0.99734,      0.9973,     0.99726,     0.99861,     0.99858,     0.99855,     0.99852,     0.99849,     0.99847,     0.99845,           1,           1,           1,           1,           1,           1,           1,\n",
       "                  1,           1,           1,           1,           1,           1,           1,           1,           1,           1,           1,           1,           1,           1,           1,           1,           1,           1,           1,           1,           1,           1,           1,\n",
       "                  1,           1,           1,           1,           1,           1,           1,           1,           1,           1,           1,           1,           1,           1,           1,           1,           1,           1,           1,           1,           1,           1,           1,\n",
       "                  1,           1,           1,           1,           1,           1,           1,           1,           1,           1,           1,           1,           1,           1,           1,           1,           1,           1,           1,           1,           1,           1,           1,\n",
       "                  1,           1,           1,           1,           1,           1,           1,           1,           1,           1,           1,           1,           1,           1,           1,           1,           1,           1,           1,           1,           1,           1,           1,\n",
       "                  1,           1,           1,           1,           1,           1,           1,           1,           1,           1,           1,           1,           1,           1,           1,           1,           1,           1,           1,           1,           1,           1,           1,\n",
       "                  1,           1,           1,           1,           1,           1,           1,           1,           1,           1,           1,           1,           1,           1,           1,           1,           1,           1,           1,           1,           1,           1,           1,\n",
       "                  1,           1,           1,           1,           1,           1,           1,           1,           1,           1,           1,           1,           1,           1,           1,           1,           1,           1,           1,           1,           1,           1,           1,\n",
       "                  1,           1,           1,           1,           1,           1,           1,           1,           1,           1,           1,           1,           1,           1,           1,           1,           1,           1,           1,           1,           1,           1,           1,\n",
       "                  1,           1,           1,           1,           1,           1,           1,           1,           1,           1,           1,           1,           1,           1,           1,           1,           1,           1,           1,           1,           1,           1,           1,\n",
       "                  1,           1,           1,           1,           1,           1,           1,           1,           1,           1,           1]]), 'Confidence', 'Precision'], [array([          0,    0.001001,    0.002002,    0.003003,    0.004004,    0.005005,    0.006006,    0.007007,    0.008008,    0.009009,     0.01001,    0.011011,    0.012012,    0.013013,    0.014014,    0.015015,    0.016016,    0.017017,    0.018018,    0.019019,     0.02002,    0.021021,    0.022022,    0.023023,\n",
       "          0.024024,    0.025025,    0.026026,    0.027027,    0.028028,    0.029029,     0.03003,    0.031031,    0.032032,    0.033033,    0.034034,    0.035035,    0.036036,    0.037037,    0.038038,    0.039039,     0.04004,    0.041041,    0.042042,    0.043043,    0.044044,    0.045045,    0.046046,    0.047047,\n",
       "          0.048048,    0.049049,     0.05005,    0.051051,    0.052052,    0.053053,    0.054054,    0.055055,    0.056056,    0.057057,    0.058058,    0.059059,     0.06006,    0.061061,    0.062062,    0.063063,    0.064064,    0.065065,    0.066066,    0.067067,    0.068068,    0.069069,     0.07007,    0.071071,\n",
       "          0.072072,    0.073073,    0.074074,    0.075075,    0.076076,    0.077077,    0.078078,    0.079079,     0.08008,    0.081081,    0.082082,    0.083083,    0.084084,    0.085085,    0.086086,    0.087087,    0.088088,    0.089089,     0.09009,    0.091091,    0.092092,    0.093093,    0.094094,    0.095095,\n",
       "          0.096096,    0.097097,    0.098098,    0.099099,      0.1001,      0.1011,      0.1021,      0.1031,      0.1041,     0.10511,     0.10611,     0.10711,     0.10811,     0.10911,     0.11011,     0.11111,     0.11211,     0.11311,     0.11411,     0.11512,     0.11612,     0.11712,     0.11812,     0.11912,\n",
       "           0.12012,     0.12112,     0.12212,     0.12312,     0.12412,     0.12513,     0.12613,     0.12713,     0.12813,     0.12913,     0.13013,     0.13113,     0.13213,     0.13313,     0.13413,     0.13514,     0.13614,     0.13714,     0.13814,     0.13914,     0.14014,     0.14114,     0.14214,     0.14314,\n",
       "           0.14414,     0.14515,     0.14615,     0.14715,     0.14815,     0.14915,     0.15015,     0.15115,     0.15215,     0.15315,     0.15415,     0.15516,     0.15616,     0.15716,     0.15816,     0.15916,     0.16016,     0.16116,     0.16216,     0.16316,     0.16416,     0.16517,     0.16617,     0.16717,\n",
       "           0.16817,     0.16917,     0.17017,     0.17117,     0.17217,     0.17317,     0.17417,     0.17518,     0.17618,     0.17718,     0.17818,     0.17918,     0.18018,     0.18118,     0.18218,     0.18318,     0.18418,     0.18519,     0.18619,     0.18719,     0.18819,     0.18919,     0.19019,     0.19119,\n",
       "           0.19219,     0.19319,     0.19419,      0.1952,      0.1962,      0.1972,      0.1982,      0.1992,      0.2002,      0.2012,      0.2022,      0.2032,      0.2042,     0.20521,     0.20621,     0.20721,     0.20821,     0.20921,     0.21021,     0.21121,     0.21221,     0.21321,     0.21421,     0.21522,\n",
       "           0.21622,     0.21722,     0.21822,     0.21922,     0.22022,     0.22122,     0.22222,     0.22322,     0.22422,     0.22523,     0.22623,     0.22723,     0.22823,     0.22923,     0.23023,     0.23123,     0.23223,     0.23323,     0.23423,     0.23524,     0.23624,     0.23724,     0.23824,     0.23924,\n",
       "           0.24024,     0.24124,     0.24224,     0.24324,     0.24424,     0.24525,     0.24625,     0.24725,     0.24825,     0.24925,     0.25025,     0.25125,     0.25225,     0.25325,     0.25425,     0.25526,     0.25626,     0.25726,     0.25826,     0.25926,     0.26026,     0.26126,     0.26226,     0.26326,\n",
       "           0.26426,     0.26527,     0.26627,     0.26727,     0.26827,     0.26927,     0.27027,     0.27127,     0.27227,     0.27327,     0.27427,     0.27528,     0.27628,     0.27728,     0.27828,     0.27928,     0.28028,     0.28128,     0.28228,     0.28328,     0.28428,     0.28529,     0.28629,     0.28729,\n",
       "           0.28829,     0.28929,     0.29029,     0.29129,     0.29229,     0.29329,     0.29429,      0.2953,      0.2963,      0.2973,      0.2983,      0.2993,      0.3003,      0.3013,      0.3023,      0.3033,      0.3043,     0.30531,     0.30631,     0.30731,     0.30831,     0.30931,     0.31031,     0.31131,\n",
       "           0.31231,     0.31331,     0.31431,     0.31532,     0.31632,     0.31732,     0.31832,     0.31932,     0.32032,     0.32132,     0.32232,     0.32332,     0.32432,     0.32533,     0.32633,     0.32733,     0.32833,     0.32933,     0.33033,     0.33133,     0.33233,     0.33333,     0.33433,     0.33534,\n",
       "           0.33634,     0.33734,     0.33834,     0.33934,     0.34034,     0.34134,     0.34234,     0.34334,     0.34434,     0.34535,     0.34635,     0.34735,     0.34835,     0.34935,     0.35035,     0.35135,     0.35235,     0.35335,     0.35435,     0.35536,     0.35636,     0.35736,     0.35836,     0.35936,\n",
       "           0.36036,     0.36136,     0.36236,     0.36336,     0.36436,     0.36537,     0.36637,     0.36737,     0.36837,     0.36937,     0.37037,     0.37137,     0.37237,     0.37337,     0.37437,     0.37538,     0.37638,     0.37738,     0.37838,     0.37938,     0.38038,     0.38138,     0.38238,     0.38338,\n",
       "           0.38438,     0.38539,     0.38639,     0.38739,     0.38839,     0.38939,     0.39039,     0.39139,     0.39239,     0.39339,     0.39439,      0.3954,      0.3964,      0.3974,      0.3984,      0.3994,      0.4004,      0.4014,      0.4024,      0.4034,      0.4044,     0.40541,     0.40641,     0.40741,\n",
       "           0.40841,     0.40941,     0.41041,     0.41141,     0.41241,     0.41341,     0.41441,     0.41542,     0.41642,     0.41742,     0.41842,     0.41942,     0.42042,     0.42142,     0.42242,     0.42342,     0.42442,     0.42543,     0.42643,     0.42743,     0.42843,     0.42943,     0.43043,     0.43143,\n",
       "           0.43243,     0.43343,     0.43443,     0.43544,     0.43644,     0.43744,     0.43844,     0.43944,     0.44044,     0.44144,     0.44244,     0.44344,     0.44444,     0.44545,     0.44645,     0.44745,     0.44845,     0.44945,     0.45045,     0.45145,     0.45245,     0.45345,     0.45445,     0.45546,\n",
       "           0.45646,     0.45746,     0.45846,     0.45946,     0.46046,     0.46146,     0.46246,     0.46346,     0.46446,     0.46547,     0.46647,     0.46747,     0.46847,     0.46947,     0.47047,     0.47147,     0.47247,     0.47347,     0.47447,     0.47548,     0.47648,     0.47748,     0.47848,     0.47948,\n",
       "           0.48048,     0.48148,     0.48248,     0.48348,     0.48448,     0.48549,     0.48649,     0.48749,     0.48849,     0.48949,     0.49049,     0.49149,     0.49249,     0.49349,     0.49449,      0.4955,      0.4965,      0.4975,      0.4985,      0.4995,      0.5005,      0.5015,      0.5025,      0.5035,\n",
       "            0.5045,     0.50551,     0.50651,     0.50751,     0.50851,     0.50951,     0.51051,     0.51151,     0.51251,     0.51351,     0.51451,     0.51552,     0.51652,     0.51752,     0.51852,     0.51952,     0.52052,     0.52152,     0.52252,     0.52352,     0.52452,     0.52553,     0.52653,     0.52753,\n",
       "           0.52853,     0.52953,     0.53053,     0.53153,     0.53253,     0.53353,     0.53453,     0.53554,     0.53654,     0.53754,     0.53854,     0.53954,     0.54054,     0.54154,     0.54254,     0.54354,     0.54454,     0.54555,     0.54655,     0.54755,     0.54855,     0.54955,     0.55055,     0.55155,\n",
       "           0.55255,     0.55355,     0.55455,     0.55556,     0.55656,     0.55756,     0.55856,     0.55956,     0.56056,     0.56156,     0.56256,     0.56356,     0.56456,     0.56557,     0.56657,     0.56757,     0.56857,     0.56957,     0.57057,     0.57157,     0.57257,     0.57357,     0.57457,     0.57558,\n",
       "           0.57658,     0.57758,     0.57858,     0.57958,     0.58058,     0.58158,     0.58258,     0.58358,     0.58458,     0.58559,     0.58659,     0.58759,     0.58859,     0.58959,     0.59059,     0.59159,     0.59259,     0.59359,     0.59459,      0.5956,      0.5966,      0.5976,      0.5986,      0.5996,\n",
       "            0.6006,      0.6016,      0.6026,      0.6036,      0.6046,     0.60561,     0.60661,     0.60761,     0.60861,     0.60961,     0.61061,     0.61161,     0.61261,     0.61361,     0.61461,     0.61562,     0.61662,     0.61762,     0.61862,     0.61962,     0.62062,     0.62162,     0.62262,     0.62362,\n",
       "           0.62462,     0.62563,     0.62663,     0.62763,     0.62863,     0.62963,     0.63063,     0.63163,     0.63263,     0.63363,     0.63463,     0.63564,     0.63664,     0.63764,     0.63864,     0.63964,     0.64064,     0.64164,     0.64264,     0.64364,     0.64464,     0.64565,     0.64665,     0.64765,\n",
       "           0.64865,     0.64965,     0.65065,     0.65165,     0.65265,     0.65365,     0.65465,     0.65566,     0.65666,     0.65766,     0.65866,     0.65966,     0.66066,     0.66166,     0.66266,     0.66366,     0.66466,     0.66567,     0.66667,     0.66767,     0.66867,     0.66967,     0.67067,     0.67167,\n",
       "           0.67267,     0.67367,     0.67467,     0.67568,     0.67668,     0.67768,     0.67868,     0.67968,     0.68068,     0.68168,     0.68268,     0.68368,     0.68468,     0.68569,     0.68669,     0.68769,     0.68869,     0.68969,     0.69069,     0.69169,     0.69269,     0.69369,     0.69469,      0.6957,\n",
       "            0.6967,      0.6977,      0.6987,      0.6997,      0.7007,      0.7017,      0.7027,      0.7037,      0.7047,     0.70571,     0.70671,     0.70771,     0.70871,     0.70971,     0.71071,     0.71171,     0.71271,     0.71371,     0.71471,     0.71572,     0.71672,     0.71772,     0.71872,     0.71972,\n",
       "           0.72072,     0.72172,     0.72272,     0.72372,     0.72472,     0.72573,     0.72673,     0.72773,     0.72873,     0.72973,     0.73073,     0.73173,     0.73273,     0.73373,     0.73473,     0.73574,     0.73674,     0.73774,     0.73874,     0.73974,     0.74074,     0.74174,     0.74274,     0.74374,\n",
       "           0.74474,     0.74575,     0.74675,     0.74775,     0.74875,     0.74975,     0.75075,     0.75175,     0.75275,     0.75375,     0.75475,     0.75576,     0.75676,     0.75776,     0.75876,     0.75976,     0.76076,     0.76176,     0.76276,     0.76376,     0.76476,     0.76577,     0.76677,     0.76777,\n",
       "           0.76877,     0.76977,     0.77077,     0.77177,     0.77277,     0.77377,     0.77477,     0.77578,     0.77678,     0.77778,     0.77878,     0.77978,     0.78078,     0.78178,     0.78278,     0.78378,     0.78478,     0.78579,     0.78679,     0.78779,     0.78879,     0.78979,     0.79079,     0.79179,\n",
       "           0.79279,     0.79379,     0.79479,      0.7958,      0.7968,      0.7978,      0.7988,      0.7998,      0.8008,      0.8018,      0.8028,      0.8038,      0.8048,     0.80581,     0.80681,     0.80781,     0.80881,     0.80981,     0.81081,     0.81181,     0.81281,     0.81381,     0.81481,     0.81582,\n",
       "           0.81682,     0.81782,     0.81882,     0.81982,     0.82082,     0.82182,     0.82282,     0.82382,     0.82482,     0.82583,     0.82683,     0.82783,     0.82883,     0.82983,     0.83083,     0.83183,     0.83283,     0.83383,     0.83483,     0.83584,     0.83684,     0.83784,     0.83884,     0.83984,\n",
       "           0.84084,     0.84184,     0.84284,     0.84384,     0.84484,     0.84585,     0.84685,     0.84785,     0.84885,     0.84985,     0.85085,     0.85185,     0.85285,     0.85385,     0.85485,     0.85586,     0.85686,     0.85786,     0.85886,     0.85986,     0.86086,     0.86186,     0.86286,     0.86386,\n",
       "           0.86486,     0.86587,     0.86687,     0.86787,     0.86887,     0.86987,     0.87087,     0.87187,     0.87287,     0.87387,     0.87487,     0.87588,     0.87688,     0.87788,     0.87888,     0.87988,     0.88088,     0.88188,     0.88288,     0.88388,     0.88488,     0.88589,     0.88689,     0.88789,\n",
       "           0.88889,     0.88989,     0.89089,     0.89189,     0.89289,     0.89389,     0.89489,      0.8959,      0.8969,      0.8979,      0.8989,      0.8999,      0.9009,      0.9019,      0.9029,      0.9039,      0.9049,     0.90591,     0.90691,     0.90791,     0.90891,     0.90991,     0.91091,     0.91191,\n",
       "           0.91291,     0.91391,     0.91491,     0.91592,     0.91692,     0.91792,     0.91892,     0.91992,     0.92092,     0.92192,     0.92292,     0.92392,     0.92492,     0.92593,     0.92693,     0.92793,     0.92893,     0.92993,     0.93093,     0.93193,     0.93293,     0.93393,     0.93493,     0.93594,\n",
       "           0.93694,     0.93794,     0.93894,     0.93994,     0.94094,     0.94194,     0.94294,     0.94394,     0.94494,     0.94595,     0.94695,     0.94795,     0.94895,     0.94995,     0.95095,     0.95195,     0.95295,     0.95395,     0.95495,     0.95596,     0.95696,     0.95796,     0.95896,     0.95996,\n",
       "           0.96096,     0.96196,     0.96296,     0.96396,     0.96496,     0.96597,     0.96697,     0.96797,     0.96897,     0.96997,     0.97097,     0.97197,     0.97297,     0.97397,     0.97497,     0.97598,     0.97698,     0.97798,     0.97898,     0.97998,     0.98098,     0.98198,     0.98298,     0.98398,\n",
       "           0.98498,     0.98599,     0.98699,     0.98799,     0.98899,     0.98999,     0.99099,     0.99199,     0.99299,     0.99399,     0.99499,       0.996,       0.997,       0.998,       0.999,           1]), array([[    0.90433,     0.90433,       0.903,     0.90109,     0.89937,      0.8988,     0.89746,     0.89612,      0.8946,     0.89364,     0.89345,      0.8925,     0.89154,      0.8902,     0.88868,     0.88744,     0.88639,     0.88581,     0.88467,     0.88371,     0.88333,     0.88276,      0.8818,\n",
       "             0.8818,     0.88104,     0.88027,     0.88008,     0.87951,     0.87856,     0.87798,     0.87798,     0.87741,     0.87665,     0.87646,     0.87569,     0.87512,     0.87436,     0.87416,     0.87359,     0.87283,      0.8713,     0.87111,     0.87035,     0.86996,     0.86939,     0.86901,\n",
       "            0.86882,     0.86863,     0.86767,     0.86748,     0.86672,     0.86595,     0.86538,     0.86519,       0.865,     0.86404,     0.86366,     0.86328,      0.8629,      0.8629,      0.8629,     0.86271,     0.86252,     0.86194,     0.86118,     0.86099,     0.86042,     0.86042,     0.86003,\n",
       "            0.85965,     0.85908,     0.85851,     0.85812,     0.85717,     0.85641,     0.85622,     0.85602,     0.85526,     0.85488,      0.8545,     0.85431,     0.85335,      0.8524,     0.85201,     0.85087,     0.85049,     0.84991,     0.84934,     0.84915,     0.84896,     0.84896,     0.84868,\n",
       "            0.84858,     0.84858,     0.84762,     0.84686,     0.84667,     0.84629,      0.8461,     0.84571,      0.8453,     0.84476,     0.84438,     0.84399,     0.84399,     0.84361,     0.84342,     0.84304,     0.84266,     0.84247,     0.84228,      0.8417,     0.84151,     0.84132,     0.84075,\n",
       "            0.84018,     0.83979,     0.83979,     0.83884,     0.83827,     0.83769,     0.83712,     0.83674,     0.83636,     0.83578,      0.8354,      0.8354,     0.83502,     0.83502,     0.83464,     0.83447,     0.83407,     0.83387,     0.83387,     0.83387,     0.83368,     0.83311,     0.83235,\n",
       "            0.83196,     0.83101,     0.83101,     0.83063,     0.83044,     0.83006,      0.8299,      0.8291,     0.82834,     0.82815,     0.82757,       0.827,     0.82681,     0.82643,     0.82605,     0.82605,     0.82589,     0.82585,     0.82527,     0.82471,     0.82375,     0.82356,     0.82299,\n",
       "            0.82242,     0.82184,     0.82178,     0.82146,     0.82055,     0.82032,     0.82013,     0.81942,     0.81898,      0.8186,     0.81822,     0.81803,     0.81726,     0.81688,     0.81688,     0.81631,     0.81573,     0.81535,     0.81497,     0.81459,      0.8139,     0.81382,     0.81382,\n",
       "            0.81268,     0.81189,     0.81096,     0.81096,     0.81053,     0.80962,     0.80886,     0.80791,     0.80771,     0.80733,     0.80714,     0.80676,     0.80621,     0.80587,     0.80542,     0.80523,     0.80466,     0.80447,      0.8039,     0.80332,     0.80275,     0.80256,      0.8016,\n",
       "            0.80141,     0.80122,     0.80084,     0.80084,     0.79989,     0.79931,     0.79874,     0.79836,     0.79836,     0.79817,     0.79736,     0.79702,     0.79683,     0.79626,     0.79588,     0.79549,      0.7953,     0.79492,     0.79454,     0.79397,     0.79378,     0.79279,     0.79224,\n",
       "            0.79187,     0.79107,     0.79085,     0.79015,     0.78996,     0.78977,     0.78938,       0.789,     0.78862,     0.78821,     0.78747,     0.78671,     0.78613,     0.78556,      0.7848,     0.78442,     0.78423,     0.78289,     0.78232,      0.7815,     0.78041,     0.78019,     0.77907,\n",
       "            0.77852,     0.77775,     0.77735,     0.77671,     0.77602,     0.77525,     0.77487,     0.77411,     0.77373,     0.77353,     0.77324,     0.77277,      0.7722,     0.77182,     0.77105,     0.77008,     0.76972,     0.76857,     0.76838,     0.76801,     0.76798,     0.76762,     0.76762,\n",
       "            0.76723,     0.76704,     0.76648,     0.76628,     0.76532,     0.76475,     0.76361,     0.76318,     0.76265,     0.76227,     0.76227,     0.76208,      0.7617,     0.76131,     0.76057,     0.75999,     0.75979,      0.7596,     0.75902,     0.75883,     0.75826,     0.75807,     0.75769,\n",
       "            0.75711,     0.75711,     0.75626,     0.75597,     0.75539,      0.7552,     0.75463,     0.75425,     0.75348,     0.75329,      0.7531,      0.7531,     0.75267,     0.75138,     0.75057,     0.75005,     0.74985,     0.74928,     0.74909,     0.74871,     0.74833,     0.74737,     0.74685,\n",
       "            0.74633,      0.7459,     0.74573,     0.74515,      0.7447,     0.74451,     0.74413,     0.74356,     0.74356,     0.74279,      0.7424,     0.74203,     0.74146,     0.74062,     0.74012,     0.73998,     0.73975,     0.73949,     0.73916,     0.73859,     0.73821,     0.73821,     0.73794,\n",
       "            0.73706,     0.73668,     0.73668,     0.73541,     0.73476,     0.73363,     0.73286,     0.73257,     0.73172,     0.73114,     0.73057,     0.73026,     0.72981,     0.72962,     0.72923,     0.72847,     0.72809,     0.72732,     0.72675,     0.72637,      0.7258,     0.72437,     0.72389,\n",
       "            0.72266,     0.72217,      0.7216,     0.72115,     0.71997,      0.7195,     0.71852,     0.71759,     0.71682,     0.71606,     0.71536,     0.71442,       0.714,     0.71339,      0.7124,     0.71129,      0.7109,     0.70995,     0.70944,     0.70855,     0.70766,     0.70689,     0.70637,\n",
       "            0.70573,     0.70517,     0.70443,      0.7031,     0.70231,     0.70149,     0.70055,     0.69998,     0.69926,     0.69868,      0.6983,     0.69792,     0.69719,     0.69601,     0.69486,     0.69372,     0.69261,     0.69219,     0.69141,     0.69072,     0.69012,     0.68962,     0.68894,\n",
       "             0.6878,     0.68655,     0.68589,     0.68503,     0.68436,     0.68399,     0.68309,      0.6825,     0.68197,     0.68041,     0.67978,     0.67921,     0.67783,     0.67711,     0.67672,     0.67634,     0.67558,       0.674,     0.67228,      0.6715,     0.67081,     0.66985,     0.66906,\n",
       "            0.66843,     0.66794,     0.66737,     0.66633,     0.66508,     0.66427,     0.66335,     0.66209,     0.66126,     0.66016,      0.6586,     0.65714,     0.65648,     0.65553,     0.65485,     0.65405,     0.65285,     0.65171,     0.65045,     0.64942,     0.64865,      0.6477,     0.64674,\n",
       "            0.64636,     0.64555,     0.64464,     0.64337,     0.64247,      0.6414,     0.64022,     0.63913,     0.63834,     0.63665,     0.63579,     0.63486,     0.63414,     0.63293,     0.63261,       0.631,     0.62975,      0.6285,     0.62772,     0.62762,     0.62659,     0.62605,     0.62494,\n",
       "            0.62388,     0.62249,     0.62211,      0.6211,     0.62025,     0.61941,     0.61848,     0.61791,     0.61753,      0.6168,     0.61505,     0.61409,     0.61354,     0.61237,     0.61065,     0.60954,     0.60758,     0.60559,     0.60487,     0.60344,     0.60239,     0.60173,     0.60111,\n",
       "            0.59995,     0.59889,     0.59863,     0.59793,     0.59567,     0.59442,      0.5929,     0.59167,     0.58962,     0.58874,     0.58725,     0.58557,     0.58412,     0.58283,     0.58217,     0.58056,     0.57918,     0.57743,     0.57686,     0.57528,      0.5748,     0.57371,     0.57255,\n",
       "             0.5717,     0.57113,     0.57001,     0.56881,     0.56769,     0.56512,     0.56406,     0.56275,      0.5612,     0.56082,     0.55966,     0.55834,      0.5579,     0.55757,     0.55626,     0.55547,     0.55435,     0.55394,     0.55301,     0.55242,      0.5511,     0.55002,     0.54872,\n",
       "            0.54824,     0.54684,     0.54593,     0.54491,     0.54382,     0.54211,     0.53983,     0.53891,     0.53733,      0.5365,     0.53517,     0.53428,     0.53351,     0.53263,     0.53117,     0.52984,     0.52921,      0.5278,     0.52645,     0.52542,     0.52327,     0.52205,     0.52082,\n",
       "            0.51976,     0.51684,      0.5153,     0.51347,     0.51221,     0.51081,     0.50911,     0.50735,     0.50563,     0.50463,     0.50371,     0.50172,      0.5003,     0.49933,      0.4986,     0.49642,     0.49535,      0.4937,     0.49211,     0.49036,     0.48941,     0.48787,     0.48595,\n",
       "            0.48406,     0.48304,       0.481,     0.47915,     0.47723,     0.47507,     0.47312,     0.47168,     0.46987,     0.46821,     0.46722,     0.46611,     0.46522,     0.46266,     0.46045,     0.45884,     0.45733,     0.45581,     0.45274,     0.45198,     0.44977,     0.44903,     0.44759,\n",
       "            0.44663,     0.44508,     0.44396,     0.44227,     0.44087,     0.43946,     0.43841,     0.43533,      0.4332,     0.43116,     0.43002,      0.4284,     0.42663,     0.42387,     0.42201,     0.42006,     0.41844,     0.41656,     0.41542,     0.41338,     0.41272,     0.41073,     0.40803,\n",
       "            0.40672,     0.40421,      0.4025,     0.40067,     0.39832,      0.3963,     0.39484,     0.39356,     0.39112,     0.39019,     0.38863,     0.38602,     0.38456,     0.38218,     0.38045,     0.37841,     0.37656,     0.37406,      0.3723,     0.37076,     0.36841,     0.36683,     0.36501,\n",
       "            0.36293,     0.36169,     0.35954,     0.35646,     0.35483,     0.35308,     0.35095,     0.34908,     0.34795,     0.34445,     0.34128,     0.33951,     0.33728,     0.33494,     0.33233,     0.33031,     0.32911,     0.32719,     0.32352,     0.32092,     0.31852,     0.31736,     0.31602,\n",
       "            0.31392,     0.31339,     0.31174,     0.30995,     0.30761,     0.30596,     0.30301,     0.30086,     0.29985,     0.29692,     0.29476,     0.29341,     0.29226,     0.29052,     0.28699,     0.28476,      0.2822,     0.27958,     0.27686,     0.27513,     0.27393,     0.27114,     0.26867,\n",
       "            0.26649,     0.26502,     0.26361,     0.26151,     0.25974,     0.25666,       0.255,      0.2521,     0.25022,     0.24761,     0.24583,     0.24307,     0.24009,     0.23837,      0.2352,     0.23369,      0.2305,     0.22837,      0.2266,     0.22302,     0.22009,     0.21678,     0.21285,\n",
       "             0.2101,     0.20918,     0.20596,     0.20418,     0.20173,     0.19898,     0.19623,     0.19387,     0.19158,     0.18967,     0.18622,     0.18427,     0.18139,     0.17963,     0.17709,     0.17461,     0.17268,     0.17099,     0.16721,     0.16416,     0.16198,     0.15904,     0.15666,\n",
       "            0.15412,     0.15206,     0.15025,     0.14904,     0.14663,     0.14492,     0.14326,     0.14109,     0.13905,     0.13711,     0.13414,     0.13155,     0.12865,     0.12601,     0.12481,      0.1228,     0.12049,     0.11846,     0.11571,     0.11329,     0.11158,       0.109,     0.10682,\n",
       "            0.10314,     0.10026,    0.097806,     0.09491,    0.091471,    0.088678,    0.086563,     0.08381,    0.081504,    0.079095,    0.076695,    0.074108,    0.072319,    0.068769,    0.067133,    0.064882,    0.063125,    0.060638,    0.059067,     0.05707,    0.054702,    0.052653,    0.050637,\n",
       "           0.049003,    0.047401,    0.044719,    0.042545,    0.040484,    0.039609,    0.037034,    0.035613,    0.033286,    0.031688,    0.030796,    0.029487,    0.028181,    0.026754,    0.023926,    0.023261,    0.022348,    0.020968,    0.020024,     0.01986,    0.018335,    0.017439,    0.016858,\n",
       "           0.015462,    0.015242,    0.014043,    0.013793,    0.013066,    0.011773,    0.011293,    0.010096,   0.0093167,   0.0085068,   0.0081654,   0.0080294,   0.0071782,   0.0066458,   0.0057608,    0.005223,   0.0049504,   0.0048064,   0.0046165,   0.0043201,   0.0041901,   0.0040711,   0.0038988,\n",
       "          0.0035025,   0.0030899,   0.0027745,   0.0024031,   0.0022499,   0.0022045,   0.0021592,   0.0021138,   0.0020401,   0.0019546,   0.0018199,    0.001698,   0.0016539,   0.0016098,   0.0015657,   0.0014777,   0.0013087,   0.0012632,   0.0012177,   0.0011721,   0.0009361,  0.00088992,  0.00084375,\n",
       "         0.00079757,  0.00075467,  0.00072067,  0.00068668,  0.00065269,   0.0006187,   0.0005847,  0.00037616,   0.0003599,  0.00034363,  0.00032737,  0.00031111,  0.00029484,  0.00027858,  0.00026231,  0.00024605,  0.00022978,  0.00021352,  0.00019725,           0,           0,           0,           0,\n",
       "                  0,           0,           0,           0,           0,           0,           0,           0,           0,           0,           0,           0,           0,           0,           0,           0,           0,           0,           0,           0,           0,           0,           0,\n",
       "                  0,           0,           0,           0,           0,           0,           0,           0,           0,           0,           0,           0,           0,           0,           0,           0,           0,           0,           0,           0,           0,           0,           0,\n",
       "                  0,           0,           0,           0,           0,           0,           0,           0,           0,           0,           0,           0,           0,           0,           0,           0,           0,           0,           0,           0,           0,           0,           0,\n",
       "                  0,           0,           0,           0,           0,           0,           0,           0,           0,           0,           0,           0,           0,           0,           0,           0,           0,           0,           0,           0,           0,           0,           0,\n",
       "                  0,           0,           0,           0,           0,           0,           0,           0,           0,           0,           0]]), 'Confidence', 'Recall']]\n",
       "fitness: 0.42165573304251713\n",
       "keys: ['metrics/precision(B)', 'metrics/recall(B)', 'metrics/mAP50(B)', 'metrics/mAP50-95(B)']\n",
       "maps: array([    0.37839])\n",
       "names: {0: 'Apple'}\n",
       "plot: True\n",
       "results_dict: {'metrics/precision(B)': 0.817780694616507, 'metrics/recall(B)': 0.7296161924766087, 'metrics/mAP50(B)': 0.8110922402606127, 'metrics/mAP50-95(B)': 0.37838501001828423, 'fitness': 0.42165573304251713}\n",
       "save_dir: PosixPath('runs/detect/train25')\n",
       "speed: {'preprocess': 0.9720325469970703, 'inference': 1.9160758203534938, 'loss': 0.00019037901465572527, 'postprocess': 3.887631999912547}\n",
       "task: 'detect'"
      ]
     },
     "execution_count": 2,
     "metadata": {},
     "output_type": "execute_result"
    }
   ],
   "source": [
    "from ultralytics import YOLO\n",
    "import torch\n",
    "import os\n",
    "\n",
    "print(torch.cuda.is_available())\n",
    "\n",
    "torch.cuda.empty_cache()\n",
    "\n",
    "\n",
    "\n",
    "\n",
    "# Set the PyTorch CUDA allocation configuration\n",
    "os.environ[\"PYTORCH_CUDA_ALLOC_CONF\"] = \"max_split_size_mb:128\"\n",
    "\n",
    "# Verify the setting\n",
    "print(\"PYTORCH_CUDA_ALLOC_CONF:\", os.environ[\"PYTORCH_CUDA_ALLOC_CONF\"])\n",
    "\n",
    "# Now you can run your PyTorch code\n",
    "# For example:\n",
    "# model = YourModel()\n",
    "# output = model(input_tensor)\n",
    "\n",
    "# Check the current memory usage\n",
    "#print(torch.cuda.memory_summary())\n",
    "\n",
    "model = YOLO('yolov8n.pt')\n",
    "model=model.to('cuda')\n",
    "dat='data2.yaml'\n",
    "model.train(data=dat, epochs=120 , imgsz=640  ,amp=False )"
   ]
  },
  {
   "cell_type": "code",
   "execution_count": null,
   "id": "086fca61-eb9a-45cd-b927-a7d48d70121c",
   "metadata": {},
   "outputs": [],
   "source": [
    "!ls data.yaml"
   ]
  },
  {
   "cell_type": "code",
   "execution_count": null,
   "id": "5be2ccee-2fdc-4e81-b0c2-506c213b8b2f",
   "metadata": {},
   "outputs": [],
   "source": []
  },
  {
   "cell_type": "code",
   "execution_count": null,
   "id": "7c20be12-d9d6-4cc3-8dc2-9ea3b31f2474",
   "metadata": {},
   "outputs": [],
   "source": []
  }
 ],
 "metadata": {
  "kernelspec": {
   "display_name": "Python 3 (ipykernel)",
   "language": "python",
   "name": "python3"
  },
  "language_info": {
   "codemirror_mode": {
    "name": "ipython",
    "version": 3
   },
   "file_extension": ".py",
   "mimetype": "text/x-python",
   "name": "python",
   "nbconvert_exporter": "python",
   "pygments_lexer": "ipython3",
   "version": "3.10.11"
  }
 },
 "nbformat": 4,
 "nbformat_minor": 5
}
